{
 "cells": [
  {
   "cell_type": "code",
   "execution_count": 4,
   "id": "6f057a56-c2e4-4116-aaa0-7ddb44185e37",
   "metadata": {
    "tags": []
   },
   "outputs": [],
   "source": [
    "import pandas as pd\n",
    "import numpy as np"
   ]
  },
  {
   "cell_type": "code",
   "execution_count": 2,
   "id": "6de20bac-2d99-4c30-9b66-ae1df416366a",
   "metadata": {
    "tags": []
   },
   "outputs": [
    {
     "data": {
      "text/html": [
       "<div>\n",
       "<style scoped>\n",
       "    .dataframe tbody tr th:only-of-type {\n",
       "        vertical-align: middle;\n",
       "    }\n",
       "\n",
       "    .dataframe tbody tr th {\n",
       "        vertical-align: top;\n",
       "    }\n",
       "\n",
       "    .dataframe thead th {\n",
       "        text-align: right;\n",
       "    }\n",
       "</style>\n",
       "<table border=\"1\" class=\"dataframe\">\n",
       "  <thead>\n",
       "    <tr style=\"text-align: right;\">\n",
       "      <th></th>\n",
       "      <th>car_id</th>\n",
       "      <th>target_class</th>\n",
       "      <th>model_1</th>\n",
       "      <th>model_2</th>\n",
       "      <th>model_3</th>\n",
       "      <th>model_4</th>\n",
       "      <th>model_5</th>\n",
       "    </tr>\n",
       "  </thead>\n",
       "  <tbody>\n",
       "    <tr>\n",
       "      <th>0</th>\n",
       "      <td>car_0</td>\n",
       "      <td>NaN</td>\n",
       "      <td>electro_bug</td>\n",
       "      <td>gear_stick</td>\n",
       "      <td>electro_bug</td>\n",
       "      <td>electro_bug</td>\n",
       "      <td>engine_ignition</td>\n",
       "    </tr>\n",
       "    <tr>\n",
       "      <th>1</th>\n",
       "      <td>car_1</td>\n",
       "      <td>NaN</td>\n",
       "      <td>engine_check</td>\n",
       "      <td>engine_overheat</td>\n",
       "      <td>electro_bug</td>\n",
       "      <td>engine_overheat</td>\n",
       "      <td>engine_overheat</td>\n",
       "    </tr>\n",
       "    <tr>\n",
       "      <th>2</th>\n",
       "      <td>car_2</td>\n",
       "      <td>NaN</td>\n",
       "      <td>another_bug</td>\n",
       "      <td>electro_bug</td>\n",
       "      <td>engine_overheat</td>\n",
       "      <td>engine_overheat</td>\n",
       "      <td>gear_stick</td>\n",
       "    </tr>\n",
       "    <tr>\n",
       "      <th>3</th>\n",
       "      <td>car_3</td>\n",
       "      <td>NaN</td>\n",
       "      <td>electro_bug</td>\n",
       "      <td>electro_bug</td>\n",
       "      <td>electro_bug</td>\n",
       "      <td>wheel_shake</td>\n",
       "      <td>electro_bug</td>\n",
       "    </tr>\n",
       "    <tr>\n",
       "      <th>4</th>\n",
       "      <td>car_4</td>\n",
       "      <td>NaN</td>\n",
       "      <td>engine_ignition</td>\n",
       "      <td>another_bug</td>\n",
       "      <td>engine_check</td>\n",
       "      <td>engine_check</td>\n",
       "      <td>engine_check</td>\n",
       "    </tr>\n",
       "    <tr>\n",
       "      <th>...</th>\n",
       "      <td>...</td>\n",
       "      <td>...</td>\n",
       "      <td>...</td>\n",
       "      <td>...</td>\n",
       "      <td>...</td>\n",
       "      <td>...</td>\n",
       "      <td>...</td>\n",
       "    </tr>\n",
       "    <tr>\n",
       "      <th>1908</th>\n",
       "      <td>car_1908</td>\n",
       "      <td>NaN</td>\n",
       "      <td>break_bug</td>\n",
       "      <td>break_bug</td>\n",
       "      <td>engine_overheat</td>\n",
       "      <td>break_bug</td>\n",
       "      <td>another_bug</td>\n",
       "    </tr>\n",
       "    <tr>\n",
       "      <th>1909</th>\n",
       "      <td>car_1909</td>\n",
       "      <td>NaN</td>\n",
       "      <td>break_bug</td>\n",
       "      <td>break_bug</td>\n",
       "      <td>wheel_shake</td>\n",
       "      <td>break_bug</td>\n",
       "      <td>gear_stick</td>\n",
       "    </tr>\n",
       "    <tr>\n",
       "      <th>1910</th>\n",
       "      <td>car_1910</td>\n",
       "      <td>NaN</td>\n",
       "      <td>engine_overheat</td>\n",
       "      <td>engine_overheat</td>\n",
       "      <td>engine_overheat</td>\n",
       "      <td>engine_overheat</td>\n",
       "      <td>break_bug</td>\n",
       "    </tr>\n",
       "    <tr>\n",
       "      <th>1911</th>\n",
       "      <td>car_1911</td>\n",
       "      <td>NaN</td>\n",
       "      <td>engine_check</td>\n",
       "      <td>engine_check</td>\n",
       "      <td>engine_check</td>\n",
       "      <td>electro_bug</td>\n",
       "      <td>break_bug</td>\n",
       "    </tr>\n",
       "    <tr>\n",
       "      <th>1912</th>\n",
       "      <td>car_1912</td>\n",
       "      <td>NaN</td>\n",
       "      <td>break_bug</td>\n",
       "      <td>engine_check</td>\n",
       "      <td>another_bug</td>\n",
       "      <td>engine_check</td>\n",
       "      <td>wheel_shake</td>\n",
       "    </tr>\n",
       "  </tbody>\n",
       "</table>\n",
       "<p>1913 rows × 7 columns</p>\n",
       "</div>"
      ],
      "text/plain": [
       "        car_id  target_class          model_1          model_2  \\\n",
       "0        car_0           NaN      electro_bug       gear_stick   \n",
       "1        car_1           NaN     engine_check  engine_overheat   \n",
       "2        car_2           NaN      another_bug      electro_bug   \n",
       "3        car_3           NaN      electro_bug      electro_bug   \n",
       "4        car_4           NaN  engine_ignition      another_bug   \n",
       "...        ...           ...              ...              ...   \n",
       "1908  car_1908           NaN        break_bug        break_bug   \n",
       "1909  car_1909           NaN        break_bug        break_bug   \n",
       "1910  car_1910           NaN  engine_overheat  engine_overheat   \n",
       "1911  car_1911           NaN     engine_check     engine_check   \n",
       "1912  car_1912           NaN        break_bug     engine_check   \n",
       "\n",
       "              model_3          model_4          model_5  \n",
       "0         electro_bug      electro_bug  engine_ignition  \n",
       "1         electro_bug  engine_overheat  engine_overheat  \n",
       "2     engine_overheat  engine_overheat       gear_stick  \n",
       "3         electro_bug      wheel_shake      electro_bug  \n",
       "4        engine_check     engine_check     engine_check  \n",
       "...               ...              ...              ...  \n",
       "1908  engine_overheat        break_bug      another_bug  \n",
       "1909      wheel_shake        break_bug       gear_stick  \n",
       "1910  engine_overheat  engine_overheat        break_bug  \n",
       "1911     engine_check      electro_bug        break_bug  \n",
       "1912      another_bug     engine_check      wheel_shake  \n",
       "\n",
       "[1913 rows x 7 columns]"
      ]
     },
     "execution_count": 2,
     "metadata": {},
     "output_type": "execute_result"
    }
   ],
   "source": [
    "car_blend = pd.read_csv('make_hard_blend.csv')\n",
    "car_blend"
   ]
  },
  {
   "cell_type": "code",
   "execution_count": 20,
   "id": "5e760d92-3853-4215-9d74-e52fc53bb872",
   "metadata": {
    "tags": []
   },
   "outputs": [],
   "source": [
    "car_blend['target_class'] = car_blend.drop(columns=['car_id','target_class']).apply(lambda x: x.mode(), axis=1)[0]"
   ]
  },
  {
   "cell_type": "code",
   "execution_count": 22,
   "id": "31c752bf-6d37-478f-8eca-e0c24967b6ce",
   "metadata": {
    "tags": []
   },
   "outputs": [],
   "source": [
    "car_blend[['car_id', 'target_class']].to_csv('submission_car_blend.csv', index=False)"
   ]
  },
  {
   "cell_type": "code",
   "execution_count": 28,
   "id": "dbe4b57c-e751-4139-8d30-1b555d0a9e3c",
   "metadata": {
    "tags": []
   },
   "outputs": [],
   "source": [
    "cat_preds = pd.read_csv('catboost_preds.csv')"
   ]
  },
  {
   "cell_type": "code",
   "execution_count": 30,
   "id": "c66f9244-74d1-48d2-9e80-cdb96fb495e6",
   "metadata": {
    "tags": []
   },
   "outputs": [],
   "source": [
    "lgbm_preds = pd.read_csv('lgbm_preds.csv')\n",
    "xgb_preds = pd.read_csv('xgb_preds.csv')"
   ]
  },
  {
   "cell_type": "code",
   "execution_count": 31,
   "id": "9748365f-629f-4a35-ad08-95cd6dc3b505",
   "metadata": {
    "tags": []
   },
   "outputs": [
    {
     "data": {
      "text/html": [
       "<div>\n",
       "<style scoped>\n",
       "    .dataframe tbody tr th:only-of-type {\n",
       "        vertical-align: middle;\n",
       "    }\n",
       "\n",
       "    .dataframe tbody tr th {\n",
       "        vertical-align: top;\n",
       "    }\n",
       "\n",
       "    .dataframe thead th {\n",
       "        text-align: right;\n",
       "    }\n",
       "</style>\n",
       "<table border=\"1\" class=\"dataframe\">\n",
       "  <thead>\n",
       "    <tr style=\"text-align: right;\">\n",
       "      <th></th>\n",
       "      <th>another_bug_proba</th>\n",
       "      <th>break_bug_proba</th>\n",
       "      <th>electro_bug_proba</th>\n",
       "      <th>engine_check_proba</th>\n",
       "      <th>engine_fuel_proba</th>\n",
       "      <th>engine_ignition_proba</th>\n",
       "      <th>engine_overheat_proba</th>\n",
       "      <th>gear_stick_proba</th>\n",
       "      <th>wheel_shake_proba</th>\n",
       "    </tr>\n",
       "  </thead>\n",
       "  <tbody>\n",
       "    <tr>\n",
       "      <th>0</th>\n",
       "      <td>0.337219</td>\n",
       "      <td>0.344227</td>\n",
       "      <td>0.353973</td>\n",
       "      <td>0.314100</td>\n",
       "      <td>0.346557</td>\n",
       "      <td>0.322595</td>\n",
       "      <td>0.336272</td>\n",
       "      <td>0.352935</td>\n",
       "      <td>0.292123</td>\n",
       "    </tr>\n",
       "    <tr>\n",
       "      <th>1</th>\n",
       "      <td>0.479751</td>\n",
       "      <td>0.442886</td>\n",
       "      <td>0.292707</td>\n",
       "      <td>0.333411</td>\n",
       "      <td>0.280346</td>\n",
       "      <td>0.284728</td>\n",
       "      <td>0.328361</td>\n",
       "      <td>0.325581</td>\n",
       "      <td>0.232230</td>\n",
       "    </tr>\n",
       "    <tr>\n",
       "      <th>2</th>\n",
       "      <td>0.348240</td>\n",
       "      <td>0.342305</td>\n",
       "      <td>0.317633</td>\n",
       "      <td>0.329424</td>\n",
       "      <td>0.307271</td>\n",
       "      <td>0.362316</td>\n",
       "      <td>0.348468</td>\n",
       "      <td>0.359000</td>\n",
       "      <td>0.285343</td>\n",
       "    </tr>\n",
       "    <tr>\n",
       "      <th>3</th>\n",
       "      <td>0.339210</td>\n",
       "      <td>0.347235</td>\n",
       "      <td>0.317740</td>\n",
       "      <td>0.374427</td>\n",
       "      <td>0.301501</td>\n",
       "      <td>0.341304</td>\n",
       "      <td>0.311298</td>\n",
       "      <td>0.377495</td>\n",
       "      <td>0.289790</td>\n",
       "    </tr>\n",
       "    <tr>\n",
       "      <th>4</th>\n",
       "      <td>0.359307</td>\n",
       "      <td>0.372359</td>\n",
       "      <td>0.335765</td>\n",
       "      <td>0.314143</td>\n",
       "      <td>0.331229</td>\n",
       "      <td>0.346983</td>\n",
       "      <td>0.335586</td>\n",
       "      <td>0.364043</td>\n",
       "      <td>0.240584</td>\n",
       "    </tr>\n",
       "    <tr>\n",
       "      <th>...</th>\n",
       "      <td>...</td>\n",
       "      <td>...</td>\n",
       "      <td>...</td>\n",
       "      <td>...</td>\n",
       "      <td>...</td>\n",
       "      <td>...</td>\n",
       "      <td>...</td>\n",
       "      <td>...</td>\n",
       "      <td>...</td>\n",
       "    </tr>\n",
       "    <tr>\n",
       "      <th>580</th>\n",
       "      <td>0.369099</td>\n",
       "      <td>0.341373</td>\n",
       "      <td>0.305871</td>\n",
       "      <td>0.342375</td>\n",
       "      <td>0.330898</td>\n",
       "      <td>0.326672</td>\n",
       "      <td>0.325671</td>\n",
       "      <td>0.366269</td>\n",
       "      <td>0.291773</td>\n",
       "    </tr>\n",
       "    <tr>\n",
       "      <th>581</th>\n",
       "      <td>0.339598</td>\n",
       "      <td>0.333036</td>\n",
       "      <td>0.288180</td>\n",
       "      <td>0.336054</td>\n",
       "      <td>0.308584</td>\n",
       "      <td>0.371604</td>\n",
       "      <td>0.303122</td>\n",
       "      <td>0.416257</td>\n",
       "      <td>0.303565</td>\n",
       "    </tr>\n",
       "    <tr>\n",
       "      <th>582</th>\n",
       "      <td>0.331052</td>\n",
       "      <td>0.395528</td>\n",
       "      <td>0.270822</td>\n",
       "      <td>0.383494</td>\n",
       "      <td>0.339379</td>\n",
       "      <td>0.317954</td>\n",
       "      <td>0.315611</td>\n",
       "      <td>0.353631</td>\n",
       "      <td>0.292527</td>\n",
       "    </tr>\n",
       "    <tr>\n",
       "      <th>583</th>\n",
       "      <td>0.324123</td>\n",
       "      <td>0.358697</td>\n",
       "      <td>0.324760</td>\n",
       "      <td>0.341667</td>\n",
       "      <td>0.334138</td>\n",
       "      <td>0.321043</td>\n",
       "      <td>0.351365</td>\n",
       "      <td>0.364555</td>\n",
       "      <td>0.279653</td>\n",
       "    </tr>\n",
       "    <tr>\n",
       "      <th>584</th>\n",
       "      <td>0.349315</td>\n",
       "      <td>0.322591</td>\n",
       "      <td>0.336956</td>\n",
       "      <td>0.310356</td>\n",
       "      <td>0.332320</td>\n",
       "      <td>0.335514</td>\n",
       "      <td>0.325266</td>\n",
       "      <td>0.367140</td>\n",
       "      <td>0.320544</td>\n",
       "    </tr>\n",
       "  </tbody>\n",
       "</table>\n",
       "<p>585 rows × 9 columns</p>\n",
       "</div>"
      ],
      "text/plain": [
       "     another_bug_proba  break_bug_proba  electro_bug_proba  \\\n",
       "0             0.337219         0.344227           0.353973   \n",
       "1             0.479751         0.442886           0.292707   \n",
       "2             0.348240         0.342305           0.317633   \n",
       "3             0.339210         0.347235           0.317740   \n",
       "4             0.359307         0.372359           0.335765   \n",
       "..                 ...              ...                ...   \n",
       "580           0.369099         0.341373           0.305871   \n",
       "581           0.339598         0.333036           0.288180   \n",
       "582           0.331052         0.395528           0.270822   \n",
       "583           0.324123         0.358697           0.324760   \n",
       "584           0.349315         0.322591           0.336956   \n",
       "\n",
       "     engine_check_proba  engine_fuel_proba  engine_ignition_proba  \\\n",
       "0              0.314100           0.346557               0.322595   \n",
       "1              0.333411           0.280346               0.284728   \n",
       "2              0.329424           0.307271               0.362316   \n",
       "3              0.374427           0.301501               0.341304   \n",
       "4              0.314143           0.331229               0.346983   \n",
       "..                  ...                ...                    ...   \n",
       "580            0.342375           0.330898               0.326672   \n",
       "581            0.336054           0.308584               0.371604   \n",
       "582            0.383494           0.339379               0.317954   \n",
       "583            0.341667           0.334138               0.321043   \n",
       "584            0.310356           0.332320               0.335514   \n",
       "\n",
       "     engine_overheat_proba  gear_stick_proba  wheel_shake_proba  \n",
       "0                 0.336272          0.352935           0.292123  \n",
       "1                 0.328361          0.325581           0.232230  \n",
       "2                 0.348468          0.359000           0.285343  \n",
       "3                 0.311298          0.377495           0.289790  \n",
       "4                 0.335586          0.364043           0.240584  \n",
       "..                     ...               ...                ...  \n",
       "580               0.325671          0.366269           0.291773  \n",
       "581               0.303122          0.416257           0.303565  \n",
       "582               0.315611          0.353631           0.292527  \n",
       "583               0.351365          0.364555           0.279653  \n",
       "584               0.325266          0.367140           0.320544  \n",
       "\n",
       "[585 rows x 9 columns]"
      ]
     },
     "execution_count": 31,
     "metadata": {},
     "output_type": "execute_result"
    }
   ],
   "source": [
    "tot_preds = cat_preds + lgbm_preds + xgb_preds\n",
    "tot_preds"
   ]
  },
  {
   "cell_type": "code",
   "execution_count": 34,
   "id": "d1feb452-3d38-4d9b-ae17-6e0f9259c014",
   "metadata": {
    "tags": []
   },
   "outputs": [
    {
     "data": {
      "text/plain": [
       "Index(['another_bug_proba', 'break_bug_proba', 'electro_bug_proba',\n",
       "       'engine_check_proba', 'engine_fuel_proba', 'engine_ignition_proba',\n",
       "       'engine_overheat_proba', 'gear_stick_proba', 'wheel_shake_proba'],\n",
       "      dtype='object')"
      ]
     },
     "execution_count": 34,
     "metadata": {},
     "output_type": "execute_result"
    }
   ],
   "source": [
    "fails = tot_preds.columns\n",
    "fails"
   ]
  },
  {
   "cell_type": "code",
   "execution_count": 47,
   "id": "ff5455cd-9f26-4179-ab7f-5dc1c1b8680b",
   "metadata": {
    "tags": []
   },
   "outputs": [],
   "source": [
    "pd.DataFrame(tot_preds.idxmax(axis=1).str.replace('_proba', ''), columns=['soft_preds']).to_csv('sub_total_preds.csv', index=False)"
   ]
  },
  {
   "cell_type": "code",
   "execution_count": 49,
   "id": "8f2acef1-514d-4193-ab4e-84bcaac495a4",
   "metadata": {
    "tags": []
   },
   "outputs": [
    {
     "data": {
      "text/html": [
       "<div>\n",
       "<style scoped>\n",
       "    .dataframe tbody tr th:only-of-type {\n",
       "        vertical-align: middle;\n",
       "    }\n",
       "\n",
       "    .dataframe tbody tr th {\n",
       "        vertical-align: top;\n",
       "    }\n",
       "\n",
       "    .dataframe thead th {\n",
       "        text-align: right;\n",
       "    }\n",
       "</style>\n",
       "<table border=\"1\" class=\"dataframe\">\n",
       "  <thead>\n",
       "    <tr style=\"text-align: right;\">\n",
       "      <th></th>\n",
       "      <th>id</th>\n",
       "      <th>proba</th>\n",
       "    </tr>\n",
       "  </thead>\n",
       "  <tbody>\n",
       "    <tr>\n",
       "      <th>0</th>\n",
       "      <td>0</td>\n",
       "      <td>0.374540</td>\n",
       "    </tr>\n",
       "    <tr>\n",
       "      <th>1</th>\n",
       "      <td>1</td>\n",
       "      <td>0.950714</td>\n",
       "    </tr>\n",
       "    <tr>\n",
       "      <th>2</th>\n",
       "      <td>2</td>\n",
       "      <td>0.731994</td>\n",
       "    </tr>\n",
       "    <tr>\n",
       "      <th>3</th>\n",
       "      <td>3</td>\n",
       "      <td>0.598658</td>\n",
       "    </tr>\n",
       "    <tr>\n",
       "      <th>4</th>\n",
       "      <td>4</td>\n",
       "      <td>0.156019</td>\n",
       "    </tr>\n",
       "  </tbody>\n",
       "</table>\n",
       "</div>"
      ],
      "text/plain": [
       "   id     proba\n",
       "0   0  0.374540\n",
       "1   1  0.950714\n",
       "2   2  0.731994\n",
       "3   3  0.598658\n",
       "4   4  0.156019"
      ]
     },
     "execution_count": 49,
     "metadata": {},
     "output_type": "execute_result"
    }
   ],
   "source": [
    "rank = pd.DataFrame({'id': [0, 1, 2, 3, 4], 'proba': [.374540, .950714, .731994, .598658, .156019]})\n",
    "rank"
   ]
  },
  {
   "cell_type": "code",
   "execution_count": 89,
   "id": "294bf82d-4918-4761-9879-f2d44e4abac1",
   "metadata": {
    "tags": []
   },
   "outputs": [
    {
     "data": {
      "text/plain": [
       "0    0.4\n",
       "1    1.0\n",
       "2    0.8\n",
       "3    0.6\n",
       "4    0.2\n",
       "Name: normalized_proba, dtype: float64"
      ]
     },
     "execution_count": 89,
     "metadata": {},
     "output_type": "execute_result"
    }
   ],
   "source": [
    "rank_new = rank.sort_values(by='proba').reset_index(drop=True).reset_index().rename(columns={'index': 'normalized_proba'})\n",
    "rank_new['normalized_proba'] = rank_new['normalized_proba'].add(1).div(len(rank_new))\n",
    "rank_new.set_index('id').sort_index().reset_index()['normalized_proba']"
   ]
  },
  {
   "cell_type": "code",
   "execution_count": 94,
   "id": "68a0d662-0680-41ff-b9fb-fa60d884b35a",
   "metadata": {
    "tags": []
   },
   "outputs": [
    {
     "data": {
      "text/plain": [
       "0    0.4\n",
       "1    1.0\n",
       "2    0.8\n",
       "3    0.6\n",
       "4    0.2\n",
       "Name: proba, dtype: float64"
      ]
     },
     "execution_count": 94,
     "metadata": {},
     "output_type": "execute_result"
    }
   ],
   "source": [
    "rank['proba'].rank(pct=1)"
   ]
  },
  {
   "cell_type": "code",
   "execution_count": 97,
   "id": "1cb77b73-c552-48df-a208-9213c3f64e41",
   "metadata": {
    "tags": []
   },
   "outputs": [
    {
     "data": {
      "text/html": [
       "<div>\n",
       "<style scoped>\n",
       "    .dataframe tbody tr th:only-of-type {\n",
       "        vertical-align: middle;\n",
       "    }\n",
       "\n",
       "    .dataframe tbody tr th {\n",
       "        vertical-align: top;\n",
       "    }\n",
       "\n",
       "    .dataframe thead th {\n",
       "        text-align: right;\n",
       "    }\n",
       "</style>\n",
       "<table border=\"1\" class=\"dataframe\">\n",
       "  <thead>\n",
       "    <tr style=\"text-align: right;\">\n",
       "      <th></th>\n",
       "      <th>id</th>\n",
       "      <th>proba1</th>\n",
       "      <th>proba2</th>\n",
       "    </tr>\n",
       "  </thead>\n",
       "  <tbody>\n",
       "    <tr>\n",
       "      <th>0</th>\n",
       "      <td>0</td>\n",
       "      <td>0.374540</td>\n",
       "      <td>0.374540</td>\n",
       "    </tr>\n",
       "    <tr>\n",
       "      <th>1</th>\n",
       "      <td>1</td>\n",
       "      <td>0.950714</td>\n",
       "      <td>0.950714</td>\n",
       "    </tr>\n",
       "    <tr>\n",
       "      <th>2</th>\n",
       "      <td>2</td>\n",
       "      <td>0.731994</td>\n",
       "      <td>0.731994</td>\n",
       "    </tr>\n",
       "    <tr>\n",
       "      <th>3</th>\n",
       "      <td>3</td>\n",
       "      <td>0.598658</td>\n",
       "      <td>0.598658</td>\n",
       "    </tr>\n",
       "    <tr>\n",
       "      <th>4</th>\n",
       "      <td>4</td>\n",
       "      <td>0.156019</td>\n",
       "      <td>0.156019</td>\n",
       "    </tr>\n",
       "  </tbody>\n",
       "</table>\n",
       "</div>"
      ],
      "text/plain": [
       "   id    proba1    proba2\n",
       "0   0  0.374540  0.374540\n",
       "1   1  0.950714  0.950714\n",
       "2   2  0.731994  0.731994\n",
       "3   3  0.598658  0.598658\n",
       "4   4  0.156019  0.156019"
      ]
     },
     "execution_count": 97,
     "metadata": {},
     "output_type": "execute_result"
    }
   ],
   "source": [
    "rank2 = pd.DataFrame({'id': [0, 1, 2, 3, 4],\n",
    "              'proba1': [.374540, .950714, .731994, .598658, .156019],\n",
    "              'proba2': [.374540, .950714, .731994, .598658, .156019]})\n",
    "rank2"
   ]
  },
  {
   "cell_type": "code",
   "execution_count": 101,
   "id": "8df9aa28-88be-4521-a5c0-4dd72c5ecde0",
   "metadata": {
    "tags": []
   },
   "outputs": [
    {
     "data": {
      "text/plain": [
       "0    0.4\n",
       "1    1.0\n",
       "2    0.8\n",
       "3    0.6\n",
       "4    0.2\n",
       "dtype: float64"
      ]
     },
     "execution_count": 101,
     "metadata": {},
     "output_type": "execute_result"
    }
   ],
   "source": [
    "rank2[['proba1','proba2']].rank(pct=1).mean(axis=1)"
   ]
  },
  {
   "cell_type": "markdown",
   "id": "9bda1ef6-3e11-40dd-b918-c9573225bb5b",
   "metadata": {
    "tags": []
   },
   "source": [
    "### Stacking"
   ]
  },
  {
   "cell_type": "markdown",
   "id": "760184ee-62d1-4672-9920-b3d293777561",
   "metadata": {},
   "source": [
    "#### Классифицируем тексты"
   ]
  },
  {
   "cell_type": "code",
   "execution_count": 6,
   "id": "91796173-d511-4395-8bc9-ac3ee0821e8b",
   "metadata": {},
   "outputs": [
    {
     "data": {
      "text/html": [
       "<div>\n",
       "<style scoped>\n",
       "    .dataframe tbody tr th:only-of-type {\n",
       "        vertical-align: middle;\n",
       "    }\n",
       "\n",
       "    .dataframe tbody tr th {\n",
       "        vertical-align: top;\n",
       "    }\n",
       "\n",
       "    .dataframe thead th {\n",
       "        text-align: right;\n",
       "    }\n",
       "</style>\n",
       "<table border=\"1\" class=\"dataframe\">\n",
       "  <thead>\n",
       "    <tr style=\"text-align: right;\">\n",
       "      <th></th>\n",
       "      <th>category</th>\n",
       "      <th>text</th>\n",
       "      <th>ruBert-base_text_feature_0</th>\n",
       "      <th>ruBert-base_text_feature_1</th>\n",
       "      <th>ruBert-base_text_feature_2</th>\n",
       "      <th>ruBert-base_text_feature_3</th>\n",
       "      <th>ruBert-base_text_feature_4</th>\n",
       "      <th>ruBert-base_text_feature_5</th>\n",
       "      <th>ruBert-base_text_feature_6</th>\n",
       "      <th>ruBert-base_text_feature_7</th>\n",
       "      <th>...</th>\n",
       "      <th>labse_text_feature_758</th>\n",
       "      <th>labse_text_feature_759</th>\n",
       "      <th>labse_text_feature_760</th>\n",
       "      <th>labse_text_feature_761</th>\n",
       "      <th>labse_text_feature_762</th>\n",
       "      <th>labse_text_feature_763</th>\n",
       "      <th>labse_text_feature_764</th>\n",
       "      <th>labse_text_feature_765</th>\n",
       "      <th>labse_text_feature_766</th>\n",
       "      <th>labse_text_feature_767</th>\n",
       "    </tr>\n",
       "  </thead>\n",
       "  <tbody>\n",
       "    <tr>\n",
       "      <th>0</th>\n",
       "      <td>extreme</td>\n",
       "      <td>Ледник Пасторури это цирковой ледник расположе...</td>\n",
       "      <td>0.272156</td>\n",
       "      <td>0.155383</td>\n",
       "      <td>0.060285</td>\n",
       "      <td>0.363159</td>\n",
       "      <td>-0.140391</td>\n",
       "      <td>0.507753</td>\n",
       "      <td>-0.226326</td>\n",
       "      <td>0.431878</td>\n",
       "      <td>...</td>\n",
       "      <td>-0.045795</td>\n",
       "      <td>-0.027475</td>\n",
       "      <td>0.030528</td>\n",
       "      <td>-0.052218</td>\n",
       "      <td>0.042459</td>\n",
       "      <td>-0.012714</td>\n",
       "      <td>-0.055370</td>\n",
       "      <td>-0.012433</td>\n",
       "      <td>-0.016283</td>\n",
       "      <td>-0.006994</td>\n",
       "    </tr>\n",
       "    <tr>\n",
       "      <th>1</th>\n",
       "      <td>martial_arts</td>\n",
       "      <td>Главные участники предстоящего Betokenoid 274 ...</td>\n",
       "      <td>0.439223</td>\n",
       "      <td>0.343683</td>\n",
       "      <td>0.093642</td>\n",
       "      <td>0.245294</td>\n",
       "      <td>0.089770</td>\n",
       "      <td>0.424717</td>\n",
       "      <td>-0.071487</td>\n",
       "      <td>0.185970</td>\n",
       "      <td>...</td>\n",
       "      <td>-0.022664</td>\n",
       "      <td>0.042258</td>\n",
       "      <td>-0.027394</td>\n",
       "      <td>-0.033566</td>\n",
       "      <td>0.016021</td>\n",
       "      <td>-0.022054</td>\n",
       "      <td>-0.040366</td>\n",
       "      <td>0.007392</td>\n",
       "      <td>-0.029070</td>\n",
       "      <td>-0.011284</td>\n",
       "    </tr>\n",
       "    <tr>\n",
       "      <th>2</th>\n",
       "      <td>extreme</td>\n",
       "      <td>Ttokenoid Btokenoid – карта с которой можно не...</td>\n",
       "      <td>-0.040338</td>\n",
       "      <td>0.058095</td>\n",
       "      <td>-0.091063</td>\n",
       "      <td>0.296028</td>\n",
       "      <td>-0.137103</td>\n",
       "      <td>0.931456</td>\n",
       "      <td>-0.169060</td>\n",
       "      <td>0.131503</td>\n",
       "      <td>...</td>\n",
       "      <td>-0.009464</td>\n",
       "      <td>0.011548</td>\n",
       "      <td>-0.046034</td>\n",
       "      <td>0.024588</td>\n",
       "      <td>-0.013670</td>\n",
       "      <td>-0.047028</td>\n",
       "      <td>0.009395</td>\n",
       "      <td>-0.000488</td>\n",
       "      <td>-0.060260</td>\n",
       "      <td>0.006563</td>\n",
       "    </tr>\n",
       "    <tr>\n",
       "      <th>3</th>\n",
       "      <td>autosport</td>\n",
       "      <td>В Сильверстоуне произошли крупные обновления а...</td>\n",
       "      <td>0.444181</td>\n",
       "      <td>0.218742</td>\n",
       "      <td>0.247859</td>\n",
       "      <td>0.234885</td>\n",
       "      <td>0.006668</td>\n",
       "      <td>0.407703</td>\n",
       "      <td>-0.115768</td>\n",
       "      <td>0.433781</td>\n",
       "      <td>...</td>\n",
       "      <td>-0.045474</td>\n",
       "      <td>-0.043454</td>\n",
       "      <td>-0.000961</td>\n",
       "      <td>-0.012203</td>\n",
       "      <td>-0.047922</td>\n",
       "      <td>-0.054657</td>\n",
       "      <td>-0.053768</td>\n",
       "      <td>0.018481</td>\n",
       "      <td>-0.039148</td>\n",
       "      <td>-0.038874</td>\n",
       "    </tr>\n",
       "    <tr>\n",
       "      <th>4</th>\n",
       "      <td>extreme</td>\n",
       "      <td>На протяжении более чем 30 лет Вестсайд являет...</td>\n",
       "      <td>-0.126253</td>\n",
       "      <td>-0.115856</td>\n",
       "      <td>0.131131</td>\n",
       "      <td>0.052595</td>\n",
       "      <td>0.060591</td>\n",
       "      <td>0.420976</td>\n",
       "      <td>0.090776</td>\n",
       "      <td>0.246287</td>\n",
       "      <td>...</td>\n",
       "      <td>0.004818</td>\n",
       "      <td>-0.008138</td>\n",
       "      <td>-0.013958</td>\n",
       "      <td>-0.038482</td>\n",
       "      <td>-0.002943</td>\n",
       "      <td>-0.035970</td>\n",
       "      <td>-0.010830</td>\n",
       "      <td>-0.005132</td>\n",
       "      <td>-0.047990</td>\n",
       "      <td>-0.005869</td>\n",
       "    </tr>\n",
       "  </tbody>\n",
       "</table>\n",
       "<p>5 rows × 2618 columns</p>\n",
       "</div>"
      ],
      "text/plain": [
       "       category                                               text  \\\n",
       "0       extreme  Ледник Пасторури это цирковой ледник расположе...   \n",
       "1  martial_arts  Главные участники предстоящего Betokenoid 274 ...   \n",
       "2       extreme  Ttokenoid Btokenoid – карта с которой можно не...   \n",
       "3     autosport  В Сильверстоуне произошли крупные обновления а...   \n",
       "4       extreme  На протяжении более чем 30 лет Вестсайд являет...   \n",
       "\n",
       "   ruBert-base_text_feature_0  ruBert-base_text_feature_1  \\\n",
       "0                    0.272156                    0.155383   \n",
       "1                    0.439223                    0.343683   \n",
       "2                   -0.040338                    0.058095   \n",
       "3                    0.444181                    0.218742   \n",
       "4                   -0.126253                   -0.115856   \n",
       "\n",
       "   ruBert-base_text_feature_2  ruBert-base_text_feature_3  \\\n",
       "0                    0.060285                    0.363159   \n",
       "1                    0.093642                    0.245294   \n",
       "2                   -0.091063                    0.296028   \n",
       "3                    0.247859                    0.234885   \n",
       "4                    0.131131                    0.052595   \n",
       "\n",
       "   ruBert-base_text_feature_4  ruBert-base_text_feature_5  \\\n",
       "0                   -0.140391                    0.507753   \n",
       "1                    0.089770                    0.424717   \n",
       "2                   -0.137103                    0.931456   \n",
       "3                    0.006668                    0.407703   \n",
       "4                    0.060591                    0.420976   \n",
       "\n",
       "   ruBert-base_text_feature_6  ruBert-base_text_feature_7  ...  \\\n",
       "0                   -0.226326                    0.431878  ...   \n",
       "1                   -0.071487                    0.185970  ...   \n",
       "2                   -0.169060                    0.131503  ...   \n",
       "3                   -0.115768                    0.433781  ...   \n",
       "4                    0.090776                    0.246287  ...   \n",
       "\n",
       "   labse_text_feature_758  labse_text_feature_759  labse_text_feature_760  \\\n",
       "0               -0.045795               -0.027475                0.030528   \n",
       "1               -0.022664                0.042258               -0.027394   \n",
       "2               -0.009464                0.011548               -0.046034   \n",
       "3               -0.045474               -0.043454               -0.000961   \n",
       "4                0.004818               -0.008138               -0.013958   \n",
       "\n",
       "   labse_text_feature_761  labse_text_feature_762  labse_text_feature_763  \\\n",
       "0               -0.052218                0.042459               -0.012714   \n",
       "1               -0.033566                0.016021               -0.022054   \n",
       "2                0.024588               -0.013670               -0.047028   \n",
       "3               -0.012203               -0.047922               -0.054657   \n",
       "4               -0.038482               -0.002943               -0.035970   \n",
       "\n",
       "   labse_text_feature_764  labse_text_feature_765  labse_text_feature_766  \\\n",
       "0               -0.055370               -0.012433               -0.016283   \n",
       "1               -0.040366                0.007392               -0.029070   \n",
       "2                0.009395               -0.000488               -0.060260   \n",
       "3               -0.053768                0.018481               -0.039148   \n",
       "4               -0.010830               -0.005132               -0.047990   \n",
       "\n",
       "   labse_text_feature_767  \n",
       "0               -0.006994  \n",
       "1               -0.011284  \n",
       "2                0.006563  \n",
       "3               -0.038874  \n",
       "4               -0.005869  \n",
       "\n",
       "[5 rows x 2618 columns]"
      ]
     },
     "execution_count": 6,
     "metadata": {},
     "output_type": "execute_result"
    }
   ],
   "source": [
    "train = pd.read_csv('temp/text_classification_train.csv')\n",
    "train.head()"
   ]
  },
  {
   "cell_type": "code",
   "execution_count": 8,
   "id": "0465541a-fa6c-4a05-8f23-fabb0e55eade",
   "metadata": {},
   "outputs": [],
   "source": [
    "from catboost import CatBoostClassifier\n",
    "cat_model = CatBoostClassifier(iterations=100, learning_rate=0.1, depth=6, loss_function='MultiClass', verbose=0, random_state=42)"
   ]
  },
  {
   "cell_type": "code",
   "execution_count": 16,
   "id": "caca8758-1a62-4812-947b-fc1fa3f55f27",
   "metadata": {},
   "outputs": [],
   "source": [
    "import lightgbm as lgb\n",
    "num_class=train.category.nunique()\n",
    "l_model = lgb.LGBMClassifier(objective='multiclass', num_class=num_class, learning_rate=0.1, n_estimators=100, random_state=42)"
   ]
  },
  {
   "cell_type": "code",
   "execution_count": 18,
   "id": "9850e56f-0f69-481a-893d-424ad76d0259",
   "metadata": {},
   "outputs": [],
   "source": [
    "import xgboost as xgb\n",
    "x_model = xgb.XGBClassifier(objective='multi:softmax', num_class=num_class, learning_rate=0.1, n_estimators=100, )"
   ]
  },
  {
   "cell_type": "code",
   "execution_count": 20,
   "id": "a0f76eb6-36dd-4a1c-a62b-23247f351efc",
   "metadata": {},
   "outputs": [],
   "source": [
    "class Blender:\n",
    "    def __init__(self, base_models, meta_model):\n",
    "        \"\"\"\n",
    "        base_models - список базовых моделей, которые нужно обучать на изначальных данных\n",
    "        meta_model - метамодель, которая обучается на предсказаниях базовых моделей\n",
    "        Считайте, что модель, которая передается имеет поля .fit(X_train, y_train) и .predict(X_test)\n",
    "        .predict(X_test) возвращает предсказания размерности (n_samples,)\n",
    "        \"\"\"\n",
    "        self.base_models = base_models\n",
    "        self.meta_model = meta_model\n",
    "\n",
    "    def fit(self, X_train, y_train, X_hold, y_hold):\n",
    "        #TODO\n",
    "        data_meta = np.empty((len(X_hold), 0))\n",
    "        for idx, model in enumerate(self.base_models):\n",
    "            model.fit(X_train, y_train)\n",
    "            pred = model.predict(X_hold)\n",
    "            data_meta = np.column_stack([data_meta, pred])\n",
    "        self.meta_model.fit(data_meta, y_hold)\n",
    "\n",
    "    def predict(self, X_test):\n",
    "        #TODO\n",
    "        data = np.empty((len(X_test), 0))\n",
    "        for model in self.base_models:\n",
    "            data = np.column_stack([data, model.predict(X_test)])\n",
    "        preds = self.meta_model.predict(data)\n",
    "        return preds"
   ]
  },
  {
   "cell_type": "code",
   "execution_count": 26,
   "id": "24428726-177c-44db-a3e4-bba19c8f002e",
   "metadata": {},
   "outputs": [],
   "source": [
    "X = train.drop(columns=['category', 'text'])\n",
    "y = train.category"
   ]
  },
  {
   "cell_type": "code",
   "execution_count": 44,
   "id": "118d69ea-60a0-43e1-9582-8bed7f54dc4f",
   "metadata": {},
   "outputs": [
    {
     "data": {
      "text/plain": [
       "array(['athletics', 'autosport', 'basketball', 'boardgames', 'esport',\n",
       "       'extreme', 'football', 'hockey', 'martial_arts', 'motosport',\n",
       "       'tennis', 'volleyball', 'winter_sport'], dtype=object)"
      ]
     },
     "execution_count": 44,
     "metadata": {},
     "output_type": "execute_result"
    }
   ],
   "source": [
    "from sklearn.preprocessing import LabelEncoder\n",
    "le = LabelEncoder()\n",
    "labels = le.fit_transform(y)\n",
    "le.classes_"
   ]
  },
  {
   "cell_type": "code",
   "execution_count": 50,
   "id": "aef2efda-d3c2-424b-8acf-6c680aab4387",
   "metadata": {},
   "outputs": [
    {
     "data": {
      "text/plain": [
       "array(['extreme', 'martial_arts', 'extreme', ..., 'motosport', 'tennis',\n",
       "       'motosport'], dtype=object)"
      ]
     },
     "execution_count": 50,
     "metadata": {},
     "output_type": "execute_result"
    }
   ],
   "source": [
    "le.inverse_transform(labels)"
   ]
  },
  {
   "cell_type": "code",
   "execution_count": 54,
   "id": "4b988a96-c1d8-497a-a281-04bfe278a428",
   "metadata": {},
   "outputs": [],
   "source": [
    "from sklearn.model_selection import train_test_split\n",
    "X_train, X_holdout, y_train, y_holdout = train_test_split(X, labels, random_state=42, shuffle=True)"
   ]
  },
  {
   "cell_type": "code",
   "execution_count": 38,
   "id": "c9ef2a6e-3075-44b8-9846-b7efc73e5be8",
   "metadata": {},
   "outputs": [],
   "source": [
    "test = pd.read_csv('temp/text_classification_test.csv')\n",
    "X_test = test.drop(columns=['text'])"
   ]
  },
  {
   "cell_type": "code",
   "execution_count": 56,
   "id": "7a210716-c2de-453b-a925-3097ea0b5eea",
   "metadata": {},
   "outputs": [
    {
     "name": "stdout",
     "output_type": "stream",
     "text": [
      "[LightGBM] [Info] Auto-choosing col-wise multi-threading, the overhead of testing was 0.063703 seconds.\n",
      "You can set `force_col_wise=true` to remove the overhead.\n",
      "[LightGBM] [Info] Total Bins 667080\n",
      "[LightGBM] [Info] Number of data points in the train set: 5625, number of used features: 2616\n",
      "[LightGBM] [Info] Start training from score -2.471661\n",
      "[LightGBM] [Info] Start training from score -2.486508\n",
      "[LightGBM] [Info] Start training from score -2.557334\n",
      "[LightGBM] [Info] Start training from score -2.543666\n",
      "[LightGBM] [Info] Start training from score -2.568868\n",
      "[LightGBM] [Info] Start training from score -2.597105\n",
      "[LightGBM] [Info] Start training from score -2.592343\n",
      "[LightGBM] [Info] Start training from score -2.550477\n",
      "[LightGBM] [Info] Start training from score -2.568868\n",
      "[LightGBM] [Info] Start training from score -2.606698\n",
      "[LightGBM] [Info] Start training from score -2.555043\n",
      "[LightGBM] [Info] Start training from score -2.621261\n",
      "[LightGBM] [Info] Start training from score -2.638524\n"
     ]
    }
   ],
   "source": [
    "base_models = [cat_model, l_model, x_model]\n",
    "meta_model = CatBoostClassifier(iterations=100, learning_rate=0.1, depth=6, loss_function='MultiClass', verbose=0, random_state=42)\n",
    "reg = Blender(base_models, meta_model)\n",
    "reg.fit(X_train, y_train, X_holdout, y_holdout)"
   ]
  },
  {
   "cell_type": "code",
   "execution_count": 58,
   "id": "8087e41b-cda7-4313-b08f-84bf55901108",
   "metadata": {},
   "outputs": [],
   "source": [
    "preds = reg.predict(X_test)"
   ]
  },
  {
   "cell_type": "code",
   "execution_count": 73,
   "id": "764d5cce-baa3-4337-a2c8-36bdd01c9f03",
   "metadata": {},
   "outputs": [],
   "source": [
    "pd.DataFrame(le.inverse_transform(preds.ravel()), columns=['category']).to_csv('subm_stack.csv', index=False)"
   ]
  }
 ],
 "metadata": {
  "kernelspec": {
   "display_name": "Python 3 (ipykernel)",
   "language": "python",
   "name": "python3"
  },
  "language_info": {
   "codemirror_mode": {
    "name": "ipython",
    "version": 3
   },
   "file_extension": ".py",
   "mimetype": "text/x-python",
   "name": "python",
   "nbconvert_exporter": "python",
   "pygments_lexer": "ipython3",
   "version": "3.12.5"
  }
 },
 "nbformat": 4,
 "nbformat_minor": 5
}
