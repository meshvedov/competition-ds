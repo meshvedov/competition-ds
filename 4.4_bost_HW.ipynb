{
 "cells": [
  {
   "cell_type": "code",
   "execution_count": 1,
   "id": "8d461486-1f8d-4f44-b048-aa7a9b711e8d",
   "metadata": {
    "tags": []
   },
   "outputs": [],
   "source": [
    "import pandas as pd\n",
    "import numpy as np\n",
    "import matplotlib.pyplot as plt\n",
    "import seaborn as sns\n",
    "\n",
    "from sklearn.preprocessing import LabelEncoder\n",
    "\n",
    "import phik\n",
    "from phik.report import plot_correlation_matrix\n",
    "from phik import report\n",
    "\n",
    "import shap\n",
    "\n",
    "from sklearn.model_selection import KFold\n",
    "from sklearn.metrics import mean_squared_error\n",
    "from sklearn.model_selection import RandomizedSearchCV\n",
    "\n",
    "import lightgbm as lgb\n",
    "import xgboost as xgb\n",
    "from catboost import CatBoostClassifier, CatBoostRegressor, Pool"
   ]
  },
  {
   "cell_type": "code",
   "execution_count": 20,
   "id": "f81ee8bd-d4e7-4240-afd1-2be26fd55290",
   "metadata": {
    "tags": []
   },
   "outputs": [],
   "source": [
    "from typing import Literal\n",
    "from sklearn.model_selection import train_test_split\n",
    "from IPython.display import display, Markdown"
   ]
  },
  {
   "cell_type": "markdown",
   "id": "3f2da42d-3d77-478a-8d62-184fad3269a1",
   "metadata": {},
   "source": [
    "### Подготовка данных"
   ]
  },
  {
   "cell_type": "code",
   "execution_count": 3,
   "id": "d4037b0c-1743-4400-ab93-9a155ed51575",
   "metadata": {
    "tags": []
   },
   "outputs": [],
   "source": [
    "cols_to_drop = ['car_id', 'target_class', 'deviation_normal_count']\n",
    "cols_cats = ['model', 'car_type', 'fuel_type']\n",
    "\n",
    "def prepare_data(df: pd.DataFrame, cols_to_drop: list() = [], cols_cats: list() = [], type_df: Literal['train', 'test'] = 'train'):\n",
    "    cols_to_drop = cols_to_drop\n",
    "    cols_cats = cols_cats\n",
    "    df_copy = df.copy()\n",
    "    df_copy.drop(columns=cols_to_drop, inplace=True)\n",
    "    \n",
    "    le = LabelEncoder()\n",
    "    for col in cols_cats:\n",
    "        df_copy[col] = le.fit_transform(df_copy[col])\n",
    "    \n",
    "    df_copy[cols_cats] = df_copy[cols_cats].astype('category')\n",
    "    if type_df == 'test':\n",
    "        return df_copy\n",
    "    X = df_copy.drop('target_reg', axis=1)\n",
    "    y = df_copy.target_reg\n",
    "    return X, y"
   ]
  },
  {
   "cell_type": "code",
   "execution_count": 4,
   "id": "11b4e394-3b97-41ef-95e1-596ff4232a28",
   "metadata": {
    "tags": []
   },
   "outputs": [
    {
     "data": {
      "text/html": [
       "<div>\n",
       "<style scoped>\n",
       "    .dataframe tbody tr th:only-of-type {\n",
       "        vertical-align: middle;\n",
       "    }\n",
       "\n",
       "    .dataframe tbody tr th {\n",
       "        vertical-align: top;\n",
       "    }\n",
       "\n",
       "    .dataframe thead th {\n",
       "        text-align: right;\n",
       "    }\n",
       "</style>\n",
       "<table border=\"1\" class=\"dataframe\">\n",
       "  <thead>\n",
       "    <tr style=\"text-align: right;\">\n",
       "      <th></th>\n",
       "      <th>car_id</th>\n",
       "      <th>model</th>\n",
       "      <th>car_type</th>\n",
       "      <th>fuel_type</th>\n",
       "      <th>car_rating</th>\n",
       "      <th>year_to_start</th>\n",
       "      <th>riders</th>\n",
       "      <th>year_to_work</th>\n",
       "      <th>target_reg</th>\n",
       "      <th>target_class</th>\n",
       "      <th>mean_rating</th>\n",
       "      <th>distance_sum</th>\n",
       "      <th>rating_min</th>\n",
       "      <th>speed_max</th>\n",
       "      <th>user_ride_quality_median</th>\n",
       "      <th>deviation_normal_count</th>\n",
       "      <th>user_uniq</th>\n",
       "    </tr>\n",
       "  </thead>\n",
       "  <tbody>\n",
       "    <tr>\n",
       "      <th>0</th>\n",
       "      <td>y13744087j</td>\n",
       "      <td>Kia Rio X-line</td>\n",
       "      <td>economy</td>\n",
       "      <td>petrol</td>\n",
       "      <td>3.78</td>\n",
       "      <td>2015</td>\n",
       "      <td>76163</td>\n",
       "      <td>2021</td>\n",
       "      <td>109.99</td>\n",
       "      <td>another_bug</td>\n",
       "      <td>4.737759</td>\n",
       "      <td>1.214131e+07</td>\n",
       "      <td>0.1</td>\n",
       "      <td>180.855726</td>\n",
       "      <td>0.023174</td>\n",
       "      <td>174</td>\n",
       "      <td>170</td>\n",
       "    </tr>\n",
       "    <tr>\n",
       "      <th>1</th>\n",
       "      <td>O41613818T</td>\n",
       "      <td>VW Polo VI</td>\n",
       "      <td>economy</td>\n",
       "      <td>petrol</td>\n",
       "      <td>3.90</td>\n",
       "      <td>2015</td>\n",
       "      <td>78218</td>\n",
       "      <td>2021</td>\n",
       "      <td>34.48</td>\n",
       "      <td>electro_bug</td>\n",
       "      <td>4.480517</td>\n",
       "      <td>1.803909e+07</td>\n",
       "      <td>0.0</td>\n",
       "      <td>187.862734</td>\n",
       "      <td>12.306011</td>\n",
       "      <td>174</td>\n",
       "      <td>174</td>\n",
       "    </tr>\n",
       "    <tr>\n",
       "      <th>2</th>\n",
       "      <td>d-2109686j</td>\n",
       "      <td>Renault Sandero</td>\n",
       "      <td>standart</td>\n",
       "      <td>petrol</td>\n",
       "      <td>6.30</td>\n",
       "      <td>2012</td>\n",
       "      <td>23340</td>\n",
       "      <td>2017</td>\n",
       "      <td>34.93</td>\n",
       "      <td>gear_stick</td>\n",
       "      <td>4.768391</td>\n",
       "      <td>1.588366e+07</td>\n",
       "      <td>0.1</td>\n",
       "      <td>102.382857</td>\n",
       "      <td>2.513319</td>\n",
       "      <td>174</td>\n",
       "      <td>173</td>\n",
       "    </tr>\n",
       "    <tr>\n",
       "      <th>3</th>\n",
       "      <td>u29695600e</td>\n",
       "      <td>Mercedes-Benz GLC</td>\n",
       "      <td>business</td>\n",
       "      <td>petrol</td>\n",
       "      <td>4.04</td>\n",
       "      <td>2011</td>\n",
       "      <td>1263</td>\n",
       "      <td>2020</td>\n",
       "      <td>32.22</td>\n",
       "      <td>engine_fuel</td>\n",
       "      <td>3.880920</td>\n",
       "      <td>1.651883e+07</td>\n",
       "      <td>0.1</td>\n",
       "      <td>172.793237</td>\n",
       "      <td>-5.029476</td>\n",
       "      <td>174</td>\n",
       "      <td>170</td>\n",
       "    </tr>\n",
       "    <tr>\n",
       "      <th>4</th>\n",
       "      <td>N-8915870N</td>\n",
       "      <td>Renault Sandero</td>\n",
       "      <td>standart</td>\n",
       "      <td>petrol</td>\n",
       "      <td>4.70</td>\n",
       "      <td>2012</td>\n",
       "      <td>26428</td>\n",
       "      <td>2017</td>\n",
       "      <td>27.51</td>\n",
       "      <td>engine_fuel</td>\n",
       "      <td>4.181149</td>\n",
       "      <td>1.398317e+07</td>\n",
       "      <td>0.1</td>\n",
       "      <td>203.462289</td>\n",
       "      <td>-14.260456</td>\n",
       "      <td>174</td>\n",
       "      <td>171</td>\n",
       "    </tr>\n",
       "  </tbody>\n",
       "</table>\n",
       "</div>"
      ],
      "text/plain": [
       "       car_id              model  car_type fuel_type  car_rating  \\\n",
       "0  y13744087j     Kia Rio X-line   economy    petrol        3.78   \n",
       "1  O41613818T         VW Polo VI   economy    petrol        3.90   \n",
       "2  d-2109686j    Renault Sandero  standart    petrol        6.30   \n",
       "3  u29695600e  Mercedes-Benz GLC  business    petrol        4.04   \n",
       "4  N-8915870N    Renault Sandero  standart    petrol        4.70   \n",
       "\n",
       "   year_to_start  riders  year_to_work  target_reg target_class  mean_rating  \\\n",
       "0           2015   76163          2021      109.99  another_bug     4.737759   \n",
       "1           2015   78218          2021       34.48  electro_bug     4.480517   \n",
       "2           2012   23340          2017       34.93   gear_stick     4.768391   \n",
       "3           2011    1263          2020       32.22  engine_fuel     3.880920   \n",
       "4           2012   26428          2017       27.51  engine_fuel     4.181149   \n",
       "\n",
       "   distance_sum  rating_min   speed_max  user_ride_quality_median  \\\n",
       "0  1.214131e+07         0.1  180.855726                  0.023174   \n",
       "1  1.803909e+07         0.0  187.862734                 12.306011   \n",
       "2  1.588366e+07         0.1  102.382857                  2.513319   \n",
       "3  1.651883e+07         0.1  172.793237                 -5.029476   \n",
       "4  1.398317e+07         0.1  203.462289                -14.260456   \n",
       "\n",
       "   deviation_normal_count  user_uniq  \n",
       "0                     174        170  \n",
       "1                     174        174  \n",
       "2                     174        173  \n",
       "3                     174        170  \n",
       "4                     174        171  "
      ]
     },
     "execution_count": 4,
     "metadata": {},
     "output_type": "execute_result"
    }
   ],
   "source": [
    "df_train = pd.read_csv('https://raw.githubusercontent.com/a-milenkin/Competitive_Data_Science/main/data/quickstart_train.csv')\n",
    "df_train.head()"
   ]
  },
  {
   "cell_type": "code",
   "execution_count": 5,
   "id": "d761a8c1-e533-46d3-a305-641463974d14",
   "metadata": {
    "tags": []
   },
   "outputs": [
    {
     "data": {
      "text/html": [
       "<div>\n",
       "<style scoped>\n",
       "    .dataframe tbody tr th:only-of-type {\n",
       "        vertical-align: middle;\n",
       "    }\n",
       "\n",
       "    .dataframe tbody tr th {\n",
       "        vertical-align: top;\n",
       "    }\n",
       "\n",
       "    .dataframe thead th {\n",
       "        text-align: right;\n",
       "    }\n",
       "</style>\n",
       "<table border=\"1\" class=\"dataframe\">\n",
       "  <thead>\n",
       "    <tr style=\"text-align: right;\">\n",
       "      <th></th>\n",
       "      <th>car_id</th>\n",
       "      <th>model</th>\n",
       "      <th>car_type</th>\n",
       "      <th>fuel_type</th>\n",
       "      <th>car_rating</th>\n",
       "      <th>year_to_start</th>\n",
       "      <th>riders</th>\n",
       "      <th>year_to_work</th>\n",
       "      <th>target_class</th>\n",
       "      <th>mean_rating</th>\n",
       "      <th>distance_sum</th>\n",
       "      <th>rating_min</th>\n",
       "      <th>speed_max</th>\n",
       "      <th>user_ride_quality_median</th>\n",
       "      <th>deviation_normal_count</th>\n",
       "      <th>user_uniq</th>\n",
       "    </tr>\n",
       "  </thead>\n",
       "  <tbody>\n",
       "    <tr>\n",
       "      <th>0</th>\n",
       "      <td>P17494612l</td>\n",
       "      <td>Skoda Rapid</td>\n",
       "      <td>economy</td>\n",
       "      <td>petrol</td>\n",
       "      <td>4.80</td>\n",
       "      <td>2013</td>\n",
       "      <td>42269</td>\n",
       "      <td>2019</td>\n",
       "      <td>gear_stick</td>\n",
       "      <td>3.746207</td>\n",
       "      <td>1.407539e+07</td>\n",
       "      <td>0.10</td>\n",
       "      <td>195.454152</td>\n",
       "      <td>10.566220</td>\n",
       "      <td>174</td>\n",
       "      <td>170</td>\n",
       "    </tr>\n",
       "    <tr>\n",
       "      <th>1</th>\n",
       "      <td>N-1530212S</td>\n",
       "      <td>Renault Sandero</td>\n",
       "      <td>standart</td>\n",
       "      <td>petrol</td>\n",
       "      <td>4.32</td>\n",
       "      <td>2015</td>\n",
       "      <td>90014</td>\n",
       "      <td>2016</td>\n",
       "      <td>engine_overheat</td>\n",
       "      <td>4.318966</td>\n",
       "      <td>1.970390e+07</td>\n",
       "      <td>0.00</td>\n",
       "      <td>181.538685</td>\n",
       "      <td>11.807941</td>\n",
       "      <td>174</td>\n",
       "      <td>174</td>\n",
       "    </tr>\n",
       "    <tr>\n",
       "      <th>2</th>\n",
       "      <td>B-1154399t</td>\n",
       "      <td>Smart ForTwo</td>\n",
       "      <td>economy</td>\n",
       "      <td>petrol</td>\n",
       "      <td>4.46</td>\n",
       "      <td>2015</td>\n",
       "      <td>82684</td>\n",
       "      <td>2017</td>\n",
       "      <td>electro_bug</td>\n",
       "      <td>5.134655</td>\n",
       "      <td>9.314946e+06</td>\n",
       "      <td>0.10</td>\n",
       "      <td>118.440645</td>\n",
       "      <td>14.862538</td>\n",
       "      <td>174</td>\n",
       "      <td>172</td>\n",
       "    </tr>\n",
       "    <tr>\n",
       "      <th>3</th>\n",
       "      <td>F12725233R</td>\n",
       "      <td>Smart ForFour</td>\n",
       "      <td>economy</td>\n",
       "      <td>petrol</td>\n",
       "      <td>2.80</td>\n",
       "      <td>2014</td>\n",
       "      <td>68833</td>\n",
       "      <td>2021</td>\n",
       "      <td>engine_check</td>\n",
       "      <td>4.617356</td>\n",
       "      <td>9.336838e+06</td>\n",
       "      <td>0.83</td>\n",
       "      <td>112.829785</td>\n",
       "      <td>20.088904</td>\n",
       "      <td>174</td>\n",
       "      <td>172</td>\n",
       "    </tr>\n",
       "    <tr>\n",
       "      <th>4</th>\n",
       "      <td>l-1139189J</td>\n",
       "      <td>Skoda Rapid</td>\n",
       "      <td>economy</td>\n",
       "      <td>petrol</td>\n",
       "      <td>6.56</td>\n",
       "      <td>2013</td>\n",
       "      <td>42442</td>\n",
       "      <td>2021</td>\n",
       "      <td>another_bug</td>\n",
       "      <td>4.287471</td>\n",
       "      <td>1.196250e+07</td>\n",
       "      <td>0.00</td>\n",
       "      <td>187.846088</td>\n",
       "      <td>3.698460</td>\n",
       "      <td>174</td>\n",
       "      <td>172</td>\n",
       "    </tr>\n",
       "  </tbody>\n",
       "</table>\n",
       "</div>"
      ],
      "text/plain": [
       "       car_id            model  car_type fuel_type  car_rating  year_to_start  \\\n",
       "0  P17494612l      Skoda Rapid   economy    petrol        4.80           2013   \n",
       "1  N-1530212S  Renault Sandero  standart    petrol        4.32           2015   \n",
       "2  B-1154399t     Smart ForTwo   economy    petrol        4.46           2015   \n",
       "3  F12725233R    Smart ForFour   economy    petrol        2.80           2014   \n",
       "4  l-1139189J      Skoda Rapid   economy    petrol        6.56           2013   \n",
       "\n",
       "   riders  year_to_work     target_class  mean_rating  distance_sum  \\\n",
       "0   42269          2019       gear_stick     3.746207  1.407539e+07   \n",
       "1   90014          2016  engine_overheat     4.318966  1.970390e+07   \n",
       "2   82684          2017      electro_bug     5.134655  9.314946e+06   \n",
       "3   68833          2021     engine_check     4.617356  9.336838e+06   \n",
       "4   42442          2021      another_bug     4.287471  1.196250e+07   \n",
       "\n",
       "   rating_min   speed_max  user_ride_quality_median  deviation_normal_count  \\\n",
       "0        0.10  195.454152                 10.566220                     174   \n",
       "1        0.00  181.538685                 11.807941                     174   \n",
       "2        0.10  118.440645                 14.862538                     174   \n",
       "3        0.83  112.829785                 20.088904                     174   \n",
       "4        0.00  187.846088                  3.698460                     174   \n",
       "\n",
       "   user_uniq  \n",
       "0        170  \n",
       "1        174  \n",
       "2        172  \n",
       "3        172  \n",
       "4        172  "
      ]
     },
     "execution_count": 5,
     "metadata": {},
     "output_type": "execute_result"
    }
   ],
   "source": [
    "df_test = pd.read_csv('https://raw.githubusercontent.com/a-milenkin/Competitive_Data_Science/main/data/quickstart_test.csv')\n",
    "df_test.head()"
   ]
  },
  {
   "cell_type": "code",
   "execution_count": 15,
   "id": "87dbd4f1-bf5c-40af-9e07-cb21761e69e2",
   "metadata": {
    "tags": []
   },
   "outputs": [],
   "source": [
    "X, y = prepare_data(df_train, cols_to_drop, cols_cats)"
   ]
  },
  {
   "cell_type": "markdown",
   "id": "219c0594-04ae-468c-9d59-6fd46d005152",
   "metadata": {},
   "source": [
    "### **Catboost**"
   ]
  },
  {
   "cell_type": "markdown",
   "id": "52847000-6736-46e3-93c3-48c0bb820136",
   "metadata": {},
   "source": [
    "#### Обучение CatBoost с параметрами по умолчанию"
   ]
  },
  {
   "cell_type": "code",
   "execution_count": 17,
   "id": "1fcc6314-4dc7-4a9f-9017-0a2876ef9d77",
   "metadata": {
    "tags": []
   },
   "outputs": [
    {
     "name": "stdout",
     "output_type": "stream",
     "text": [
      "Learning rate set to 0.056174\n",
      "0:\tlearn: 17.0065561\ttest: 17.7387430\tbest: 17.7387430 (0)\ttotal: 3.4ms\tremaining: 3.39s\n",
      "200:\tlearn: 9.3813500\ttest: 12.2560321\tbest: 12.1641768 (128)\ttotal: 631ms\tremaining: 2.51s\n",
      "Stopped by overfitting detector  (100 iterations wait)\n",
      "\n",
      "bestTest = 12.16417676\n",
      "bestIteration = 128\n",
      "\n",
      "Shrink model to first 129 iterations.\n"
     ]
    },
    {
     "data": {
      "text/plain": [
       "<catboost.core.CatBoostRegressor at 0x793cb9d835b0>"
      ]
     },
     "execution_count": 17,
     "metadata": {},
     "output_type": "execute_result"
    }
   ],
   "source": [
    "X_train, X_test, y_train, y_test = train_test_split(X, y, test_size=.2, random_state=42)\n",
    "cat_model_default = CatBoostRegressor(thread_count=-1,\n",
    "                                      random_seed=42,\n",
    "                                      cat_features=cols_cats)\n",
    "cat_model_default.fit(\n",
    "    X_train,\n",
    "    y_train,\n",
    "    eval_set=(X_test, y_test),\n",
    "    verbose=200,\n",
    "    use_best_model=True,\n",
    "    plot=False,\n",
    "    early_stopping_rounds=100\n",
    ")"
   ]
  },
  {
   "cell_type": "code",
   "execution_count": 44,
   "id": "125453fd-602c-45ec-9de3-8979aba96ade",
   "metadata": {
    "tags": []
   },
   "outputs": [
    {
     "data": {
      "text/markdown": [
       "#### Значение `RMSE` с default параметрами CatBoost: 12.16"
      ],
      "text/plain": [
       "<IPython.core.display.Markdown object>"
      ]
     },
     "metadata": {},
     "output_type": "display_data"
    }
   ],
   "source": [
    "display(Markdown(f\"#### Значение `RMSE` с default параметрами CatBoost: {round(cat_model_default.best_score_['validation']['RMSE'], 2)}\"))"
   ]
  },
  {
   "cell_type": "markdown",
   "id": "6c6b47cd-feb7-490b-8b98-1eee2b3b71c4",
   "metadata": {},
   "source": [
    "### Подбор гиперпараметров\n",
    "#### Catboost"
   ]
  },
  {
   "cell_type": "code",
   "execution_count": 27,
   "id": "302934e4-3a67-423b-a132-e8641ea71661",
   "metadata": {
    "tags": []
   },
   "outputs": [
    {
     "name": "stdout",
     "output_type": "stream",
     "text": [
      "\n",
      "bestTest = 10.73227337\n",
      "bestIteration = 999\n",
      "\n",
      "\n",
      "bestTest = 10.7365755\n",
      "bestIteration = 323\n",
      "\n",
      "\n",
      "bestTest = 10.71436759\n",
      "bestIteration = 239\n",
      "\n",
      "\n",
      "bestTest = 10.7808992\n",
      "bestIteration = 936\n",
      "\n",
      "\n",
      "bestTest = 10.80901949\n",
      "bestIteration = 337\n",
      "\n",
      "\n",
      "bestTest = 10.81892195\n",
      "bestIteration = 299\n",
      "\n",
      "\n",
      "bestTest = 10.72167277\n",
      "bestIteration = 970\n",
      "\n",
      "\n",
      "bestTest = 10.7488679\n",
      "bestIteration = 325\n",
      "\n",
      "\n",
      "bestTest = 10.76114647\n",
      "bestIteration = 242\n",
      "\n",
      "Training on fold [0/3]\n",
      "\n",
      "bestTest = 11.7431856\n",
      "bestIteration = 208\n",
      "\n",
      "Training on fold [1/3]\n",
      "\n",
      "bestTest = 11.7577536\n",
      "bestIteration = 238\n",
      "\n",
      "Training on fold [2/3]\n",
      "\n",
      "bestTest = 11.3622793\n",
      "bestIteration = 246\n",
      "\n",
      "{'learn': {'RMSE': 7.230686518563849}}\n"
     ]
    },
    {
     "data": {
      "text/plain": [
       "{'border_count': 40, 'learning_rate': 0.04}"
      ]
     },
     "execution_count": 27,
     "metadata": {},
     "output_type": "execute_result"
    }
   ],
   "source": [
    "param_grid = {'learning_rate': [.01, .03, .04], 'max_bin': [40, 50, 60], }\n",
    "model_cat = CatBoostRegressor(random_seed=42, cat_features=cols_cats, thread_count=-1, verbose=False,)\n",
    "rand_search_res = model_cat.grid_search(param_grid, X, y, verbose=False, plot=False,)\n",
    "print(model_cat.best_score_)\n",
    "\n",
    "params_best_cat = rand_search_res['params']\n",
    "display(Markdown(f\"Выбранные гиперпараметры для `CatBoost`: {params_best_cat}\"))"
   ]
  },
  {
   "cell_type": "markdown",
   "id": "4ac15570-d7d3-4b30-9661-6d0f3765a651",
   "metadata": {},
   "source": [
    "#### Обучение по фолдам"
   ]
  },
  {
   "cell_type": "code",
   "execution_count": 33,
   "id": "72650b83-efae-40fe-b2db-2961de213bc4",
   "metadata": {
    "tags": []
   },
   "outputs": [
    {
     "name": "stdout",
     "output_type": "stream",
     "text": [
      "0:\tlearn: 17.5448536\ttest: 16.9309868\tbest: 16.9309868 (0)\ttotal: 2.57ms\tremaining: 5.14s\n",
      "Stopped by overfitting detector  (100 iterations wait)\n",
      "\n",
      "bestTest = 12.01326945\n",
      "bestIteration = 113\n",
      "\n",
      "Shrink model to first 114 iterations.\n",
      "0:\tlearn: 16.8713527\ttest: 18.1447932\tbest: 18.1447932 (0)\ttotal: 8.35ms\tremaining: 16.7s\n",
      "Stopped by overfitting detector  (100 iterations wait)\n",
      "\n",
      "bestTest = 11.82282234\n",
      "bestIteration = 279\n",
      "\n",
      "Shrink model to first 280 iterations.\n",
      "0:\tlearn: 17.5396387\ttest: 16.9023884\tbest: 16.9023884 (0)\ttotal: 5.1ms\tremaining: 10.2s\n",
      "Stopped by overfitting detector  (100 iterations wait)\n",
      "\n",
      "bestTest = 11.33389497\n",
      "bestIteration = 296\n",
      "\n",
      "Shrink model to first 297 iterations.\n"
     ]
    },
    {
     "data": {
      "text/plain": [
       "[12.013269447178565, 11.82282234183772, 11.333894966792219]"
      ]
     },
     "execution_count": 33,
     "metadata": {},
     "output_type": "execute_result"
    }
   ],
   "source": [
    "n_splits = 3\n",
    "models = []\n",
    "scores = []\n",
    "\n",
    "kf = KFold(n_splits=n_splits, shuffle=True, random_state=42)\n",
    "\n",
    "for train_index, test_index in kf.split(X):\n",
    "    X_train, X_test = X.iloc[train_index], X.iloc[test_index]\n",
    "    y_train, y_test = y.iloc[train_index], y.iloc[test_index]\n",
    "    \n",
    "    train_dataset = Pool(data=X_train, label=y_train, cat_features=cols_cats)\n",
    "    eval_dataset = Pool(data=X_test, label=y_test, cat_features=cols_cats)\n",
    "\n",
    "    model_cat = CatBoostRegressor(\n",
    "        **params_best_cat,\n",
    "        iterations=2000,\n",
    "        cat_features=cols_cats,\n",
    "        random_seed=7575,\n",
    "        early_stopping_rounds=100,)\n",
    "    \n",
    "    models.append(model_cat)\n",
    "    \n",
    "    model_cat.fit(\n",
    "        train_dataset,\n",
    "        eval_set=eval_dataset,\n",
    "        verbose=500,\n",
    "        use_best_model=True,\n",
    "        plot=False\n",
    "    )\n",
    "    scores.append(model_cat.best_score_['validation']['RMSE'])"
   ]
  },
  {
   "cell_type": "code",
   "execution_count": 45,
   "id": "8b8a4cfd-63a9-42ce-a08f-4a99fc3d8c02",
   "metadata": {
    "tags": []
   },
   "outputs": [
    {
     "data": {
      "text/markdown": [
       "#### Лучший ``RMSE`` по 3 фолдам: 11.33"
      ],
      "text/plain": [
       "<IPython.core.display.Markdown object>"
      ]
     },
     "metadata": {},
     "output_type": "display_data"
    }
   ],
   "source": [
    "display(Markdown(f\"#### Лучший ``RMSE`` по {n_splits} фолдам: {round(min(scores), 2)}\"))"
   ]
  },
  {
   "cell_type": "markdown",
   "id": "60ef27eb-2e53-43f3-9673-b8473c47e53a",
   "metadata": {},
   "source": [
    "Сохраним лучшую модель `CatBoost`"
   ]
  },
  {
   "cell_type": "code",
   "execution_count": 36,
   "id": "8eacd429-b97c-488a-8355-9f3fe0a12776",
   "metadata": {
    "tags": []
   },
   "outputs": [],
   "source": [
    "best_model_cat = models[np.argmin(scores)]"
   ]
  },
  {
   "cell_type": "markdown",
   "id": "06a0b979-abd5-4717-9157-d7d761c882cd",
   "metadata": {
    "tags": []
   },
   "source": [
    "### **LightGBM**"
   ]
  },
  {
   "cell_type": "markdown",
   "id": "92bf0b92-e9be-43bc-9728-ecb81d9fe64b",
   "metadata": {},
   "source": [
    "Посмотрим `RMSE` для `baseline` модели"
   ]
  },
  {
   "cell_type": "code",
   "execution_count": null,
   "id": "42220cf9-cad6-4997-a632-1cad129879e0",
   "metadata": {},
   "outputs": [],
   "source": [
    "model_lgb = lgb.LGBMRegressor()"
   ]
  }
 ],
 "metadata": {
  "kernelspec": {
   "display_name": "Python 3 (ipykernel)",
   "language": "python",
   "name": "python3"
  },
  "language_info": {
   "codemirror_mode": {
    "name": "ipython",
    "version": 3
   },
   "file_extension": ".py",
   "mimetype": "text/x-python",
   "name": "python",
   "nbconvert_exporter": "python",
   "pygments_lexer": "ipython3",
   "version": "3.10.14"
  }
 },
 "nbformat": 4,
 "nbformat_minor": 5
}
