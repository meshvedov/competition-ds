{
 "cells": [
  {
   "cell_type": "code",
   "execution_count": null,
   "id": "bd7cc3e1-6fd4-49a7-ba5c-4e98d241fd32",
   "metadata": {
    "tags": []
   },
   "outputs": [],
   "source": [
    "import pandas as pd\n",
    "import numpy as np\n",
    "import matplotlib.pyplot as plt\n",
    "import seaborn as sns\n",
    "\n",
    "import phik\n",
    "from phik.report import plot_correlation_matrix\n",
    "from phik import report\n",
    "\n",
    "import shap\n",
    "from sklearn.preprocessing import LabelEncoder\n",
    "from sklearn.model_selection import train_test_split\n",
    "from sklearn.model_selection import KFold\n",
    "from sklearn.metrics import mean_squared_error\n",
    "from sklearn.model_selection import RandomizedSearchCV, GridSearchCV\n",
    "\n",
    "import lightgbm as lgb\n",
    "import xgboost as xgb\n",
    "from catboost import CatBoostClassifier, CatBoostRegressor, Pool\n",
    "\n",
    "from typing import Literal\n",
    "import os\n",
    "from IPython.display import display, Markdown"
   ]
  },
  {
   "cell_type": "code",
   "execution_count": 8,
   "id": "7eddf503-099c-493d-99df-4424e23ce970",
   "metadata": {},
   "outputs": [],
   "source": [
    "cpu_count = os.cpu_count() - 1"
   ]
  },
  {
   "cell_type": "markdown",
   "id": "3f2da42d-3d77-478a-8d62-184fad3269a1",
   "metadata": {},
   "source": [
    "### Подготовка данных"
   ]
  },
  {
   "cell_type": "code",
   "execution_count": 10,
   "id": "d4037b0c-1743-4400-ab93-9a155ed51575",
   "metadata": {
    "tags": []
   },
   "outputs": [],
   "source": [
    "cols_to_drop = ['car_id', 'target_class', 'deviation_normal_count']\n",
    "cols_cats = ['model', 'car_type', 'fuel_type']\n",
    "\n",
    "def prepare_data(df: pd.DataFrame, cols_to_drop: list() = [], cols_cats: list() = [], type_df: Literal['train', 'test'] = 'train'):\n",
    "    cols_to_drop = cols_to_drop\n",
    "    cols_cats = cols_cats\n",
    "    df_copy = df.copy()\n",
    "    df_copy.drop(columns=cols_to_drop, inplace=True)\n",
    "    \n",
    "    le = LabelEncoder()\n",
    "    for col in cols_cats:\n",
    "        df_copy[col] = le.fit_transform(df_copy[col])\n",
    "    \n",
    "    df_copy[cols_cats] = df_copy[cols_cats].astype('category')\n",
    "    if type_df == 'test':\n",
    "        return df_copy\n",
    "    X = df_copy.drop('target_reg', axis=1)\n",
    "    y = df_copy.target_reg\n",
    "    return X, y"
   ]
  },
  {
   "cell_type": "code",
   "execution_count": 12,
   "id": "11b4e394-3b97-41ef-95e1-596ff4232a28",
   "metadata": {
    "tags": []
   },
   "outputs": [
    {
     "data": {
      "text/html": [
       "<div>\n",
       "<style scoped>\n",
       "    .dataframe tbody tr th:only-of-type {\n",
       "        vertical-align: middle;\n",
       "    }\n",
       "\n",
       "    .dataframe tbody tr th {\n",
       "        vertical-align: top;\n",
       "    }\n",
       "\n",
       "    .dataframe thead th {\n",
       "        text-align: right;\n",
       "    }\n",
       "</style>\n",
       "<table border=\"1\" class=\"dataframe\">\n",
       "  <thead>\n",
       "    <tr style=\"text-align: right;\">\n",
       "      <th></th>\n",
       "      <th>car_id</th>\n",
       "      <th>model</th>\n",
       "      <th>car_type</th>\n",
       "      <th>fuel_type</th>\n",
       "      <th>car_rating</th>\n",
       "      <th>year_to_start</th>\n",
       "      <th>riders</th>\n",
       "      <th>year_to_work</th>\n",
       "      <th>target_reg</th>\n",
       "      <th>target_class</th>\n",
       "      <th>mean_rating</th>\n",
       "      <th>distance_sum</th>\n",
       "      <th>rating_min</th>\n",
       "      <th>speed_max</th>\n",
       "      <th>user_ride_quality_median</th>\n",
       "      <th>deviation_normal_count</th>\n",
       "      <th>user_uniq</th>\n",
       "    </tr>\n",
       "  </thead>\n",
       "  <tbody>\n",
       "    <tr>\n",
       "      <th>0</th>\n",
       "      <td>y13744087j</td>\n",
       "      <td>Kia Rio X-line</td>\n",
       "      <td>economy</td>\n",
       "      <td>petrol</td>\n",
       "      <td>3.78</td>\n",
       "      <td>2015</td>\n",
       "      <td>76163</td>\n",
       "      <td>2021</td>\n",
       "      <td>109.99</td>\n",
       "      <td>another_bug</td>\n",
       "      <td>4.737759</td>\n",
       "      <td>1.214131e+07</td>\n",
       "      <td>0.1</td>\n",
       "      <td>180.855726</td>\n",
       "      <td>0.023174</td>\n",
       "      <td>174</td>\n",
       "      <td>170</td>\n",
       "    </tr>\n",
       "    <tr>\n",
       "      <th>1</th>\n",
       "      <td>O41613818T</td>\n",
       "      <td>VW Polo VI</td>\n",
       "      <td>economy</td>\n",
       "      <td>petrol</td>\n",
       "      <td>3.90</td>\n",
       "      <td>2015</td>\n",
       "      <td>78218</td>\n",
       "      <td>2021</td>\n",
       "      <td>34.48</td>\n",
       "      <td>electro_bug</td>\n",
       "      <td>4.480517</td>\n",
       "      <td>1.803909e+07</td>\n",
       "      <td>0.0</td>\n",
       "      <td>187.862734</td>\n",
       "      <td>12.306011</td>\n",
       "      <td>174</td>\n",
       "      <td>174</td>\n",
       "    </tr>\n",
       "    <tr>\n",
       "      <th>2</th>\n",
       "      <td>d-2109686j</td>\n",
       "      <td>Renault Sandero</td>\n",
       "      <td>standart</td>\n",
       "      <td>petrol</td>\n",
       "      <td>6.30</td>\n",
       "      <td>2012</td>\n",
       "      <td>23340</td>\n",
       "      <td>2017</td>\n",
       "      <td>34.93</td>\n",
       "      <td>gear_stick</td>\n",
       "      <td>4.768391</td>\n",
       "      <td>1.588366e+07</td>\n",
       "      <td>0.1</td>\n",
       "      <td>102.382857</td>\n",
       "      <td>2.513319</td>\n",
       "      <td>174</td>\n",
       "      <td>173</td>\n",
       "    </tr>\n",
       "    <tr>\n",
       "      <th>3</th>\n",
       "      <td>u29695600e</td>\n",
       "      <td>Mercedes-Benz GLC</td>\n",
       "      <td>business</td>\n",
       "      <td>petrol</td>\n",
       "      <td>4.04</td>\n",
       "      <td>2011</td>\n",
       "      <td>1263</td>\n",
       "      <td>2020</td>\n",
       "      <td>32.22</td>\n",
       "      <td>engine_fuel</td>\n",
       "      <td>3.880920</td>\n",
       "      <td>1.651883e+07</td>\n",
       "      <td>0.1</td>\n",
       "      <td>172.793237</td>\n",
       "      <td>-5.029476</td>\n",
       "      <td>174</td>\n",
       "      <td>170</td>\n",
       "    </tr>\n",
       "    <tr>\n",
       "      <th>4</th>\n",
       "      <td>N-8915870N</td>\n",
       "      <td>Renault Sandero</td>\n",
       "      <td>standart</td>\n",
       "      <td>petrol</td>\n",
       "      <td>4.70</td>\n",
       "      <td>2012</td>\n",
       "      <td>26428</td>\n",
       "      <td>2017</td>\n",
       "      <td>27.51</td>\n",
       "      <td>engine_fuel</td>\n",
       "      <td>4.181149</td>\n",
       "      <td>1.398317e+07</td>\n",
       "      <td>0.1</td>\n",
       "      <td>203.462289</td>\n",
       "      <td>-14.260456</td>\n",
       "      <td>174</td>\n",
       "      <td>171</td>\n",
       "    </tr>\n",
       "  </tbody>\n",
       "</table>\n",
       "</div>"
      ],
      "text/plain": [
       "       car_id              model  car_type fuel_type  car_rating  \\\n",
       "0  y13744087j     Kia Rio X-line   economy    petrol        3.78   \n",
       "1  O41613818T         VW Polo VI   economy    petrol        3.90   \n",
       "2  d-2109686j    Renault Sandero  standart    petrol        6.30   \n",
       "3  u29695600e  Mercedes-Benz GLC  business    petrol        4.04   \n",
       "4  N-8915870N    Renault Sandero  standart    petrol        4.70   \n",
       "\n",
       "   year_to_start  riders  year_to_work  target_reg target_class  mean_rating  \\\n",
       "0           2015   76163          2021      109.99  another_bug     4.737759   \n",
       "1           2015   78218          2021       34.48  electro_bug     4.480517   \n",
       "2           2012   23340          2017       34.93   gear_stick     4.768391   \n",
       "3           2011    1263          2020       32.22  engine_fuel     3.880920   \n",
       "4           2012   26428          2017       27.51  engine_fuel     4.181149   \n",
       "\n",
       "   distance_sum  rating_min   speed_max  user_ride_quality_median  \\\n",
       "0  1.214131e+07         0.1  180.855726                  0.023174   \n",
       "1  1.803909e+07         0.0  187.862734                 12.306011   \n",
       "2  1.588366e+07         0.1  102.382857                  2.513319   \n",
       "3  1.651883e+07         0.1  172.793237                 -5.029476   \n",
       "4  1.398317e+07         0.1  203.462289                -14.260456   \n",
       "\n",
       "   deviation_normal_count  user_uniq  \n",
       "0                     174        170  \n",
       "1                     174        174  \n",
       "2                     174        173  \n",
       "3                     174        170  \n",
       "4                     174        171  "
      ]
     },
     "execution_count": 12,
     "metadata": {},
     "output_type": "execute_result"
    }
   ],
   "source": [
    "df_train = pd.read_csv('https://raw.githubusercontent.com/a-milenkin/Competitive_Data_Science/main/data/quickstart_train.csv')\n",
    "df_train.head()"
   ]
  },
  {
   "cell_type": "code",
   "execution_count": 14,
   "id": "d761a8c1-e533-46d3-a305-641463974d14",
   "metadata": {
    "tags": []
   },
   "outputs": [
    {
     "data": {
      "text/html": [
       "<div>\n",
       "<style scoped>\n",
       "    .dataframe tbody tr th:only-of-type {\n",
       "        vertical-align: middle;\n",
       "    }\n",
       "\n",
       "    .dataframe tbody tr th {\n",
       "        vertical-align: top;\n",
       "    }\n",
       "\n",
       "    .dataframe thead th {\n",
       "        text-align: right;\n",
       "    }\n",
       "</style>\n",
       "<table border=\"1\" class=\"dataframe\">\n",
       "  <thead>\n",
       "    <tr style=\"text-align: right;\">\n",
       "      <th></th>\n",
       "      <th>car_id</th>\n",
       "      <th>model</th>\n",
       "      <th>car_type</th>\n",
       "      <th>fuel_type</th>\n",
       "      <th>car_rating</th>\n",
       "      <th>year_to_start</th>\n",
       "      <th>riders</th>\n",
       "      <th>year_to_work</th>\n",
       "      <th>target_class</th>\n",
       "      <th>mean_rating</th>\n",
       "      <th>distance_sum</th>\n",
       "      <th>rating_min</th>\n",
       "      <th>speed_max</th>\n",
       "      <th>user_ride_quality_median</th>\n",
       "      <th>deviation_normal_count</th>\n",
       "      <th>user_uniq</th>\n",
       "    </tr>\n",
       "  </thead>\n",
       "  <tbody>\n",
       "    <tr>\n",
       "      <th>0</th>\n",
       "      <td>P17494612l</td>\n",
       "      <td>Skoda Rapid</td>\n",
       "      <td>economy</td>\n",
       "      <td>petrol</td>\n",
       "      <td>4.80</td>\n",
       "      <td>2013</td>\n",
       "      <td>42269</td>\n",
       "      <td>2019</td>\n",
       "      <td>gear_stick</td>\n",
       "      <td>3.746207</td>\n",
       "      <td>1.407539e+07</td>\n",
       "      <td>0.10</td>\n",
       "      <td>195.454152</td>\n",
       "      <td>10.566220</td>\n",
       "      <td>174</td>\n",
       "      <td>170</td>\n",
       "    </tr>\n",
       "    <tr>\n",
       "      <th>1</th>\n",
       "      <td>N-1530212S</td>\n",
       "      <td>Renault Sandero</td>\n",
       "      <td>standart</td>\n",
       "      <td>petrol</td>\n",
       "      <td>4.32</td>\n",
       "      <td>2015</td>\n",
       "      <td>90014</td>\n",
       "      <td>2016</td>\n",
       "      <td>engine_overheat</td>\n",
       "      <td>4.318966</td>\n",
       "      <td>1.970390e+07</td>\n",
       "      <td>0.00</td>\n",
       "      <td>181.538685</td>\n",
       "      <td>11.807941</td>\n",
       "      <td>174</td>\n",
       "      <td>174</td>\n",
       "    </tr>\n",
       "    <tr>\n",
       "      <th>2</th>\n",
       "      <td>B-1154399t</td>\n",
       "      <td>Smart ForTwo</td>\n",
       "      <td>economy</td>\n",
       "      <td>petrol</td>\n",
       "      <td>4.46</td>\n",
       "      <td>2015</td>\n",
       "      <td>82684</td>\n",
       "      <td>2017</td>\n",
       "      <td>electro_bug</td>\n",
       "      <td>5.134655</td>\n",
       "      <td>9.314946e+06</td>\n",
       "      <td>0.10</td>\n",
       "      <td>118.440645</td>\n",
       "      <td>14.862538</td>\n",
       "      <td>174</td>\n",
       "      <td>172</td>\n",
       "    </tr>\n",
       "    <tr>\n",
       "      <th>3</th>\n",
       "      <td>F12725233R</td>\n",
       "      <td>Smart ForFour</td>\n",
       "      <td>economy</td>\n",
       "      <td>petrol</td>\n",
       "      <td>2.80</td>\n",
       "      <td>2014</td>\n",
       "      <td>68833</td>\n",
       "      <td>2021</td>\n",
       "      <td>engine_check</td>\n",
       "      <td>4.617356</td>\n",
       "      <td>9.336838e+06</td>\n",
       "      <td>0.83</td>\n",
       "      <td>112.829785</td>\n",
       "      <td>20.088904</td>\n",
       "      <td>174</td>\n",
       "      <td>172</td>\n",
       "    </tr>\n",
       "    <tr>\n",
       "      <th>4</th>\n",
       "      <td>l-1139189J</td>\n",
       "      <td>Skoda Rapid</td>\n",
       "      <td>economy</td>\n",
       "      <td>petrol</td>\n",
       "      <td>6.56</td>\n",
       "      <td>2013</td>\n",
       "      <td>42442</td>\n",
       "      <td>2021</td>\n",
       "      <td>another_bug</td>\n",
       "      <td>4.287471</td>\n",
       "      <td>1.196250e+07</td>\n",
       "      <td>0.00</td>\n",
       "      <td>187.846088</td>\n",
       "      <td>3.698460</td>\n",
       "      <td>174</td>\n",
       "      <td>172</td>\n",
       "    </tr>\n",
       "  </tbody>\n",
       "</table>\n",
       "</div>"
      ],
      "text/plain": [
       "       car_id            model  car_type fuel_type  car_rating  year_to_start  \\\n",
       "0  P17494612l      Skoda Rapid   economy    petrol        4.80           2013   \n",
       "1  N-1530212S  Renault Sandero  standart    petrol        4.32           2015   \n",
       "2  B-1154399t     Smart ForTwo   economy    petrol        4.46           2015   \n",
       "3  F12725233R    Smart ForFour   economy    petrol        2.80           2014   \n",
       "4  l-1139189J      Skoda Rapid   economy    petrol        6.56           2013   \n",
       "\n",
       "   riders  year_to_work     target_class  mean_rating  distance_sum  \\\n",
       "0   42269          2019       gear_stick     3.746207  1.407539e+07   \n",
       "1   90014          2016  engine_overheat     4.318966  1.970390e+07   \n",
       "2   82684          2017      electro_bug     5.134655  9.314946e+06   \n",
       "3   68833          2021     engine_check     4.617356  9.336838e+06   \n",
       "4   42442          2021      another_bug     4.287471  1.196250e+07   \n",
       "\n",
       "   rating_min   speed_max  user_ride_quality_median  deviation_normal_count  \\\n",
       "0        0.10  195.454152                 10.566220                     174   \n",
       "1        0.00  181.538685                 11.807941                     174   \n",
       "2        0.10  118.440645                 14.862538                     174   \n",
       "3        0.83  112.829785                 20.088904                     174   \n",
       "4        0.00  187.846088                  3.698460                     174   \n",
       "\n",
       "   user_uniq  \n",
       "0        170  \n",
       "1        174  \n",
       "2        172  \n",
       "3        172  \n",
       "4        172  "
      ]
     },
     "execution_count": 14,
     "metadata": {},
     "output_type": "execute_result"
    }
   ],
   "source": [
    "df_test = pd.read_csv('https://raw.githubusercontent.com/a-milenkin/Competitive_Data_Science/main/data/quickstart_test.csv')\n",
    "df_test.head()"
   ]
  },
  {
   "cell_type": "code",
   "execution_count": 16,
   "id": "87dbd4f1-bf5c-40af-9e07-cb21761e69e2",
   "metadata": {
    "tags": []
   },
   "outputs": [],
   "source": [
    "X, y = prepare_data(df_train, cols_to_drop, cols_cats)\n",
    "X_train, X_test, y_train, y_test = train_test_split(X, y, test_size=.2, random_state=42)"
   ]
  },
  {
   "cell_type": "markdown",
   "id": "219c0594-04ae-468c-9d59-6fd46d005152",
   "metadata": {},
   "source": [
    "### <center> **Catboost**"
   ]
  },
  {
   "cell_type": "markdown",
   "id": "52847000-6736-46e3-93c3-48c0bb820136",
   "metadata": {},
   "source": [
    "#### Обучение CatBoost с параметрами по умолчанию"
   ]
  },
  {
   "cell_type": "code",
   "execution_count": null,
   "id": "c58d05bf-3ee4-4632-8bd1-4041ae2810be",
   "metadata": {
    "tags": []
   },
   "outputs": [
    {
     "name": "stdout",
     "output_type": "stream",
     "text": [
      "Learning rate set to 0.056174\n",
      "0:\tlearn: 17.0065561\ttest: 17.7387430\tbest: 17.7387430 (0)\ttotal: 56.2ms\tremaining: 56.1s\n",
      "200:\tlearn: 9.3813500\ttest: 12.2560321\tbest: 12.1641768 (128)\ttotal: 235ms\tremaining: 933ms\n",
      "Stopped by overfitting detector  (100 iterations wait)\n",
      "\n",
      "bestTest = 12.16417676\n",
      "bestIteration = 128\n",
      "\n",
      "Shrink model to first 129 iterations.\n"
     ]
    },
    {
     "data": {
      "text/plain": [
       "<catboost.core.CatBoostRegressor at 0x78174e9c3e00>"
      ]
     },
     "execution_count": 14,
     "metadata": {},
     "output_type": "execute_result"
    }
   ],
   "source": [
    "cat_model_default = CatBoostRegressor(thread_count=-1,\n",
    "                                      random_seed=42,\n",
    "                                      cat_features=cols_cats)\n",
    "cat_model_default.fit(\n",
    "    X_train,\n",
    "    y_train,\n",
    "    eval_set=(X_test, y_test),\n",
    "    verbose=200,\n",
    "    use_best_model=True,\n",
    "    plot=False,\n",
    "    early_stopping_rounds=100\n",
    ")"
   ]
  },
  {
   "cell_type": "code",
   "execution_count": 15,
   "id": "125453fd-602c-45ec-9de3-8979aba96ade",
   "metadata": {
    "tags": []
   },
   "outputs": [
    {
     "data": {
      "text/markdown": [
       "#### Значение `RMSE` с default параметрами CatBoost: 12.16"
      ],
      "text/plain": [
       "<IPython.core.display.Markdown object>"
      ]
     },
     "metadata": {},
     "output_type": "display_data"
    }
   ],
   "source": [
    "display(Markdown(f\"#### Значение `RMSE` с default параметрами CatBoost: {round(cat_model_default.best_score_['validation']['RMSE'], 2)}\"))"
   ]
  },
  {
   "cell_type": "markdown",
   "id": "6c6b47cd-feb7-490b-8b98-1eee2b3b71c4",
   "metadata": {},
   "source": [
    "### Подбор гиперпараметров\n",
    "#### Используем встроенный **grid_search** Catboost"
   ]
  },
  {
   "cell_type": "code",
   "execution_count": 117,
   "id": "302934e4-3a67-423b-a132-e8641ea71661",
   "metadata": {
    "tags": []
   },
   "outputs": [
    {
     "name": "stdout",
     "output_type": "stream",
     "text": [
      "\n",
      "bestTest = 10.73227337\n",
      "bestIteration = 999\n",
      "\n",
      "\n",
      "bestTest = 10.7365755\n",
      "bestIteration = 323\n",
      "\n",
      "\n",
      "bestTest = 10.71436759\n",
      "bestIteration = 239\n",
      "\n",
      "\n",
      "bestTest = 10.7808992\n",
      "bestIteration = 936\n",
      "\n",
      "\n",
      "bestTest = 10.80901949\n",
      "bestIteration = 337\n",
      "\n",
      "\n",
      "bestTest = 10.81892195\n",
      "bestIteration = 299\n",
      "\n",
      "\n",
      "bestTest = 10.72167277\n",
      "bestIteration = 970\n",
      "\n",
      "\n",
      "bestTest = 10.7488679\n",
      "bestIteration = 325\n",
      "\n",
      "\n",
      "bestTest = 10.76114647\n",
      "bestIteration = 242\n",
      "\n",
      "Training on fold [0/3]\n",
      "\n",
      "bestTest = 11.7431856\n",
      "bestIteration = 208\n",
      "\n",
      "Training on fold [1/3]\n",
      "\n",
      "bestTest = 11.7577536\n",
      "bestIteration = 238\n",
      "\n",
      "Training on fold [2/3]\n",
      "\n",
      "bestTest = 11.3622793\n",
      "bestIteration = 246\n",
      "\n",
      "{'learn': {'RMSE': 7.230686518563849}}\n"
     ]
    },
    {
     "data": {
      "text/markdown": [
       "#### Выбранные гиперпараметры для `CatBoost`:<br> `{'border_count': 40, 'learning_rate': 0.04}`"
      ],
      "text/plain": [
       "<IPython.core.display.Markdown object>"
      ]
     },
     "metadata": {},
     "output_type": "display_data"
    }
   ],
   "source": [
    "param_grid = {\n",
    "    'learning_rate': [.01, .03, .04],\n",
    "    'max_bin': [40, 50, 60], \n",
    "}\n",
    "model_cat = CatBoostRegressor(\n",
    "    random_seed=42,\n",
    "    cat_features=cols_cats,\n",
    "    thread_count=cpu_count,\n",
    "    verbose=False,\n",
    ")\n",
    "\n",
    "rand_search_res = model_cat.grid_search(param_grid, X, y, verbose=False, plot=False,)\n",
    "print(model_cat.best_score_)\n",
    "\n",
    "params_best_cat = rand_search_res['params']\n",
    "display(Markdown(f\"<br> #### Выбранные гиперпараметры для `CatBoost`:<br> `{params_best_cat}`\"))"
   ]
  },
  {
   "cell_type": "markdown",
   "id": "4ac15570-d7d3-4b30-9661-6d0f3765a651",
   "metadata": {},
   "source": [
    "#### Обучение по фолдам"
   ]
  },
  {
   "cell_type": "code",
   "execution_count": 188,
   "id": "fb55c74d-d37d-4b9d-93b3-d0075df9b0f2",
   "metadata": {},
   "outputs": [],
   "source": [
    "def pull_best_model(estimator, X, y, kwargs_fit, *, n_splits = 3, random_state=42):\n",
    "    n_splits = n_splits\n",
    "    models = []\n",
    "    scores = []\n",
    "    \n",
    "    kf = KFold(n_splits=n_splits, shuffle=True, random_state=random_state)\n",
    "    for train_index, test_index in kf.split(X):\n",
    "        X_train, X_test = X.iloc[train_index], X.iloc[test_index]\n",
    "        y_train, y_test = y.iloc[train_index], y.iloc[test_index]\n",
    "\n",
    "        model = estimator\n",
    "        model.fit(\n",
    "            X_train,\n",
    "            y_train,\n",
    "            eval_set=[(X_test, y_test)],\n",
    "            **kwargs_fit\n",
    "        )\n",
    "        if isinstance(model, CatBoostRegressor):\n",
    "            score = model.best_score_['validation']['RMSE']\n",
    "        elif isinstance(model, lgb.LGBMRegressor):\n",
    "            score = model.best_score_['valid_0']['rmse']\n",
    "        elif isinstance(model, xgb.XGBRegressor):\n",
    "            score = model.best_score\n",
    "        else:\n",
    "            score = 0\n",
    "        scores.append(score)\n",
    "        models.append(model)\n",
    "\n",
    "    best_model = models[np.argmin(scores)]\n",
    "    return best_model, min(scores)"
   ]
  },
  {
   "cell_type": "code",
   "execution_count": 196,
   "id": "21a1ee97-ba86-4225-b332-b7e547c08eaa",
   "metadata": {},
   "outputs": [
    {
     "name": "stdout",
     "output_type": "stream",
     "text": [
      "0:\tlearn: 17.5448536\ttest: 16.9309868\tbest: 16.9309868 (0)\ttotal: 5.34ms\tremaining: 10.7s\n",
      "200:\tlearn: 9.8768638\ttest: 12.0412599\tbest: 12.0132694 (113)\ttotal: 205ms\tremaining: 1.84s\n",
      "Stopped by overfitting detector  (100 iterations wait)\n",
      "\n",
      "bestTest = 12.01326945\n",
      "bestIteration = 113\n",
      "\n",
      "Shrink model to first 114 iterations.\n",
      "0:\tlearn: 16.8713527\ttest: 18.1447932\tbest: 18.1447932 (0)\ttotal: 1.4ms\tremaining: 2.79s\n",
      "200:\tlearn: 10.0181547\ttest: 11.8354254\tbest: 11.8354254 (200)\ttotal: 165ms\tremaining: 1.48s\n",
      "Stopped by overfitting detector  (100 iterations wait)\n",
      "\n",
      "bestTest = 11.82282234\n",
      "bestIteration = 279\n",
      "\n",
      "Shrink model to first 280 iterations.\n",
      "0:\tlearn: 17.5396387\ttest: 16.9023884\tbest: 16.9023884 (0)\ttotal: 885us\tremaining: 1.77s\n",
      "200:\tlearn: 10.2551450\ttest: 11.4095143\tbest: 11.4095143 (200)\ttotal: 113ms\tremaining: 1.01s\n",
      "Stopped by overfitting detector  (100 iterations wait)\n",
      "\n",
      "bestTest = 11.33389497\n",
      "bestIteration = 296\n",
      "\n",
      "Shrink model to first 297 iterations.\n"
     ]
    },
    {
     "data": {
      "text/plain": [
       "11.333894966792219"
      ]
     },
     "execution_count": 196,
     "metadata": {},
     "output_type": "execute_result"
    }
   ],
   "source": [
    "model_cat = CatBoostRegressor(\n",
    "    **params_best_cat,\n",
    "    iterations=2000,\n",
    "    cat_features=cols_cats,\n",
    "    random_seed=7575,\n",
    "    early_stopping_rounds=100,)\n",
    "\n",
    "cat_fit = dict(\n",
    "    verbose=200,\n",
    "    use_best_model=True,\n",
    "    plot=False,\n",
    "    early_stopping_rounds=100\n",
    ")\n",
    "\n",
    "b_m, rmse = pull_best_model(model_cat, X, y, cat_fit)\n",
    "rmse"
   ]
  },
  {
   "cell_type": "code",
   "execution_count": 158,
   "id": "72650b83-efae-40fe-b2db-2961de213bc4",
   "metadata": {
    "tags": []
   },
   "outputs": [
    {
     "name": "stdout",
     "output_type": "stream",
     "text": [
      "0:\tlearn: 17.5448536\ttest: 16.9309868\tbest: 16.9309868 (0)\ttotal: 2.35ms\tremaining: 4.69s\n",
      "Stopped by overfitting detector  (100 iterations wait)\n",
      "\n",
      "bestTest = 12.01326945\n",
      "bestIteration = 113\n",
      "\n",
      "Shrink model to first 114 iterations.\n",
      "0:\tlearn: 16.8713527\ttest: 18.1447932\tbest: 18.1447932 (0)\ttotal: 841us\tremaining: 1.68s\n",
      "Stopped by overfitting detector  (100 iterations wait)\n",
      "\n",
      "bestTest = 11.82282234\n",
      "bestIteration = 279\n",
      "\n",
      "Shrink model to first 280 iterations.\n",
      "0:\tlearn: 17.5396387\ttest: 16.9023884\tbest: 16.9023884 (0)\ttotal: 838us\tremaining: 1.68s\n",
      "Stopped by overfitting detector  (100 iterations wait)\n",
      "\n",
      "bestTest = 11.33389497\n",
      "bestIteration = 296\n",
      "\n",
      "Shrink model to first 297 iterations.\n"
     ]
    }
   ],
   "source": [
    "n_splits = 3\n",
    "models = []\n",
    "scores = []\n",
    "\n",
    "kf = KFold(n_splits=n_splits, shuffle=True, random_state=42)\n",
    "\n",
    "for train_index, test_index in kf.split(X):\n",
    "    X_train, X_test = X.iloc[train_index], X.iloc[test_index]\n",
    "    y_train, y_test = y.iloc[train_index], y.iloc[test_index]\n",
    "    \n",
    "    train_dataset = Pool(data=X_train, label=y_train, cat_features=cols_cats)\n",
    "    eval_dataset = Pool(data=X_test, label=y_test, cat_features=cols_cats)\n",
    "\n",
    "    model_cat = CatBoostRegressor(\n",
    "        **params_best_cat,\n",
    "        iterations=2000,\n",
    "        cat_features=cols_cats,\n",
    "        random_seed=7575,\n",
    "        early_stopping_rounds=100,)\n",
    "    \n",
    "    models.append(model_cat)\n",
    "    \n",
    "    model_cat.fit(\n",
    "        train_dataset,\n",
    "        eval_set=eval_dataset,\n",
    "        verbose=500,\n",
    "        use_best_model=True,\n",
    "        plot=False\n",
    "    )\n",
    "    scores.append(model_cat.best_score_['validation']['RMSE'])"
   ]
  },
  {
   "cell_type": "code",
   "execution_count": 124,
   "id": "8b8a4cfd-63a9-42ce-a08f-4a99fc3d8c02",
   "metadata": {
    "tags": []
   },
   "outputs": [
    {
     "data": {
      "text/markdown": [
       "#### Лучший ``CatBoost RMSE`` по 3 фолдам: `11.72`"
      ],
      "text/plain": [
       "<IPython.core.display.Markdown object>"
      ]
     },
     "metadata": {},
     "output_type": "display_data"
    }
   ],
   "source": [
    "display(Markdown(f\"#### Лучший ``CatBoost RMSE`` по {n_splits} фолдам: `{round(min(scores), 2)}`\"))"
   ]
  },
  {
   "cell_type": "markdown",
   "id": "60ef27eb-2e53-43f3-9673-b8473c47e53a",
   "metadata": {},
   "source": [
    "Сохраним лучшую модель `CatBoost`"
   ]
  },
  {
   "cell_type": "code",
   "execution_count": 22,
   "id": "8eacd429-b97c-488a-8355-9f3fe0a12776",
   "metadata": {
    "tags": []
   },
   "outputs": [],
   "source": [
    "best_model_cat = models[np.argmin(scores)]"
   ]
  },
  {
   "cell_type": "markdown",
   "id": "06a0b979-abd5-4717-9157-d7d761c882cd",
   "metadata": {
    "tags": []
   },
   "source": [
    "### <center> **LightGBM**"
   ]
  },
  {
   "cell_type": "markdown",
   "id": "92bf0b92-e9be-43bc-9728-ecb81d9fe64b",
   "metadata": {},
   "source": [
    "Посмотрим `RMSE` для **GOSS** `baseline` модели"
   ]
  },
  {
   "cell_type": "code",
   "execution_count": 87,
   "id": "42220cf9-cad6-4997-a632-1cad129879e0",
   "metadata": {},
   "outputs": [
    {
     "name": "stdout",
     "output_type": "stream",
     "text": [
      "Training until validation scores don't improve for 10 rounds\n",
      "Early stopping, best iteration is:\n",
      "[41]\tvalid_0's rmse: 12.0408\tvalid_0's l2: 144.982\n"
     ]
    },
    {
     "data": {
      "text/markdown": [
       "#### <br>`LightGBM` `RMSE` по дефолту: 12.041"
      ],
      "text/plain": [
       "<IPython.core.display.Markdown object>"
      ]
     },
     "metadata": {},
     "output_type": "display_data"
    }
   ],
   "source": [
    "model_lgb = lgb.LGBMRegressor(\n",
    "    boosting_type='goss',\n",
    "    objective='regression',\n",
    "    random_state=42,\n",
    "    cat_feature=[0, 1, 2],\n",
    "    verbose=-1)\n",
    "\n",
    "model_lgb.fit(\n",
    "    X_train,\n",
    "    y_train,\n",
    "    eval_set=[(X_test, y_test)],\n",
    "    eval_metric='rmse',\n",
    "    categorical_feature=[0, 1, 2],\n",
    "    callbacks=[lgb.early_stopping(10)]\n",
    ")\n",
    "\n",
    "display(Markdown(f\"#### <br>`LightGBM` `RMSE` по дефолту: {round(model_lgb.best_score_['valid_0']['rmse'], 3)}\"))"
   ]
  },
  {
   "cell_type": "markdown",
   "id": "dc29f13d-7fd2-46c4-bd1a-80592fd73bc9",
   "metadata": {},
   "source": [
    "#### <center> Выполним поиск гиперпараметров **`LightGBV`**"
   ]
  },
  {
   "cell_type": "code",
   "execution_count": 85,
   "id": "b0f49423-2248-4fb3-b3db-cee434473466",
   "metadata": {},
   "outputs": [
    {
     "data": {
      "text/markdown": [
       "#### Выбранные гиперпараметры для `LightGBM`: `{'learning_rate': 0.05, 'max_bin': 40, 'other_rate': 0.2, 'top_rate': 0.25}` <br> Best `RMSE`: 11.758"
      ],
      "text/plain": [
       "<IPython.core.display.Markdown object>"
      ]
     },
     "metadata": {},
     "output_type": "display_data"
    }
   ],
   "source": [
    "param_lgb = {\n",
    "    'learning_rate': [.05, ],\n",
    "    'max_bin': [40, 50, 60],\n",
    "    'top_rate': [.2, .25, .3],\n",
    "    'other_rate': [.1, .2, .25]\n",
    "}\n",
    "\n",
    "cv_kf = KFold(n_splits=5, random_state=42, shuffle=True)\n",
    "estimator_lgb = lgb.LGBMRegressor(\n",
    "    boosting_type='gbdt',\n",
    "    data_sample_strategy='goss',\n",
    "    random_state=42,\n",
    "    force_row_wise=True,\n",
    "    verbose=-1,\n",
    ")\n",
    "\n",
    "model_rand_lgb = GridSearchCV(\n",
    "    estimator_lgb,\n",
    "    param_lgb,\n",
    "    cv=cv_kf,\n",
    "    scoring='neg_root_mean_squared_error',\n",
    "    n_jobs=cpu_count,\n",
    "    verbose=0,\n",
    ")\n",
    "\n",
    "model_rand_lgb.fit(X, y)\n",
    "\n",
    "params_best_lgb = model_rand_lgb.best_params_\n",
    "display(Markdown(f\"#### Выбранные гиперпараметры для `LightGBM`: `{params_best_lgb}` <br> Best `RMSE`: {round(abs(model_rand_lgb.best_score_), 3)}\"))"
   ]
  },
  {
   "cell_type": "markdown",
   "id": "86cda7a9-8bcf-4a72-bd79-b1dff3817406",
   "metadata": {},
   "source": [
    "#### <center> Обучение по фолдам для `LightGBM`"
   ]
  },
  {
   "cell_type": "code",
   "execution_count": 115,
   "id": "2d900eb4-b8ab-4f2f-b65c-96286a0edf44",
   "metadata": {},
   "outputs": [
    {
     "name": "stdout",
     "output_type": "stream",
     "text": [
      "Training until validation scores don't improve for 10 rounds\n",
      "Early stopping, best iteration is:\n",
      "[74]\tvalid_0's rmse: 12.2875\tvalid_0's l2: 150.982\n",
      "Training until validation scores don't improve for 10 rounds\n",
      "Did not meet early stopping. Best iteration is:\n",
      "[97]\tvalid_0's rmse: 12.0945\tvalid_0's l2: 146.277\n",
      "Training until validation scores don't improve for 10 rounds\n",
      "Early stopping, best iteration is:\n",
      "[71]\tvalid_0's rmse: 11.7204\tvalid_0's l2: 137.368\n"
     ]
    }
   ],
   "source": [
    "n_splits = 3\n",
    "models = []\n",
    "scores = []\n",
    "\n",
    "kf = KFold(n_splits=n_splits, shuffle=True, random_state=42)\n",
    "\n",
    "for train_index, test_index in kf.split(X):\n",
    "    X_train, X_test = X.iloc[train_index], X.iloc[test_index]\n",
    "    y_train, y_test = y.iloc[train_index], y.iloc[test_index]\n",
    "\n",
    "    model = lgb.LGBMRegressor(\n",
    "        **params_best_lgb,\n",
    "        boosting_type='gbdt',\n",
    "        data_sample_strategy='goss',\n",
    "        cat_feature=[0, 1, 2],\n",
    "        random_state=42,\n",
    "        force_row_wise=True,\n",
    "        n_jobs=cpu_count,\n",
    "        verbose=-1\n",
    "    )\n",
    "    model.fit(\n",
    "        X_train,\n",
    "        y_train,\n",
    "        eval_set=[(X_test, y_test)],\n",
    "        eval_metric='rmse',\n",
    "        callbacks=[lgb.early_stopping(10)],\n",
    "        categorical_feature=[0, 1, 2],\n",
    "    )\n",
    "    models.append(model)\n",
    "    scores.append(model.best_score_['valid_0']['rmse'])"
   ]
  },
  {
   "cell_type": "code",
   "execution_count": 122,
   "id": "6501ca6f-aa63-402d-8ae0-fbae26b47a01",
   "metadata": {},
   "outputs": [
    {
     "data": {
      "text/markdown": [
       "#### Лучший `LightGBM` `RMSE` по 3 фолдам: `11.72`"
      ],
      "text/plain": [
       "<IPython.core.display.Markdown object>"
      ]
     },
     "metadata": {},
     "output_type": "display_data"
    }
   ],
   "source": [
    "display(Markdown(f\"#### Лучший `LightGBM` `RMSE` по {n_splits} фолдам: `{round(min(scores), 3)}`\"))"
   ]
  },
  {
   "cell_type": "code",
   "execution_count": 126,
   "id": "eaf94148-ab3c-4505-9606-5d8a807d6dac",
   "metadata": {},
   "outputs": [],
   "source": [
    "best_model_lgb = models[np.argmin(scores)]"
   ]
  },
  {
   "cell_type": "markdown",
   "id": "1a7f473f-ae9f-433e-b9ea-fdd7928c4949",
   "metadata": {},
   "source": [
    "### <center> **XGBoost**"
   ]
  },
  {
   "cell_type": "markdown",
   "id": "272aef00-c75f-4c5e-842d-6962fc1a2206",
   "metadata": {},
   "source": [
    "Построим базовую модель XGBoost"
   ]
  },
  {
   "cell_type": "code",
   "execution_count": 23,
   "id": "070a0b06-4e28-473a-989a-9f908be47176",
   "metadata": {},
   "outputs": [
    {
     "name": "stdout",
     "output_type": "stream",
     "text": [
      "[0]\tvalidation_0-rmse:15.73818\n",
      "[3]\tvalidation_0-rmse:13.04271\n",
      "[6]\tvalidation_0-rmse:12.64687\n",
      "[9]\tvalidation_0-rmse:12.65160\n",
      "[12]\tvalidation_0-rmse:12.67780\n",
      "[15]\tvalidation_0-rmse:12.75195\n",
      "[17]\tvalidation_0-rmse:12.83047\n"
     ]
    },
    {
     "data": {
      "text/markdown": [
       "#### <br>`XGBoost` `RMSE` по дефолту: 12.621"
      ],
      "text/plain": [
       "<IPython.core.display.Markdown object>"
      ]
     },
     "metadata": {},
     "output_type": "display_data"
    }
   ],
   "source": [
    "model_xgb = xgb.XGBRegressor(\n",
    "    objective='reg:squarederror',\n",
    "    booster='dart',\n",
    "    enable_categorical=True,\n",
    "    random_state=42,\n",
    "    nthread=cpu_count,\n",
    "    early_stopping_rounds=10,\n",
    ")\n",
    "model_xgb.fit(\n",
    "    X_train, \n",
    "    y_train,\n",
    "    eval_set=[(X_test, y_test)],\n",
    "    verbose=3\n",
    ")\n",
    "\n",
    "display(Markdown(f\"#### <br>`XGBoost` `RMSE` по дефолту: {round(model_xgb.best_score, 3)}\"))"
   ]
  },
  {
   "cell_type": "markdown",
   "id": "9ea0f1b1-6e67-4ffc-96f5-5ac2fb9f5067",
   "metadata": {},
   "source": [
    "#### <center> Настройка гиперпараметров **`XGBoost`**"
   ]
  },
  {
   "cell_type": "code",
   "execution_count": 100,
   "id": "c5b2b576-6666-4a47-a86b-6a804307fa74",
   "metadata": {},
   "outputs": [
    {
     "name": "stdout",
     "output_type": "stream",
     "text": [
      "Fitting 5 folds for each of 32 candidates, totalling 160 fits\n"
     ]
    },
    {
     "data": {
      "text/markdown": [
       "#### Выбранные гиперпараметры для `XGBoost`: <br> `{'eta': 0.04, 'normalize_type': 'tree', 'rate_drop': 0.0, 'sample_type': 'weighted', 'skip_drop': 0.30000000000000004, 'subsample': 0.9}` <br> Best `RMSE`: 11.723"
      ],
      "text/plain": [
       "<IPython.core.display.Markdown object>"
      ]
     },
     "metadata": {},
     "output_type": "display_data"
    }
   ],
   "source": [
    "param_grid ={\n",
    "    'eta': np.arange(.04, .06, .01),\n",
    "    'sample_type': ['weighted'], #['uniform', 'weighted'],\n",
    "    'normalize_type': ['tree'], #['tree', 'forest'],\n",
    "    'rate_drop': np.arange(.0, .4, .1),\n",
    "    'skip_drop': np.arange(.0,.4, .1),\n",
    "    #'min_child_weight': [1, 2]\n",
    "    'subsample': [.9],\n",
    "    #'colsample_bytree': [.9]\n",
    "}\n",
    "\n",
    "cv_kf = KFold(n_splits=5, random_state=42, shuffle=True)\n",
    "\n",
    "estimator_xgb = xgb.XGBRegressor(\n",
    "    objective='reg:squarederror',\n",
    "    booster='dart',\n",
    "    enable_categorical=True,\n",
    "    random_state=42,\n",
    "    n_estimators=100\n",
    ")\n",
    "\n",
    "model_tune_xgb = GridSearchCV(\n",
    "    estimator_xgb,\n",
    "    param_grid,\n",
    "    cv=cv_kf,\n",
    "    scoring='neg_root_mean_squared_error',\n",
    "    verbose=1,\n",
    "    n_jobs=cpu_count,\n",
    ")\n",
    "\n",
    "model_tune_xgb.fit(X, y)\n",
    "\n",
    "params_best_xgb = model_tune_xgb.best_params_\n",
    "display(Markdown(f\"#### Выбранные гиперпараметры для `XGBoost`: <br> `{params_best_xgb}` <br> Best `RMSE`: {round(abs(model_tune_xgb.best_score_), 3)}\"))"
   ]
  },
  {
   "cell_type": "code",
   "execution_count": 102,
   "id": "9531e6e0-3a61-4434-9051-1de8d42943df",
   "metadata": {},
   "outputs": [
    {
     "name": "stdout",
     "output_type": "stream",
     "text": [
      "[0]\tdtrain-rmse:14.51967\tdtest-rmse:15.73818\n",
      "[5]\tdtrain-rmse:9.49716\tdtest-rmse:12.65256\n",
      "[10]\tdtrain-rmse:7.94051\tdtest-rmse:12.71816\n",
      "[15]\tdtrain-rmse:7.23939\tdtest-rmse:12.75195\n",
      "[17]\tdtrain-rmse:6.69989\tdtest-rmse:12.83047\n"
     ]
    }
   ],
   "source": [
    "train_set = xgb.DMatrix(X_train, label=y_train, enable_categorical=True, nthread=cpu_count)\n",
    "test_set = xgb.DMatrix(X_test, label=y_test, enable_categorical=True, nthread=cpu_count)\n",
    "\n",
    "params ={'objective':'reg:squarederror', 'booster': 'dart', 'seed': 42}\n",
    "params_update = params.update(params_best_xgb)\n",
    "\n",
    "model = xgb.train(params_update, \n",
    "                  dtrain=train_set, \n",
    "                  num_boost_round=100, \n",
    "                  evals=[(train_set, 'dtrain'), (test_set, 'dtest')],\n",
    "                  early_stopping_rounds=10,\n",
    "                  verbose_eval=5)"
   ]
  },
  {
   "cell_type": "markdown",
   "id": "75eb80f9-84b7-42a1-b77d-406c8b53a59a",
   "metadata": {},
   "source": [
    "#### <center> Обучение по фолдам для `XGBoost`"
   ]
  },
  {
   "cell_type": "code",
   "execution_count": 114,
   "id": "b887e73c-d528-45ee-adba-9d01cb72ea7f",
   "metadata": {},
   "outputs": [
    {
     "name": "stdout",
     "output_type": "stream",
     "text": [
      "[12.13894015585641, 12.249269035927506, 11.91715643210969]\n"
     ]
    },
    {
     "data": {
      "text/markdown": [
       "#### Лучший `XGBoost` `RMSE` по 3 фолдам: `11.917`"
      ],
      "text/plain": [
       "<IPython.core.display.Markdown object>"
      ]
     },
     "metadata": {},
     "output_type": "display_data"
    }
   ],
   "source": [
    "n_splits = 3\n",
    "models = []\n",
    "scores = []\n",
    "\n",
    "kf = KFold(n_splits=n_splits, shuffle=True, random_state=42)\n",
    "\n",
    "for train_index, test_index in kf.split(X):\n",
    "    X_train, X_test = X.iloc[train_index], X.iloc[test_index]\n",
    "    y_train, y_test = y.iloc[train_index], y.iloc[test_index]\n",
    "\n",
    "    model = xgb.XGBRegressor(\n",
    "        **params_best_xgb,\n",
    "        objective='reg:squarederror',\n",
    "        booster='dart',\n",
    "        enable_categorical=True,\n",
    "        random_state=42,\n",
    "        n_jobs=cpu_count,\n",
    "        early_stopping_rounds=10,\n",
    "    )\n",
    "    model.fit(\n",
    "        X_train, \n",
    "        y_train,\n",
    "        eval_set=[(X_test, y_test)],\n",
    "        verbose=0\n",
    "    )\n",
    "    models.append(model)\n",
    "    scores.append(model.best_score)\n",
    "\n",
    "print(scores)\n",
    "display(Markdown(f\"#### Лучший `XGBoost` `RMSE` по {n_splits} фолдам: `{round(min(scores), 3)}`\"))\n",
    "\n",
    "best_model_xgb = models[np.argmin(scores)]"
   ]
  }
 ],
 "metadata": {
  "kernelspec": {
   "display_name": "Python 3 (ipykernel)",
   "language": "python",
   "name": "python3"
  },
  "language_info": {
   "codemirror_mode": {
    "name": "ipython",
    "version": 3
   },
   "file_extension": ".py",
   "mimetype": "text/x-python",
   "name": "python",
   "nbconvert_exporter": "python",
   "pygments_lexer": "ipython3",
   "version": "3.12.5"
  }
 },
 "nbformat": 4,
 "nbformat_minor": 5
}
