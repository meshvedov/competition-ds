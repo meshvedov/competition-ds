{
 "cells": [
  {
   "cell_type": "code",
   "execution_count": 67,
   "id": "3854aefb-2e5e-451a-896c-cbfb3c321db6",
   "metadata": {},
   "outputs": [],
   "source": [
    "import pandas as pd\n",
    "import numpy as np\n",
    "import matplotlib.pyplot as plt\n",
    "import seaborn as sns"
   ]
  },
  {
   "cell_type": "code",
   "execution_count": 68,
   "id": "ee034f75-a4ee-43ea-b57f-564421ea76df",
   "metadata": {},
   "outputs": [],
   "source": [
    "from sklearn.preprocessing import LabelEncoder\n",
    "\n",
    "import phik\n",
    "from phik.report import plot_correlation_matrix\n",
    "from phik import report\n",
    "\n",
    "import shap"
   ]
  },
  {
   "cell_type": "code",
   "execution_count": 167,
   "id": "a44a41ef-ea46-4da7-a37a-04e3ca87cb72",
   "metadata": {
    "tags": []
   },
   "outputs": [],
   "source": [
    "import lightgbm as lgb"
   ]
  },
  {
   "cell_type": "code",
   "execution_count": 69,
   "id": "c3a2f3f4-1942-4c81-b24a-adc7681f91d5",
   "metadata": {},
   "outputs": [
    {
     "data": {
      "text/html": [
       "<div>\n",
       "<style scoped>\n",
       "    .dataframe tbody tr th:only-of-type {\n",
       "        vertical-align: middle;\n",
       "    }\n",
       "\n",
       "    .dataframe tbody tr th {\n",
       "        vertical-align: top;\n",
       "    }\n",
       "\n",
       "    .dataframe thead th {\n",
       "        text-align: right;\n",
       "    }\n",
       "</style>\n",
       "<table border=\"1\" class=\"dataframe\">\n",
       "  <thead>\n",
       "    <tr style=\"text-align: right;\">\n",
       "      <th></th>\n",
       "      <th>car_id</th>\n",
       "      <th>model</th>\n",
       "      <th>car_type</th>\n",
       "      <th>fuel_type</th>\n",
       "      <th>car_rating</th>\n",
       "      <th>year_to_start</th>\n",
       "      <th>riders</th>\n",
       "      <th>year_to_work</th>\n",
       "      <th>target_reg</th>\n",
       "      <th>target_class</th>\n",
       "      <th>mean_rating</th>\n",
       "      <th>distance_sum</th>\n",
       "      <th>rating_min</th>\n",
       "      <th>speed_max</th>\n",
       "      <th>user_ride_quality_median</th>\n",
       "      <th>deviation_normal_count</th>\n",
       "      <th>user_uniq</th>\n",
       "    </tr>\n",
       "  </thead>\n",
       "  <tbody>\n",
       "    <tr>\n",
       "      <th>0</th>\n",
       "      <td>y13744087j</td>\n",
       "      <td>Kia Rio X-line</td>\n",
       "      <td>economy</td>\n",
       "      <td>petrol</td>\n",
       "      <td>3.78</td>\n",
       "      <td>2015</td>\n",
       "      <td>76163</td>\n",
       "      <td>2021</td>\n",
       "      <td>109.99</td>\n",
       "      <td>another_bug</td>\n",
       "      <td>4.737759</td>\n",
       "      <td>1.214131e+07</td>\n",
       "      <td>0.1</td>\n",
       "      <td>180.855726</td>\n",
       "      <td>0.023174</td>\n",
       "      <td>174</td>\n",
       "      <td>170</td>\n",
       "    </tr>\n",
       "    <tr>\n",
       "      <th>1</th>\n",
       "      <td>O41613818T</td>\n",
       "      <td>VW Polo VI</td>\n",
       "      <td>economy</td>\n",
       "      <td>petrol</td>\n",
       "      <td>3.90</td>\n",
       "      <td>2015</td>\n",
       "      <td>78218</td>\n",
       "      <td>2021</td>\n",
       "      <td>34.48</td>\n",
       "      <td>electro_bug</td>\n",
       "      <td>4.480517</td>\n",
       "      <td>1.803909e+07</td>\n",
       "      <td>0.0</td>\n",
       "      <td>187.862734</td>\n",
       "      <td>12.306011</td>\n",
       "      <td>174</td>\n",
       "      <td>174</td>\n",
       "    </tr>\n",
       "    <tr>\n",
       "      <th>2</th>\n",
       "      <td>d-2109686j</td>\n",
       "      <td>Renault Sandero</td>\n",
       "      <td>standart</td>\n",
       "      <td>petrol</td>\n",
       "      <td>6.30</td>\n",
       "      <td>2012</td>\n",
       "      <td>23340</td>\n",
       "      <td>2017</td>\n",
       "      <td>34.93</td>\n",
       "      <td>gear_stick</td>\n",
       "      <td>4.768391</td>\n",
       "      <td>1.588366e+07</td>\n",
       "      <td>0.1</td>\n",
       "      <td>102.382857</td>\n",
       "      <td>2.513319</td>\n",
       "      <td>174</td>\n",
       "      <td>173</td>\n",
       "    </tr>\n",
       "    <tr>\n",
       "      <th>3</th>\n",
       "      <td>u29695600e</td>\n",
       "      <td>Mercedes-Benz GLC</td>\n",
       "      <td>business</td>\n",
       "      <td>petrol</td>\n",
       "      <td>4.04</td>\n",
       "      <td>2011</td>\n",
       "      <td>1263</td>\n",
       "      <td>2020</td>\n",
       "      <td>32.22</td>\n",
       "      <td>engine_fuel</td>\n",
       "      <td>3.880920</td>\n",
       "      <td>1.651883e+07</td>\n",
       "      <td>0.1</td>\n",
       "      <td>172.793237</td>\n",
       "      <td>-5.029476</td>\n",
       "      <td>174</td>\n",
       "      <td>170</td>\n",
       "    </tr>\n",
       "    <tr>\n",
       "      <th>4</th>\n",
       "      <td>N-8915870N</td>\n",
       "      <td>Renault Sandero</td>\n",
       "      <td>standart</td>\n",
       "      <td>petrol</td>\n",
       "      <td>4.70</td>\n",
       "      <td>2012</td>\n",
       "      <td>26428</td>\n",
       "      <td>2017</td>\n",
       "      <td>27.51</td>\n",
       "      <td>engine_fuel</td>\n",
       "      <td>4.181149</td>\n",
       "      <td>1.398317e+07</td>\n",
       "      <td>0.1</td>\n",
       "      <td>203.462289</td>\n",
       "      <td>-14.260456</td>\n",
       "      <td>174</td>\n",
       "      <td>171</td>\n",
       "    </tr>\n",
       "  </tbody>\n",
       "</table>\n",
       "</div>"
      ],
      "text/plain": [
       "       car_id              model  car_type fuel_type  car_rating  \\\n",
       "0  y13744087j     Kia Rio X-line   economy    petrol        3.78   \n",
       "1  O41613818T         VW Polo VI   economy    petrol        3.90   \n",
       "2  d-2109686j    Renault Sandero  standart    petrol        6.30   \n",
       "3  u29695600e  Mercedes-Benz GLC  business    petrol        4.04   \n",
       "4  N-8915870N    Renault Sandero  standart    petrol        4.70   \n",
       "\n",
       "   year_to_start  riders  year_to_work  target_reg target_class  mean_rating  \\\n",
       "0           2015   76163          2021      109.99  another_bug     4.737759   \n",
       "1           2015   78218          2021       34.48  electro_bug     4.480517   \n",
       "2           2012   23340          2017       34.93   gear_stick     4.768391   \n",
       "3           2011    1263          2020       32.22  engine_fuel     3.880920   \n",
       "4           2012   26428          2017       27.51  engine_fuel     4.181149   \n",
       "\n",
       "   distance_sum  rating_min   speed_max  user_ride_quality_median  \\\n",
       "0  1.214131e+07         0.1  180.855726                  0.023174   \n",
       "1  1.803909e+07         0.0  187.862734                 12.306011   \n",
       "2  1.588366e+07         0.1  102.382857                  2.513319   \n",
       "3  1.651883e+07         0.1  172.793237                 -5.029476   \n",
       "4  1.398317e+07         0.1  203.462289                -14.260456   \n",
       "\n",
       "   deviation_normal_count  user_uniq  \n",
       "0                     174        170  \n",
       "1                     174        174  \n",
       "2                     174        173  \n",
       "3                     174        170  \n",
       "4                     174        171  "
      ]
     },
     "execution_count": 69,
     "metadata": {},
     "output_type": "execute_result"
    }
   ],
   "source": [
    "df_train = pd.read_csv('https://raw.githubusercontent.com/a-milenkin/Competitive_Data_Science/main/data/quickstart_train.csv')\n",
    "df_train.head()"
   ]
  },
  {
   "cell_type": "code",
   "execution_count": 70,
   "id": "367f88f2-8264-4cab-9ef0-96a80fdbae56",
   "metadata": {},
   "outputs": [
    {
     "data": {
      "text/html": [
       "<div>\n",
       "<style scoped>\n",
       "    .dataframe tbody tr th:only-of-type {\n",
       "        vertical-align: middle;\n",
       "    }\n",
       "\n",
       "    .dataframe tbody tr th {\n",
       "        vertical-align: top;\n",
       "    }\n",
       "\n",
       "    .dataframe thead th {\n",
       "        text-align: right;\n",
       "    }\n",
       "</style>\n",
       "<table border=\"1\" class=\"dataframe\">\n",
       "  <thead>\n",
       "    <tr style=\"text-align: right;\">\n",
       "      <th></th>\n",
       "      <th>model</th>\n",
       "      <th>car_type</th>\n",
       "      <th>fuel_type</th>\n",
       "      <th>target_class</th>\n",
       "    </tr>\n",
       "  </thead>\n",
       "  <tbody>\n",
       "    <tr>\n",
       "      <th>count</th>\n",
       "      <td>2337</td>\n",
       "      <td>2337</td>\n",
       "      <td>2337</td>\n",
       "      <td>2337</td>\n",
       "    </tr>\n",
       "    <tr>\n",
       "      <th>unique</th>\n",
       "      <td>26</td>\n",
       "      <td>4</td>\n",
       "      <td>2</td>\n",
       "      <td>9</td>\n",
       "    </tr>\n",
       "    <tr>\n",
       "      <th>top</th>\n",
       "      <td>Hyundai Solaris</td>\n",
       "      <td>economy</td>\n",
       "      <td>petrol</td>\n",
       "      <td>engine_overheat</td>\n",
       "    </tr>\n",
       "    <tr>\n",
       "      <th>freq</th>\n",
       "      <td>161</td>\n",
       "      <td>1536</td>\n",
       "      <td>2289</td>\n",
       "      <td>289</td>\n",
       "    </tr>\n",
       "  </tbody>\n",
       "</table>\n",
       "</div>"
      ],
      "text/plain": [
       "                  model car_type fuel_type     target_class\n",
       "count              2337     2337      2337             2337\n",
       "unique               26        4         2                9\n",
       "top     Hyundai Solaris  economy    petrol  engine_overheat\n",
       "freq                161     1536      2289              289"
      ]
     },
     "execution_count": 70,
     "metadata": {},
     "output_type": "execute_result"
    }
   ],
   "source": [
    "df_train.select_dtypes('O').drop('car_id', axis=1).describe()"
   ]
  },
  {
   "cell_type": "code",
   "execution_count": 71,
   "id": "6366a6be-e84c-4af5-95b8-f3431bb3c0b0",
   "metadata": {},
   "outputs": [
    {
     "data": {
      "text/html": [
       "<div>\n",
       "<style scoped>\n",
       "    .dataframe tbody tr th:only-of-type {\n",
       "        vertical-align: middle;\n",
       "    }\n",
       "\n",
       "    .dataframe tbody tr th {\n",
       "        vertical-align: top;\n",
       "    }\n",
       "\n",
       "    .dataframe thead th {\n",
       "        text-align: right;\n",
       "    }\n",
       "</style>\n",
       "<table border=\"1\" class=\"dataframe\">\n",
       "  <thead>\n",
       "    <tr style=\"text-align: right;\">\n",
       "      <th></th>\n",
       "      <th>model</th>\n",
       "      <th>car_type</th>\n",
       "      <th>fuel_type</th>\n",
       "      <th>car_rating</th>\n",
       "      <th>year_to_start</th>\n",
       "      <th>riders</th>\n",
       "      <th>year_to_work</th>\n",
       "      <th>target_reg</th>\n",
       "      <th>mean_rating</th>\n",
       "      <th>distance_sum</th>\n",
       "      <th>rating_min</th>\n",
       "      <th>speed_max</th>\n",
       "      <th>user_ride_quality_median</th>\n",
       "      <th>user_uniq</th>\n",
       "    </tr>\n",
       "  </thead>\n",
       "  <tbody>\n",
       "    <tr>\n",
       "      <th>0</th>\n",
       "      <td>Kia Rio X-line</td>\n",
       "      <td>economy</td>\n",
       "      <td>petrol</td>\n",
       "      <td>3.78</td>\n",
       "      <td>2015</td>\n",
       "      <td>76163</td>\n",
       "      <td>2021</td>\n",
       "      <td>109.99</td>\n",
       "      <td>4.737759</td>\n",
       "      <td>1.214131e+07</td>\n",
       "      <td>0.1</td>\n",
       "      <td>180.855726</td>\n",
       "      <td>0.023174</td>\n",
       "      <td>170</td>\n",
       "    </tr>\n",
       "    <tr>\n",
       "      <th>1</th>\n",
       "      <td>VW Polo VI</td>\n",
       "      <td>economy</td>\n",
       "      <td>petrol</td>\n",
       "      <td>3.90</td>\n",
       "      <td>2015</td>\n",
       "      <td>78218</td>\n",
       "      <td>2021</td>\n",
       "      <td>34.48</td>\n",
       "      <td>4.480517</td>\n",
       "      <td>1.803909e+07</td>\n",
       "      <td>0.0</td>\n",
       "      <td>187.862734</td>\n",
       "      <td>12.306011</td>\n",
       "      <td>174</td>\n",
       "    </tr>\n",
       "    <tr>\n",
       "      <th>2</th>\n",
       "      <td>Renault Sandero</td>\n",
       "      <td>standart</td>\n",
       "      <td>petrol</td>\n",
       "      <td>6.30</td>\n",
       "      <td>2012</td>\n",
       "      <td>23340</td>\n",
       "      <td>2017</td>\n",
       "      <td>34.93</td>\n",
       "      <td>4.768391</td>\n",
       "      <td>1.588366e+07</td>\n",
       "      <td>0.1</td>\n",
       "      <td>102.382857</td>\n",
       "      <td>2.513319</td>\n",
       "      <td>173</td>\n",
       "    </tr>\n",
       "    <tr>\n",
       "      <th>3</th>\n",
       "      <td>Mercedes-Benz GLC</td>\n",
       "      <td>business</td>\n",
       "      <td>petrol</td>\n",
       "      <td>4.04</td>\n",
       "      <td>2011</td>\n",
       "      <td>1263</td>\n",
       "      <td>2020</td>\n",
       "      <td>32.22</td>\n",
       "      <td>3.880920</td>\n",
       "      <td>1.651883e+07</td>\n",
       "      <td>0.1</td>\n",
       "      <td>172.793237</td>\n",
       "      <td>-5.029476</td>\n",
       "      <td>170</td>\n",
       "    </tr>\n",
       "    <tr>\n",
       "      <th>4</th>\n",
       "      <td>Renault Sandero</td>\n",
       "      <td>standart</td>\n",
       "      <td>petrol</td>\n",
       "      <td>4.70</td>\n",
       "      <td>2012</td>\n",
       "      <td>26428</td>\n",
       "      <td>2017</td>\n",
       "      <td>27.51</td>\n",
       "      <td>4.181149</td>\n",
       "      <td>1.398317e+07</td>\n",
       "      <td>0.1</td>\n",
       "      <td>203.462289</td>\n",
       "      <td>-14.260456</td>\n",
       "      <td>171</td>\n",
       "    </tr>\n",
       "  </tbody>\n",
       "</table>\n",
       "</div>"
      ],
      "text/plain": [
       "               model  car_type fuel_type  car_rating  year_to_start  riders  \\\n",
       "0     Kia Rio X-line   economy    petrol        3.78           2015   76163   \n",
       "1         VW Polo VI   economy    petrol        3.90           2015   78218   \n",
       "2    Renault Sandero  standart    petrol        6.30           2012   23340   \n",
       "3  Mercedes-Benz GLC  business    petrol        4.04           2011    1263   \n",
       "4    Renault Sandero  standart    petrol        4.70           2012   26428   \n",
       "\n",
       "   year_to_work  target_reg  mean_rating  distance_sum  rating_min  \\\n",
       "0          2021      109.99     4.737759  1.214131e+07         0.1   \n",
       "1          2021       34.48     4.480517  1.803909e+07         0.0   \n",
       "2          2017       34.93     4.768391  1.588366e+07         0.1   \n",
       "3          2020       32.22     3.880920  1.651883e+07         0.1   \n",
       "4          2017       27.51     4.181149  1.398317e+07         0.1   \n",
       "\n",
       "    speed_max  user_ride_quality_median  user_uniq  \n",
       "0  180.855726                  0.023174        170  \n",
       "1  187.862734                 12.306011        174  \n",
       "2  102.382857                  2.513319        173  \n",
       "3  172.793237                 -5.029476        170  \n",
       "4  203.462289                -14.260456        171  "
      ]
     },
     "execution_count": 71,
     "metadata": {},
     "output_type": "execute_result"
    }
   ],
   "source": [
    "cols_to_drop = ['car_id', 'target_class', 'deviation_normal_count']\n",
    "cols_cats = ['model', 'car_type', 'fuel_type']\n",
    "df_train_drop = df_train.drop(columns=cols_to_drop)\n",
    "df_train_drop.head()"
   ]
  },
  {
   "cell_type": "code",
   "execution_count": 72,
   "id": "4e71874e-9b85-42f7-badc-93a4b29e9bc9",
   "metadata": {},
   "outputs": [
    {
     "data": {
      "text/html": [
       "<div>\n",
       "<style scoped>\n",
       "    .dataframe tbody tr th:only-of-type {\n",
       "        vertical-align: middle;\n",
       "    }\n",
       "\n",
       "    .dataframe tbody tr th {\n",
       "        vertical-align: top;\n",
       "    }\n",
       "\n",
       "    .dataframe thead th {\n",
       "        text-align: right;\n",
       "    }\n",
       "</style>\n",
       "<table border=\"1\" class=\"dataframe\">\n",
       "  <thead>\n",
       "    <tr style=\"text-align: right;\">\n",
       "      <th></th>\n",
       "      <th>model</th>\n",
       "      <th>car_type</th>\n",
       "      <th>fuel_type</th>\n",
       "      <th>car_rating</th>\n",
       "      <th>year_to_start</th>\n",
       "      <th>riders</th>\n",
       "      <th>year_to_work</th>\n",
       "      <th>target_reg</th>\n",
       "      <th>mean_rating</th>\n",
       "      <th>distance_sum</th>\n",
       "      <th>rating_min</th>\n",
       "      <th>speed_max</th>\n",
       "      <th>user_ride_quality_median</th>\n",
       "      <th>user_uniq</th>\n",
       "    </tr>\n",
       "  </thead>\n",
       "  <tbody>\n",
       "    <tr>\n",
       "      <th>0</th>\n",
       "      <td>8</td>\n",
       "      <td>1</td>\n",
       "      <td>1</td>\n",
       "      <td>3.78</td>\n",
       "      <td>2015</td>\n",
       "      <td>76163</td>\n",
       "      <td>2021</td>\n",
       "      <td>109.99</td>\n",
       "      <td>4.737759</td>\n",
       "      <td>1.214131e+07</td>\n",
       "      <td>0.1</td>\n",
       "      <td>180.855726</td>\n",
       "      <td>0.023174</td>\n",
       "      <td>170</td>\n",
       "    </tr>\n",
       "    <tr>\n",
       "      <th>1</th>\n",
       "      <td>23</td>\n",
       "      <td>1</td>\n",
       "      <td>1</td>\n",
       "      <td>3.90</td>\n",
       "      <td>2015</td>\n",
       "      <td>78218</td>\n",
       "      <td>2021</td>\n",
       "      <td>34.48</td>\n",
       "      <td>4.480517</td>\n",
       "      <td>1.803909e+07</td>\n",
       "      <td>0.0</td>\n",
       "      <td>187.862734</td>\n",
       "      <td>12.306011</td>\n",
       "      <td>174</td>\n",
       "    </tr>\n",
       "    <tr>\n",
       "      <th>2</th>\n",
       "      <td>16</td>\n",
       "      <td>3</td>\n",
       "      <td>1</td>\n",
       "      <td>6.30</td>\n",
       "      <td>2012</td>\n",
       "      <td>23340</td>\n",
       "      <td>2017</td>\n",
       "      <td>34.93</td>\n",
       "      <td>4.768391</td>\n",
       "      <td>1.588366e+07</td>\n",
       "      <td>0.1</td>\n",
       "      <td>102.382857</td>\n",
       "      <td>2.513319</td>\n",
       "      <td>173</td>\n",
       "    </tr>\n",
       "    <tr>\n",
       "      <th>3</th>\n",
       "      <td>12</td>\n",
       "      <td>0</td>\n",
       "      <td>1</td>\n",
       "      <td>4.04</td>\n",
       "      <td>2011</td>\n",
       "      <td>1263</td>\n",
       "      <td>2020</td>\n",
       "      <td>32.22</td>\n",
       "      <td>3.880920</td>\n",
       "      <td>1.651883e+07</td>\n",
       "      <td>0.1</td>\n",
       "      <td>172.793237</td>\n",
       "      <td>-5.029476</td>\n",
       "      <td>170</td>\n",
       "    </tr>\n",
       "    <tr>\n",
       "      <th>4</th>\n",
       "      <td>16</td>\n",
       "      <td>3</td>\n",
       "      <td>1</td>\n",
       "      <td>4.70</td>\n",
       "      <td>2012</td>\n",
       "      <td>26428</td>\n",
       "      <td>2017</td>\n",
       "      <td>27.51</td>\n",
       "      <td>4.181149</td>\n",
       "      <td>1.398317e+07</td>\n",
       "      <td>0.1</td>\n",
       "      <td>203.462289</td>\n",
       "      <td>-14.260456</td>\n",
       "      <td>171</td>\n",
       "    </tr>\n",
       "  </tbody>\n",
       "</table>\n",
       "</div>"
      ],
      "text/plain": [
       "   model  car_type  fuel_type  car_rating  year_to_start  riders  \\\n",
       "0      8         1          1        3.78           2015   76163   \n",
       "1     23         1          1        3.90           2015   78218   \n",
       "2     16         3          1        6.30           2012   23340   \n",
       "3     12         0          1        4.04           2011    1263   \n",
       "4     16         3          1        4.70           2012   26428   \n",
       "\n",
       "   year_to_work  target_reg  mean_rating  distance_sum  rating_min  \\\n",
       "0          2021      109.99     4.737759  1.214131e+07         0.1   \n",
       "1          2021       34.48     4.480517  1.803909e+07         0.0   \n",
       "2          2017       34.93     4.768391  1.588366e+07         0.1   \n",
       "3          2020       32.22     3.880920  1.651883e+07         0.1   \n",
       "4          2017       27.51     4.181149  1.398317e+07         0.1   \n",
       "\n",
       "    speed_max  user_ride_quality_median  user_uniq  \n",
       "0  180.855726                  0.023174        170  \n",
       "1  187.862734                 12.306011        174  \n",
       "2  102.382857                  2.513319        173  \n",
       "3  172.793237                 -5.029476        170  \n",
       "4  203.462289                -14.260456        171  "
      ]
     },
     "execution_count": 72,
     "metadata": {},
     "output_type": "execute_result"
    }
   ],
   "source": [
    "df_train_coder = df_train_drop.copy()\n",
    "le = LabelEncoder()\n",
    "for col in cols_cats:\n",
    "    df_train_coder[col] = le.fit_transform(df_train_coder[col])\n",
    "\n",
    "df_train_coder.head()"
   ]
  },
  {
   "cell_type": "code",
   "execution_count": 73,
   "id": "af4d617b-3f47-429c-a574-e6f7c297f84d",
   "metadata": {},
   "outputs": [
    {
     "data": {
      "text/plain": [
       "255.734375"
      ]
     },
     "execution_count": 73,
     "metadata": {},
     "output_type": "execute_result"
    }
   ],
   "source": [
    "df_train_coder.memory_usage().sum() / 1024"
   ]
  },
  {
   "cell_type": "code",
   "execution_count": 74,
   "id": "47c97c8a-bb53-4fb8-857b-984977ad2812",
   "metadata": {},
   "outputs": [],
   "source": [
    "df_train_coder[cols_cats] = df_train_coder[cols_cats].astype('category')"
   ]
  },
  {
   "cell_type": "code",
   "execution_count": 75,
   "id": "9153daab-bebd-4b05-b0d6-695a05ba0174",
   "metadata": {
    "tags": []
   },
   "outputs": [
    {
     "data": {
      "text/html": [
       "<div>\n",
       "<style scoped>\n",
       "    .dataframe tbody tr th:only-of-type {\n",
       "        vertical-align: middle;\n",
       "    }\n",
       "\n",
       "    .dataframe tbody tr th {\n",
       "        vertical-align: top;\n",
       "    }\n",
       "\n",
       "    .dataframe thead th {\n",
       "        text-align: right;\n",
       "    }\n",
       "</style>\n",
       "<table border=\"1\" class=\"dataframe\">\n",
       "  <thead>\n",
       "    <tr style=\"text-align: right;\">\n",
       "      <th></th>\n",
       "      <th>model</th>\n",
       "      <th>car_type</th>\n",
       "      <th>fuel_type</th>\n",
       "      <th>car_rating</th>\n",
       "      <th>year_to_start</th>\n",
       "      <th>riders</th>\n",
       "      <th>year_to_work</th>\n",
       "      <th>target_reg</th>\n",
       "      <th>mean_rating</th>\n",
       "      <th>distance_sum</th>\n",
       "      <th>rating_min</th>\n",
       "      <th>speed_max</th>\n",
       "      <th>user_ride_quality_median</th>\n",
       "      <th>user_uniq</th>\n",
       "    </tr>\n",
       "  </thead>\n",
       "  <tbody>\n",
       "    <tr>\n",
       "      <th>0</th>\n",
       "      <td>8</td>\n",
       "      <td>1</td>\n",
       "      <td>1</td>\n",
       "      <td>3.78</td>\n",
       "      <td>2015</td>\n",
       "      <td>76163</td>\n",
       "      <td>2021</td>\n",
       "      <td>109.99</td>\n",
       "      <td>4.737759</td>\n",
       "      <td>1.214131e+07</td>\n",
       "      <td>0.1</td>\n",
       "      <td>180.855726</td>\n",
       "      <td>0.023174</td>\n",
       "      <td>170</td>\n",
       "    </tr>\n",
       "    <tr>\n",
       "      <th>1</th>\n",
       "      <td>23</td>\n",
       "      <td>1</td>\n",
       "      <td>1</td>\n",
       "      <td>3.90</td>\n",
       "      <td>2015</td>\n",
       "      <td>78218</td>\n",
       "      <td>2021</td>\n",
       "      <td>34.48</td>\n",
       "      <td>4.480517</td>\n",
       "      <td>1.803909e+07</td>\n",
       "      <td>0.0</td>\n",
       "      <td>187.862734</td>\n",
       "      <td>12.306011</td>\n",
       "      <td>174</td>\n",
       "    </tr>\n",
       "    <tr>\n",
       "      <th>2</th>\n",
       "      <td>16</td>\n",
       "      <td>3</td>\n",
       "      <td>1</td>\n",
       "      <td>6.30</td>\n",
       "      <td>2012</td>\n",
       "      <td>23340</td>\n",
       "      <td>2017</td>\n",
       "      <td>34.93</td>\n",
       "      <td>4.768391</td>\n",
       "      <td>1.588366e+07</td>\n",
       "      <td>0.1</td>\n",
       "      <td>102.382857</td>\n",
       "      <td>2.513319</td>\n",
       "      <td>173</td>\n",
       "    </tr>\n",
       "    <tr>\n",
       "      <th>3</th>\n",
       "      <td>12</td>\n",
       "      <td>0</td>\n",
       "      <td>1</td>\n",
       "      <td>4.04</td>\n",
       "      <td>2011</td>\n",
       "      <td>1263</td>\n",
       "      <td>2020</td>\n",
       "      <td>32.22</td>\n",
       "      <td>3.880920</td>\n",
       "      <td>1.651883e+07</td>\n",
       "      <td>0.1</td>\n",
       "      <td>172.793237</td>\n",
       "      <td>-5.029476</td>\n",
       "      <td>170</td>\n",
       "    </tr>\n",
       "    <tr>\n",
       "      <th>4</th>\n",
       "      <td>16</td>\n",
       "      <td>3</td>\n",
       "      <td>1</td>\n",
       "      <td>4.70</td>\n",
       "      <td>2012</td>\n",
       "      <td>26428</td>\n",
       "      <td>2017</td>\n",
       "      <td>27.51</td>\n",
       "      <td>4.181149</td>\n",
       "      <td>1.398317e+07</td>\n",
       "      <td>0.1</td>\n",
       "      <td>203.462289</td>\n",
       "      <td>-14.260456</td>\n",
       "      <td>171</td>\n",
       "    </tr>\n",
       "  </tbody>\n",
       "</table>\n",
       "</div>"
      ],
      "text/plain": [
       "  model car_type fuel_type  car_rating  year_to_start  riders  year_to_work  \\\n",
       "0     8        1         1        3.78           2015   76163          2021   \n",
       "1    23        1         1        3.90           2015   78218          2021   \n",
       "2    16        3         1        6.30           2012   23340          2017   \n",
       "3    12        0         1        4.04           2011    1263          2020   \n",
       "4    16        3         1        4.70           2012   26428          2017   \n",
       "\n",
       "   target_reg  mean_rating  distance_sum  rating_min   speed_max  \\\n",
       "0      109.99     4.737759  1.214131e+07         0.1  180.855726   \n",
       "1       34.48     4.480517  1.803909e+07         0.0  187.862734   \n",
       "2       34.93     4.768391  1.588366e+07         0.1  102.382857   \n",
       "3       32.22     3.880920  1.651883e+07         0.1  172.793237   \n",
       "4       27.51     4.181149  1.398317e+07         0.1  203.462289   \n",
       "\n",
       "   user_ride_quality_median  user_uniq  \n",
       "0                  0.023174        170  \n",
       "1                 12.306011        174  \n",
       "2                  2.513319        173  \n",
       "3                 -5.029476        170  \n",
       "4                -14.260456        171  "
      ]
     },
     "execution_count": 75,
     "metadata": {},
     "output_type": "execute_result"
    }
   ],
   "source": [
    "df_train_coder.head()"
   ]
  },
  {
   "cell_type": "code",
   "execution_count": 76,
   "id": "ed5c2b95-06c9-4f52-9388-bfca33149f0d",
   "metadata": {
    "tags": []
   },
   "outputs": [],
   "source": [
    "X = df_train_coder.drop('target_reg', axis=1)\n",
    "y = df_train_coder.target_reg"
   ]
  },
  {
   "cell_type": "code",
   "execution_count": 77,
   "id": "e48817d7-a586-47f7-84ac-5113b3608d4e",
   "metadata": {
    "tags": []
   },
   "outputs": [
    {
     "data": {
      "image/png": "[encoded data removed]",
      "text/plain": [
       "<Figure size 1200x600 with 12 Axes>"
      ]
     },
     "metadata": {},
     "output_type": "display_data"
    }
   ],
   "source": [
    "X.hist(bins=30, layout=(-1, 4), figsize=(12, 6))\n",
    "plt.tight_layout()"
   ]
  },
  {
   "cell_type": "code",
   "execution_count": 78,
   "id": "79f4b813-4a06-433a-98af-94cfe599fc94",
   "metadata": {
    "tags": []
   },
   "outputs": [
    {
     "name": "stdout",
     "output_type": "stream",
     "text": [
      "interval columns not set, guessing: ['car_rating', 'year_to_start', 'riders', 'year_to_work', 'target_reg', 'mean_rating', 'distance_sum', 'rating_min', 'speed_max', 'user_ride_quality_median', 'user_uniq']\n"
     ]
    },
    {
     "data": {
      "text/plain": [
       "target_reg                  1.00\n",
       "speed_max                   0.49\n",
       "mean_rating                 0.47\n",
       "user_uniq                   0.42\n",
       "fuel_type                   0.36\n",
       "model                       0.29\n",
       "car_type                    0.18\n",
       "rating_min                  0.08\n",
       "car_rating                  0.00\n",
       "year_to_start               0.00\n",
       "riders                      0.00\n",
       "year_to_work                0.00\n",
       "distance_sum                0.00\n",
       "user_ride_quality_median    0.00\n",
       "Name: target_reg, dtype: float64"
      ]
     },
     "execution_count": 78,
     "metadata": {},
     "output_type": "execute_result"
    }
   ],
   "source": [
    "df_train_coder.phik_matrix().round(2)['target_reg'].sort_values(ascending=False)"
   ]
  },
  {
   "cell_type": "code",
   "execution_count": 79,
   "id": "bb72f7d1-04af-462d-a467-ec08c99fa73d",
   "metadata": {
    "tags": []
   },
   "outputs": [
    {
     "name": "stdout",
     "output_type": "stream",
     "text": [
      "interval columns not set, guessing: ['car_rating', 'year_to_start', 'riders', 'year_to_work', 'target_reg', 'mean_rating', 'distance_sum', 'rating_min', 'speed_max', 'user_ride_quality_median', 'user_uniq']\n"
     ]
    }
   ],
   "source": [
    "cols_with_corr = (df_train_coder.phik_matrix().round(2)['target_reg'] > 0).tolist()"
   ]
  },
  {
   "cell_type": "code",
   "execution_count": 80,
   "id": "7d4a147d-1c92-4fe0-a7e0-c2b433a766bd",
   "metadata": {
    "tags": []
   },
   "outputs": [],
   "source": [
    "cols_no_corr = [not x for x in cols_with_corr]"
   ]
  },
  {
   "cell_type": "code",
   "execution_count": 81,
   "id": "92bd852f-91e5-4a94-9558-e15e35714a63",
   "metadata": {
    "tags": []
   },
   "outputs": [
    {
     "data": {
      "image/png": "[encoded data removed]",
      "text/plain": [
       "<Figure size 640x480 with 6 Axes>"
      ]
     },
     "metadata": {},
     "output_type": "display_data"
    }
   ],
   "source": [
    "df_train_coder.iloc[:, cols_no_corr].hist(bins=30)\n",
    "plt.tight_layout();"
   ]
  },
  {
   "cell_type": "code",
   "execution_count": 140,
   "id": "c1d7f527-576a-482f-913f-bfe562af35fc",
   "metadata": {
    "tags": []
   },
   "outputs": [],
   "source": [
    "from sklearn.model_selection import KFold\n",
    "from sklearn.metrics import mean_squared_error\n",
    "from sklearn.model_selection import RandomizedSearchCV\n",
    "\n",
    "import xgboost as xgb"
   ]
  },
  {
   "cell_type": "code",
   "execution_count": 90,
   "id": "a9d08a3a-ef33-4d00-8a9f-481ac5ae363b",
   "metadata": {
    "tags": []
   },
   "outputs": [
    {
     "data": {
      "text/plain": [
       "((1869, 13), (468, 13))"
      ]
     },
     "execution_count": 90,
     "metadata": {},
     "output_type": "execute_result"
    }
   ],
   "source": []
  },
  {
   "cell_type": "code",
   "execution_count": 139,
   "id": "3eda225b-7b40-4e3d-a617-e96a4cb103e2",
   "metadata": {
    "tags": []
   },
   "outputs": [
    {
     "name": "stdout",
     "output_type": "stream",
     "text": [
      "[0]\tvalidation_0-rmse:14.89675\n",
      "[5]\tvalidation_0-rmse:12.22680\n",
      "[10]\tvalidation_0-rmse:12.20942\n",
      "[15]\tvalidation_0-rmse:12.35557\n",
      "[16]\tvalidation_0-rmse:12.35372\n",
      "==========================\n",
      "[0]\tvalidation_0-rmse:15.90871\n",
      "[5]\tvalidation_0-rmse:12.56165\n",
      "[10]\tvalidation_0-rmse:12.47663\n",
      "[15]\tvalidation_0-rmse:12.51227\n",
      "[17]\tvalidation_0-rmse:12.58189\n",
      "==========================\n",
      "[0]\tvalidation_0-rmse:14.88523\n",
      "[5]\tvalidation_0-rmse:12.36360\n",
      "[10]\tvalidation_0-rmse:12.29614\n",
      "[15]\tvalidation_0-rmse:12.36574\n",
      "[17]\tvalidation_0-rmse:12.39171\n",
      "==========================\n"
     ]
    },
    {
     "data": {
      "text/plain": [
       "[12.146105757341576, 12.425323039609944, 12.269656128644009]"
      ]
     },
     "execution_count": 139,
     "metadata": {},
     "output_type": "execute_result"
    }
   ],
   "source": [
    "models = []\n",
    "scores = []\n",
    "kf = KFold(n_splits=3, random_state=42, shuffle=True)\n",
    "\n",
    "params ={'objective':'reg:squarederror', 'seed': 42}\n",
    "\n",
    "for train_idx, test_idx in kf.split(X, y):\n",
    "    X_train_sub = X.iloc[train_idx]\n",
    "    y_train_sub = y.iloc[train_idx]\n",
    "    X_test_sub = X.iloc[test_idx]\n",
    "    y_test_sub = y.iloc[test_idx]\n",
    "    # train_set = xgb.DMatrix(X_train_sub, label=y_train_sub, enable_categorical=True)\n",
    "    # test_set = xgb.DMatrix(X_test_sub, label=y_test_sub, enable_categorical=True)\n",
    "    \n",
    "    # model = xgb.train(params, \n",
    "    #                   dtrain=train_set, \n",
    "    #                   num_boost_round=50, \n",
    "    #                   evals=[(train_set, 'dtrain'), (test_set, 'dtest')],\n",
    "    #                   early_stopping_rounds=10,\n",
    "    #                   verbose_eval=5)\n",
    "    model = xgb.XGBRegressor(enable_categorical=True, random_state=42, n_estimators=50, early_stopping_rounds=10,)\n",
    "    model.fit(X_train_sub, y_train_sub, eval_set=[(X_test_sub, y_test_sub)], verbose=5)\n",
    "    y_pred = model.predict(X_test_sub)\n",
    "    models.append(model)\n",
    "    scores.append(mean_squared_error(y_test_sub, y_pred) ** .5)\n",
    "    print('==========================')\n",
    "\n",
    "scores"
   ]
  },
  {
   "cell_type": "code",
   "execution_count": 130,
   "id": "bf7859d3-8a46-4612-9b6a-607ca60d519f",
   "metadata": {
    "tags": []
   },
   "outputs": [],
   "source": [
    "best_estimator = models[np.argmin(scores)]"
   ]
  },
  {
   "cell_type": "code",
   "execution_count": 134,
   "id": "6469697e-d1dc-48ce-9b5b-44183e31efe8",
   "metadata": {
    "tags": []
   },
   "outputs": [
    {
     "data": {
      "text/plain": [
       "{'objective': 'reg:squarederror',\n",
       " 'base_score': None,\n",
       " 'booster': None,\n",
       " 'callbacks': None,\n",
       " 'colsample_bylevel': None,\n",
       " 'colsample_bynode': None,\n",
       " 'colsample_bytree': None,\n",
       " 'device': None,\n",
       " 'early_stopping_rounds': 10,\n",
       " 'enable_categorical': True,\n",
       " 'eval_metric': None,\n",
       " 'feature_types': None,\n",
       " 'gamma': None,\n",
       " 'grow_policy': None,\n",
       " 'importance_type': None,\n",
       " 'interaction_constraints': None,\n",
       " 'learning_rate': None,\n",
       " 'max_bin': None,\n",
       " 'max_cat_threshold': None,\n",
       " 'max_cat_to_onehot': None,\n",
       " 'max_delta_step': None,\n",
       " 'max_depth': None,\n",
       " 'max_leaves': None,\n",
       " 'min_child_weight': None,\n",
       " 'missing': nan,\n",
       " 'monotone_constraints': None,\n",
       " 'multi_strategy': None,\n",
       " 'n_estimators': 50,\n",
       " 'n_jobs': None,\n",
       " 'num_parallel_tree': None,\n",
       " 'random_state': 42,\n",
       " 'reg_alpha': None,\n",
       " 'reg_lambda': None,\n",
       " 'sampling_method': None,\n",
       " 'scale_pos_weight': None,\n",
       " 'subsample': None,\n",
       " 'tree_method': None,\n",
       " 'validate_parameters': None,\n",
       " 'verbosity': None}"
      ]
     },
     "execution_count": 134,
     "metadata": {},
     "output_type": "execute_result"
    }
   ],
   "source": [
    "best_estimator.get_params()"
   ]
  },
  {
   "cell_type": "code",
   "execution_count": 166,
   "id": "aff120b8-5ba6-47fe-a204-bbc911d63fce",
   "metadata": {
    "tags": []
   },
   "outputs": [
    {
     "name": "stdout",
     "output_type": "stream",
     "text": [
      "Fitting 5 folds for each of 10 candidates, totalling 50 fits\n",
      "[CV 1/5] END ........eta=0.054000000000000006;, score=-12.502 total time=   0.8s\n",
      "[CV 2/5] END ........eta=0.054000000000000006;, score=-12.467 total time=   0.1s\n",
      "[CV 3/5] END ........eta=0.054000000000000006;, score=-10.955 total time=   0.2s\n",
      "[CV 4/5] END ........eta=0.054000000000000006;, score=-11.663 total time=   0.1s\n",
      "[CV 5/5] END ........eta=0.054000000000000006;, score=-11.678 total time=   0.1s\n",
      "[CV 1/5] END .........eta=0.05700000000000001;, score=-12.524 total time=   0.1s\n",
      "[CV 2/5] END .........eta=0.05700000000000001;, score=-12.521 total time=   0.2s\n",
      "[CV 3/5] END .........eta=0.05700000000000001;, score=-11.071 total time=   0.2s\n",
      "[CV 4/5] END .........eta=0.05700000000000001;, score=-11.751 total time=   0.1s\n",
      "[CV 5/5] END .........eta=0.05700000000000001;, score=-11.665 total time=   0.1s\n",
      "[CV 1/5] END .........eta=0.05500000000000001;, score=-12.503 total time=   0.1s\n",
      "[CV 2/5] END .........eta=0.05500000000000001;, score=-12.472 total time=   0.1s\n",
      "[CV 3/5] END .........eta=0.05500000000000001;, score=-11.002 total time=   0.1s\n",
      "[CV 4/5] END .........eta=0.05500000000000001;, score=-11.689 total time=   0.2s\n",
      "[CV 5/5] END .........eta=0.05500000000000001;, score=-11.608 total time=   0.1s\n",
      "[CV 1/5] END .........eta=0.06800000000000002;, score=-12.295 total time=   0.1s\n",
      "[CV 2/5] END .........eta=0.06800000000000002;, score=-12.564 total time=   0.2s\n",
      "[CV 3/5] END .........eta=0.06800000000000002;, score=-11.023 total time=   0.1s\n",
      "[CV 4/5] END .........eta=0.06800000000000002;, score=-11.749 total time=   0.2s\n",
      "[CV 5/5] END .........eta=0.06800000000000002;, score=-11.544 total time=   0.1s\n",
      "[CV 1/5] END ........eta=0.053000000000000005;, score=-12.495 total time=   0.2s\n",
      "[CV 2/5] END ........eta=0.053000000000000005;, score=-12.450 total time=   0.1s\n",
      "[CV 3/5] END ........eta=0.053000000000000005;, score=-10.944 total time=   0.1s\n",
      "[CV 4/5] END ........eta=0.053000000000000005;, score=-11.745 total time=   0.2s\n",
      "[CV 5/5] END ........eta=0.053000000000000005;, score=-11.575 total time=   0.1s\n",
      "[CV 1/5] END .........eta=0.06600000000000002;, score=-12.319 total time=   0.1s\n",
      "[CV 2/5] END .........eta=0.06600000000000002;, score=-12.440 total time=   0.1s\n",
      "[CV 3/5] END .........eta=0.06600000000000002;, score=-11.107 total time=   0.1s\n",
      "[CV 4/5] END .........eta=0.06600000000000002;, score=-11.675 total time=   0.2s\n",
      "[CV 5/5] END .........eta=0.06600000000000002;, score=-11.743 total time=   0.1s\n",
      "[CV 1/5] END .........eta=0.05800000000000001;, score=-12.432 total time=   0.2s\n",
      "[CV 2/5] END .........eta=0.05800000000000001;, score=-12.447 total time=   0.1s\n",
      "[CV 3/5] END .........eta=0.05800000000000001;, score=-10.919 total time=   0.1s\n",
      "[CV 4/5] END .........eta=0.05800000000000001;, score=-11.820 total time=   0.1s\n",
      "[CV 5/5] END .........eta=0.05800000000000001;, score=-11.695 total time=   0.2s\n",
      "[CV 1/5] END .........eta=0.07000000000000002;, score=-12.185 total time=   0.1s\n",
      "[CV 2/5] END .........eta=0.07000000000000002;, score=-12.519 total time=   0.1s\n",
      "[CV 3/5] END .........eta=0.07000000000000002;, score=-11.200 total time=   0.1s\n",
      "[CV 4/5] END .........eta=0.07000000000000002;, score=-11.802 total time=   0.2s\n",
      "[CV 5/5] END .........eta=0.07000000000000002;, score=-11.661 total time=   0.1s\n",
      "[CV 1/5] END .........eta=0.06500000000000002;, score=-12.360 total time=   0.1s\n",
      "[CV 2/5] END .........eta=0.06500000000000002;, score=-12.513 total time=   0.1s\n",
      "[CV 3/5] END .........eta=0.06500000000000002;, score=-11.075 total time=   0.2s\n",
      "[CV 4/5] END .........eta=0.06500000000000002;, score=-11.659 total time=   0.1s\n",
      "[CV 5/5] END .........eta=0.06500000000000002;, score=-11.604 total time=   0.1s\n",
      "[CV 1/5] END .........eta=0.06400000000000002;, score=-12.424 total time=   0.1s\n",
      "[CV 2/5] END .........eta=0.06400000000000002;, score=-12.580 total time=   0.1s\n",
      "[CV 3/5] END .........eta=0.06400000000000002;, score=-11.088 total time=   0.1s\n",
      "[CV 4/5] END .........eta=0.06400000000000002;, score=-11.633 total time=   0.1s\n",
      "[CV 5/5] END .........eta=0.06400000000000002;, score=-11.702 total time=   0.2s\n",
      "-11.834938593755334\n"
     ]
    },
    {
     "data": {
      "text/plain": [
       "{'eta': 0.06800000000000002}"
      ]
     },
     "execution_count": 166,
     "metadata": {},
     "output_type": "execute_result"
    }
   ],
   "source": [
    "dist_param ={'eta': np.arange(.05, .07, .001)}\n",
    "\n",
    "cv_kf = KFold(n_splits=5, random_state=42, shuffle=True)\n",
    "estimator = xgb.XGBRegressor(enable_categorical=True, random_state=42, n_estimators=50)\n",
    "\n",
    "model_rand = RandomizedSearchCV(estimator, dist_param, cv = cv_kf, random_state=123, scoring='neg_root_mean_squared_error', verbose=3)\n",
    "model_rand.fit(X, y)\n",
    "print(model_rand.best_score_)\n",
    "model_rand.best_params_"
   ]
  },
  {
   "cell_type": "code",
   "execution_count": 171,
   "id": "cd92c06f-8514-4791-ae9b-8d53e9f020b5",
   "metadata": {
    "tags": []
   },
   "outputs": [],
   "source": [
    "import warnings; warnings.filterwarnings(\"ignore\")"
   ]
  },
  {
   "cell_type": "code",
   "execution_count": 183,
   "id": "427a1c6f-a3b3-45ac-ade4-c68a856ddbd7",
   "metadata": {
    "tags": []
   },
   "outputs": [
    {
     "name": "stdout",
     "output_type": "stream",
     "text": [
      "-11.752339706358137\n"
     ]
    },
    {
     "data": {
      "text/plain": [
       "{'learning_rate': 0.025, 'boosting_type': 'gbdt'}"
      ]
     },
     "execution_count": 183,
     "metadata": {},
     "output_type": "execute_result"
    }
   ],
   "source": [
    "param_lgb ={'learning_rate': [.01, .025, .05, .75, .1, .15], 'boosting_type':['gbdt']}\n",
    "\n",
    "cv_kf = KFold(n_splits=5, random_state=42, shuffle=True)\n",
    "estimator_lgb = lgb.LGBMRegressor(random_state=42, verbosity=0)\n",
    "\n",
    "model_rand_lgb = RandomizedSearchCV(estimator_lgb, param_lgb, cv = cv_kf, random_state=123, scoring='neg_root_mean_squared_error', verbose=0)\n",
    "model_rand_lgb.fit(X, y)\n",
    "print(model_rand_lgb.best_score_)\n",
    "model_rand_lgb.best_params_"
   ]
  },
  {
   "cell_type": "code",
   "execution_count": null,
   "id": "fddc505e-c5b3-4253-a245-58e603eb6087",
   "metadata": {},
   "outputs": [],
   "source": []
  },
  {
   "cell_type": "code",
   "execution_count": 168,
   "id": "edfabe0b-6117-4399-a031-6b955564b6bd",
   "metadata": {
    "tags": []
   },
   "outputs": [
    {
     "data": {
      "text/plain": [
       "array([0.01, 0.06, 0.11, 0.16])"
      ]
     },
     "execution_count": 168,
     "metadata": {},
     "output_type": "execute_result"
    }
   ],
   "source": []
  }
 ],
 "metadata": {
  "kernelspec": {
   "display_name": "Python 3 (ipykernel)",
   "language": "python",
   "name": "python3"
  },
  "language_info": {
   "codemirror_mode": {
    "name": "ipython",
    "version": 3
   },
   "file_extension": ".py",
   "mimetype": "text/x-python",
   "name": "python",
   "nbconvert_exporter": "python",
   "pygments_lexer": "ipython3",
   "version": "3.10.14"
  }
 },
 "nbformat": 4,
 "nbformat_minor": 5
}
