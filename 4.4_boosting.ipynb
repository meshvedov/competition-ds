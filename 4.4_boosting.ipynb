{
 "cells": [
  {
   "cell_type": "code",
   "execution_count": 184,
   "id": "3854aefb-2e5e-451a-896c-cbfb3c321db6",
   "metadata": {
    "tags": []
   },
   "outputs": [],
   "source": [
    "import pandas as pd\n",
    "import numpy as np\n",
    "import matplotlib.pyplot as plt\n",
    "import seaborn as sns"
   ]
  },
  {
   "cell_type": "code",
   "execution_count": 185,
   "id": "ee034f75-a4ee-43ea-b57f-564421ea76df",
   "metadata": {
    "tags": []
   },
   "outputs": [],
   "source": [
    "from sklearn.preprocessing import LabelEncoder\n",
    "\n",
    "import phik\n",
    "from phik.report import plot_correlation_matrix\n",
    "from phik import report\n",
    "\n",
    "import shap"
   ]
  },
  {
   "cell_type": "code",
   "execution_count": 186,
   "id": "a44a41ef-ea46-4da7-a37a-04e3ca87cb72",
   "metadata": {
    "tags": []
   },
   "outputs": [],
   "source": [
    "from sklearn.model_selection import KFold\n",
    "from sklearn.metrics import mean_squared_error\n",
    "from sklearn.model_selection import RandomizedSearchCV\n",
    "\n",
    "import lightgbm as lgb\n",
    "import xgboost as xgb\n",
    "from catboost import CatBoostClassifier, CatBoostRegressor, Pool"
   ]
  },
  {
   "cell_type": "code",
   "execution_count": 187,
   "id": "c3a2f3f4-1942-4c81-b24a-adc7681f91d5",
   "metadata": {
    "tags": []
   },
   "outputs": [
    {
     "data": {
      "text/html": [
       "<div>\n",
       "<style scoped>\n",
       "    .dataframe tbody tr th:only-of-type {\n",
       "        vertical-align: middle;\n",
       "    }\n",
       "\n",
       "    .dataframe tbody tr th {\n",
       "        vertical-align: top;\n",
       "    }\n",
       "\n",
       "    .dataframe thead th {\n",
       "        text-align: right;\n",
       "    }\n",
       "</style>\n",
       "<table border=\"1\" class=\"dataframe\">\n",
       "  <thead>\n",
       "    <tr style=\"text-align: right;\">\n",
       "      <th></th>\n",
       "      <th>car_id</th>\n",
       "      <th>model</th>\n",
       "      <th>car_type</th>\n",
       "      <th>fuel_type</th>\n",
       "      <th>car_rating</th>\n",
       "      <th>year_to_start</th>\n",
       "      <th>riders</th>\n",
       "      <th>year_to_work</th>\n",
       "      <th>target_reg</th>\n",
       "      <th>target_class</th>\n",
       "      <th>mean_rating</th>\n",
       "      <th>distance_sum</th>\n",
       "      <th>rating_min</th>\n",
       "      <th>speed_max</th>\n",
       "      <th>user_ride_quality_median</th>\n",
       "      <th>deviation_normal_count</th>\n",
       "      <th>user_uniq</th>\n",
       "    </tr>\n",
       "  </thead>\n",
       "  <tbody>\n",
       "    <tr>\n",
       "      <th>0</th>\n",
       "      <td>y13744087j</td>\n",
       "      <td>Kia Rio X-line</td>\n",
       "      <td>economy</td>\n",
       "      <td>petrol</td>\n",
       "      <td>3.78</td>\n",
       "      <td>2015</td>\n",
       "      <td>76163</td>\n",
       "      <td>2021</td>\n",
       "      <td>109.99</td>\n",
       "      <td>another_bug</td>\n",
       "      <td>4.737759</td>\n",
       "      <td>1.214131e+07</td>\n",
       "      <td>0.1</td>\n",
       "      <td>180.855726</td>\n",
       "      <td>0.023174</td>\n",
       "      <td>174</td>\n",
       "      <td>170</td>\n",
       "    </tr>\n",
       "    <tr>\n",
       "      <th>1</th>\n",
       "      <td>O41613818T</td>\n",
       "      <td>VW Polo VI</td>\n",
       "      <td>economy</td>\n",
       "      <td>petrol</td>\n",
       "      <td>3.90</td>\n",
       "      <td>2015</td>\n",
       "      <td>78218</td>\n",
       "      <td>2021</td>\n",
       "      <td>34.48</td>\n",
       "      <td>electro_bug</td>\n",
       "      <td>4.480517</td>\n",
       "      <td>1.803909e+07</td>\n",
       "      <td>0.0</td>\n",
       "      <td>187.862734</td>\n",
       "      <td>12.306011</td>\n",
       "      <td>174</td>\n",
       "      <td>174</td>\n",
       "    </tr>\n",
       "    <tr>\n",
       "      <th>2</th>\n",
       "      <td>d-2109686j</td>\n",
       "      <td>Renault Sandero</td>\n",
       "      <td>standart</td>\n",
       "      <td>petrol</td>\n",
       "      <td>6.30</td>\n",
       "      <td>2012</td>\n",
       "      <td>23340</td>\n",
       "      <td>2017</td>\n",
       "      <td>34.93</td>\n",
       "      <td>gear_stick</td>\n",
       "      <td>4.768391</td>\n",
       "      <td>1.588366e+07</td>\n",
       "      <td>0.1</td>\n",
       "      <td>102.382857</td>\n",
       "      <td>2.513319</td>\n",
       "      <td>174</td>\n",
       "      <td>173</td>\n",
       "    </tr>\n",
       "    <tr>\n",
       "      <th>3</th>\n",
       "      <td>u29695600e</td>\n",
       "      <td>Mercedes-Benz GLC</td>\n",
       "      <td>business</td>\n",
       "      <td>petrol</td>\n",
       "      <td>4.04</td>\n",
       "      <td>2011</td>\n",
       "      <td>1263</td>\n",
       "      <td>2020</td>\n",
       "      <td>32.22</td>\n",
       "      <td>engine_fuel</td>\n",
       "      <td>3.880920</td>\n",
       "      <td>1.651883e+07</td>\n",
       "      <td>0.1</td>\n",
       "      <td>172.793237</td>\n",
       "      <td>-5.029476</td>\n",
       "      <td>174</td>\n",
       "      <td>170</td>\n",
       "    </tr>\n",
       "    <tr>\n",
       "      <th>4</th>\n",
       "      <td>N-8915870N</td>\n",
       "      <td>Renault Sandero</td>\n",
       "      <td>standart</td>\n",
       "      <td>petrol</td>\n",
       "      <td>4.70</td>\n",
       "      <td>2012</td>\n",
       "      <td>26428</td>\n",
       "      <td>2017</td>\n",
       "      <td>27.51</td>\n",
       "      <td>engine_fuel</td>\n",
       "      <td>4.181149</td>\n",
       "      <td>1.398317e+07</td>\n",
       "      <td>0.1</td>\n",
       "      <td>203.462289</td>\n",
       "      <td>-14.260456</td>\n",
       "      <td>174</td>\n",
       "      <td>171</td>\n",
       "    </tr>\n",
       "  </tbody>\n",
       "</table>\n",
       "</div>"
      ],
      "text/plain": [
       "       car_id              model  car_type fuel_type  car_rating  \\\n",
       "0  y13744087j     Kia Rio X-line   economy    petrol        3.78   \n",
       "1  O41613818T         VW Polo VI   economy    petrol        3.90   \n",
       "2  d-2109686j    Renault Sandero  standart    petrol        6.30   \n",
       "3  u29695600e  Mercedes-Benz GLC  business    petrol        4.04   \n",
       "4  N-8915870N    Renault Sandero  standart    petrol        4.70   \n",
       "\n",
       "   year_to_start  riders  year_to_work  target_reg target_class  mean_rating  \\\n",
       "0           2015   76163          2021      109.99  another_bug     4.737759   \n",
       "1           2015   78218          2021       34.48  electro_bug     4.480517   \n",
       "2           2012   23340          2017       34.93   gear_stick     4.768391   \n",
       "3           2011    1263          2020       32.22  engine_fuel     3.880920   \n",
       "4           2012   26428          2017       27.51  engine_fuel     4.181149   \n",
       "\n",
       "   distance_sum  rating_min   speed_max  user_ride_quality_median  \\\n",
       "0  1.214131e+07         0.1  180.855726                  0.023174   \n",
       "1  1.803909e+07         0.0  187.862734                 12.306011   \n",
       "2  1.588366e+07         0.1  102.382857                  2.513319   \n",
       "3  1.651883e+07         0.1  172.793237                 -5.029476   \n",
       "4  1.398317e+07         0.1  203.462289                -14.260456   \n",
       "\n",
       "   deviation_normal_count  user_uniq  \n",
       "0                     174        170  \n",
       "1                     174        174  \n",
       "2                     174        173  \n",
       "3                     174        170  \n",
       "4                     174        171  "
      ]
     },
     "execution_count": 187,
     "metadata": {},
     "output_type": "execute_result"
    }
   ],
   "source": [
    "df_train = pd.read_csv('https://raw.githubusercontent.com/a-milenkin/Competitive_Data_Science/main/data/quickstart_train.csv')\n",
    "df_train.head()"
   ]
  },
  {
   "cell_type": "code",
   "execution_count": 6,
   "id": "367f88f2-8264-4cab-9ef0-96a80fdbae56",
   "metadata": {},
   "outputs": [
    {
     "data": {
      "text/html": [
       "<div>\n",
       "<style scoped>\n",
       "    .dataframe tbody tr th:only-of-type {\n",
       "        vertical-align: middle;\n",
       "    }\n",
       "\n",
       "    .dataframe tbody tr th {\n",
       "        vertical-align: top;\n",
       "    }\n",
       "\n",
       "    .dataframe thead th {\n",
       "        text-align: right;\n",
       "    }\n",
       "</style>\n",
       "<table border=\"1\" class=\"dataframe\">\n",
       "  <thead>\n",
       "    <tr style=\"text-align: right;\">\n",
       "      <th></th>\n",
       "      <th>model</th>\n",
       "      <th>car_type</th>\n",
       "      <th>fuel_type</th>\n",
       "      <th>target_class</th>\n",
       "    </tr>\n",
       "  </thead>\n",
       "  <tbody>\n",
       "    <tr>\n",
       "      <th>count</th>\n",
       "      <td>2337</td>\n",
       "      <td>2337</td>\n",
       "      <td>2337</td>\n",
       "      <td>2337</td>\n",
       "    </tr>\n",
       "    <tr>\n",
       "      <th>unique</th>\n",
       "      <td>26</td>\n",
       "      <td>4</td>\n",
       "      <td>2</td>\n",
       "      <td>9</td>\n",
       "    </tr>\n",
       "    <tr>\n",
       "      <th>top</th>\n",
       "      <td>Hyundai Solaris</td>\n",
       "      <td>economy</td>\n",
       "      <td>petrol</td>\n",
       "      <td>engine_overheat</td>\n",
       "    </tr>\n",
       "    <tr>\n",
       "      <th>freq</th>\n",
       "      <td>161</td>\n",
       "      <td>1536</td>\n",
       "      <td>2289</td>\n",
       "      <td>289</td>\n",
       "    </tr>\n",
       "  </tbody>\n",
       "</table>\n",
       "</div>"
      ],
      "text/plain": [
       "                  model car_type fuel_type     target_class\n",
       "count              2337     2337      2337             2337\n",
       "unique               26        4         2                9\n",
       "top     Hyundai Solaris  economy    petrol  engine_overheat\n",
       "freq                161     1536      2289              289"
      ]
     },
     "execution_count": 6,
     "metadata": {},
     "output_type": "execute_result"
    }
   ],
   "source": [
    "df_train.select_dtypes('O').drop('car_id', axis=1).describe()"
   ]
  },
  {
   "cell_type": "code",
   "execution_count": 188,
   "id": "6366a6be-e84c-4af5-95b8-f3431bb3c0b0",
   "metadata": {
    "tags": []
   },
   "outputs": [
    {
     "data": {
      "text/html": [
       "<div>\n",
       "<style scoped>\n",
       "    .dataframe tbody tr th:only-of-type {\n",
       "        vertical-align: middle;\n",
       "    }\n",
       "\n",
       "    .dataframe tbody tr th {\n",
       "        vertical-align: top;\n",
       "    }\n",
       "\n",
       "    .dataframe thead th {\n",
       "        text-align: right;\n",
       "    }\n",
       "</style>\n",
       "<table border=\"1\" class=\"dataframe\">\n",
       "  <thead>\n",
       "    <tr style=\"text-align: right;\">\n",
       "      <th></th>\n",
       "      <th>model</th>\n",
       "      <th>car_type</th>\n",
       "      <th>fuel_type</th>\n",
       "      <th>car_rating</th>\n",
       "      <th>year_to_start</th>\n",
       "      <th>riders</th>\n",
       "      <th>year_to_work</th>\n",
       "      <th>target_reg</th>\n",
       "      <th>mean_rating</th>\n",
       "      <th>distance_sum</th>\n",
       "      <th>rating_min</th>\n",
       "      <th>speed_max</th>\n",
       "      <th>user_ride_quality_median</th>\n",
       "      <th>user_uniq</th>\n",
       "    </tr>\n",
       "  </thead>\n",
       "  <tbody>\n",
       "    <tr>\n",
       "      <th>0</th>\n",
       "      <td>Kia Rio X-line</td>\n",
       "      <td>economy</td>\n",
       "      <td>petrol</td>\n",
       "      <td>3.78</td>\n",
       "      <td>2015</td>\n",
       "      <td>76163</td>\n",
       "      <td>2021</td>\n",
       "      <td>109.99</td>\n",
       "      <td>4.737759</td>\n",
       "      <td>1.214131e+07</td>\n",
       "      <td>0.1</td>\n",
       "      <td>180.855726</td>\n",
       "      <td>0.023174</td>\n",
       "      <td>170</td>\n",
       "    </tr>\n",
       "    <tr>\n",
       "      <th>1</th>\n",
       "      <td>VW Polo VI</td>\n",
       "      <td>economy</td>\n",
       "      <td>petrol</td>\n",
       "      <td>3.90</td>\n",
       "      <td>2015</td>\n",
       "      <td>78218</td>\n",
       "      <td>2021</td>\n",
       "      <td>34.48</td>\n",
       "      <td>4.480517</td>\n",
       "      <td>1.803909e+07</td>\n",
       "      <td>0.0</td>\n",
       "      <td>187.862734</td>\n",
       "      <td>12.306011</td>\n",
       "      <td>174</td>\n",
       "    </tr>\n",
       "    <tr>\n",
       "      <th>2</th>\n",
       "      <td>Renault Sandero</td>\n",
       "      <td>standart</td>\n",
       "      <td>petrol</td>\n",
       "      <td>6.30</td>\n",
       "      <td>2012</td>\n",
       "      <td>23340</td>\n",
       "      <td>2017</td>\n",
       "      <td>34.93</td>\n",
       "      <td>4.768391</td>\n",
       "      <td>1.588366e+07</td>\n",
       "      <td>0.1</td>\n",
       "      <td>102.382857</td>\n",
       "      <td>2.513319</td>\n",
       "      <td>173</td>\n",
       "    </tr>\n",
       "    <tr>\n",
       "      <th>3</th>\n",
       "      <td>Mercedes-Benz GLC</td>\n",
       "      <td>business</td>\n",
       "      <td>petrol</td>\n",
       "      <td>4.04</td>\n",
       "      <td>2011</td>\n",
       "      <td>1263</td>\n",
       "      <td>2020</td>\n",
       "      <td>32.22</td>\n",
       "      <td>3.880920</td>\n",
       "      <td>1.651883e+07</td>\n",
       "      <td>0.1</td>\n",
       "      <td>172.793237</td>\n",
       "      <td>-5.029476</td>\n",
       "      <td>170</td>\n",
       "    </tr>\n",
       "    <tr>\n",
       "      <th>4</th>\n",
       "      <td>Renault Sandero</td>\n",
       "      <td>standart</td>\n",
       "      <td>petrol</td>\n",
       "      <td>4.70</td>\n",
       "      <td>2012</td>\n",
       "      <td>26428</td>\n",
       "      <td>2017</td>\n",
       "      <td>27.51</td>\n",
       "      <td>4.181149</td>\n",
       "      <td>1.398317e+07</td>\n",
       "      <td>0.1</td>\n",
       "      <td>203.462289</td>\n",
       "      <td>-14.260456</td>\n",
       "      <td>171</td>\n",
       "    </tr>\n",
       "  </tbody>\n",
       "</table>\n",
       "</div>"
      ],
      "text/plain": [
       "               model  car_type fuel_type  car_rating  year_to_start  riders  \\\n",
       "0     Kia Rio X-line   economy    petrol        3.78           2015   76163   \n",
       "1         VW Polo VI   economy    petrol        3.90           2015   78218   \n",
       "2    Renault Sandero  standart    petrol        6.30           2012   23340   \n",
       "3  Mercedes-Benz GLC  business    petrol        4.04           2011    1263   \n",
       "4    Renault Sandero  standart    petrol        4.70           2012   26428   \n",
       "\n",
       "   year_to_work  target_reg  mean_rating  distance_sum  rating_min  \\\n",
       "0          2021      109.99     4.737759  1.214131e+07         0.1   \n",
       "1          2021       34.48     4.480517  1.803909e+07         0.0   \n",
       "2          2017       34.93     4.768391  1.588366e+07         0.1   \n",
       "3          2020       32.22     3.880920  1.651883e+07         0.1   \n",
       "4          2017       27.51     4.181149  1.398317e+07         0.1   \n",
       "\n",
       "    speed_max  user_ride_quality_median  user_uniq  \n",
       "0  180.855726                  0.023174        170  \n",
       "1  187.862734                 12.306011        174  \n",
       "2  102.382857                  2.513319        173  \n",
       "3  172.793237                 -5.029476        170  \n",
       "4  203.462289                -14.260456        171  "
      ]
     },
     "execution_count": 188,
     "metadata": {},
     "output_type": "execute_result"
    }
   ],
   "source": [
    "cols_to_drop = ['car_id', 'target_class', 'deviation_normal_count']\n",
    "cols_cats = ['model', 'car_type', 'fuel_type']\n",
    "df_train_drop = df_train.drop(columns=cols_to_drop)\n",
    "df_train_drop.head()"
   ]
  },
  {
   "cell_type": "code",
   "execution_count": 189,
   "id": "4e71874e-9b85-42f7-badc-93a4b29e9bc9",
   "metadata": {
    "tags": []
   },
   "outputs": [
    {
     "data": {
      "text/html": [
       "<div>\n",
       "<style scoped>\n",
       "    .dataframe tbody tr th:only-of-type {\n",
       "        vertical-align: middle;\n",
       "    }\n",
       "\n",
       "    .dataframe tbody tr th {\n",
       "        vertical-align: top;\n",
       "    }\n",
       "\n",
       "    .dataframe thead th {\n",
       "        text-align: right;\n",
       "    }\n",
       "</style>\n",
       "<table border=\"1\" class=\"dataframe\">\n",
       "  <thead>\n",
       "    <tr style=\"text-align: right;\">\n",
       "      <th></th>\n",
       "      <th>model</th>\n",
       "      <th>car_type</th>\n",
       "      <th>fuel_type</th>\n",
       "      <th>car_rating</th>\n",
       "      <th>year_to_start</th>\n",
       "      <th>riders</th>\n",
       "      <th>year_to_work</th>\n",
       "      <th>target_reg</th>\n",
       "      <th>mean_rating</th>\n",
       "      <th>distance_sum</th>\n",
       "      <th>rating_min</th>\n",
       "      <th>speed_max</th>\n",
       "      <th>user_ride_quality_median</th>\n",
       "      <th>user_uniq</th>\n",
       "    </tr>\n",
       "  </thead>\n",
       "  <tbody>\n",
       "    <tr>\n",
       "      <th>0</th>\n",
       "      <td>8</td>\n",
       "      <td>1</td>\n",
       "      <td>1</td>\n",
       "      <td>3.78</td>\n",
       "      <td>2015</td>\n",
       "      <td>76163</td>\n",
       "      <td>2021</td>\n",
       "      <td>109.99</td>\n",
       "      <td>4.737759</td>\n",
       "      <td>1.214131e+07</td>\n",
       "      <td>0.1</td>\n",
       "      <td>180.855726</td>\n",
       "      <td>0.023174</td>\n",
       "      <td>170</td>\n",
       "    </tr>\n",
       "    <tr>\n",
       "      <th>1</th>\n",
       "      <td>23</td>\n",
       "      <td>1</td>\n",
       "      <td>1</td>\n",
       "      <td>3.90</td>\n",
       "      <td>2015</td>\n",
       "      <td>78218</td>\n",
       "      <td>2021</td>\n",
       "      <td>34.48</td>\n",
       "      <td>4.480517</td>\n",
       "      <td>1.803909e+07</td>\n",
       "      <td>0.0</td>\n",
       "      <td>187.862734</td>\n",
       "      <td>12.306011</td>\n",
       "      <td>174</td>\n",
       "    </tr>\n",
       "    <tr>\n",
       "      <th>2</th>\n",
       "      <td>16</td>\n",
       "      <td>3</td>\n",
       "      <td>1</td>\n",
       "      <td>6.30</td>\n",
       "      <td>2012</td>\n",
       "      <td>23340</td>\n",
       "      <td>2017</td>\n",
       "      <td>34.93</td>\n",
       "      <td>4.768391</td>\n",
       "      <td>1.588366e+07</td>\n",
       "      <td>0.1</td>\n",
       "      <td>102.382857</td>\n",
       "      <td>2.513319</td>\n",
       "      <td>173</td>\n",
       "    </tr>\n",
       "    <tr>\n",
       "      <th>3</th>\n",
       "      <td>12</td>\n",
       "      <td>0</td>\n",
       "      <td>1</td>\n",
       "      <td>4.04</td>\n",
       "      <td>2011</td>\n",
       "      <td>1263</td>\n",
       "      <td>2020</td>\n",
       "      <td>32.22</td>\n",
       "      <td>3.880920</td>\n",
       "      <td>1.651883e+07</td>\n",
       "      <td>0.1</td>\n",
       "      <td>172.793237</td>\n",
       "      <td>-5.029476</td>\n",
       "      <td>170</td>\n",
       "    </tr>\n",
       "    <tr>\n",
       "      <th>4</th>\n",
       "      <td>16</td>\n",
       "      <td>3</td>\n",
       "      <td>1</td>\n",
       "      <td>4.70</td>\n",
       "      <td>2012</td>\n",
       "      <td>26428</td>\n",
       "      <td>2017</td>\n",
       "      <td>27.51</td>\n",
       "      <td>4.181149</td>\n",
       "      <td>1.398317e+07</td>\n",
       "      <td>0.1</td>\n",
       "      <td>203.462289</td>\n",
       "      <td>-14.260456</td>\n",
       "      <td>171</td>\n",
       "    </tr>\n",
       "  </tbody>\n",
       "</table>\n",
       "</div>"
      ],
      "text/plain": [
       "   model  car_type  fuel_type  car_rating  year_to_start  riders  \\\n",
       "0      8         1          1        3.78           2015   76163   \n",
       "1     23         1          1        3.90           2015   78218   \n",
       "2     16         3          1        6.30           2012   23340   \n",
       "3     12         0          1        4.04           2011    1263   \n",
       "4     16         3          1        4.70           2012   26428   \n",
       "\n",
       "   year_to_work  target_reg  mean_rating  distance_sum  rating_min  \\\n",
       "0          2021      109.99     4.737759  1.214131e+07         0.1   \n",
       "1          2021       34.48     4.480517  1.803909e+07         0.0   \n",
       "2          2017       34.93     4.768391  1.588366e+07         0.1   \n",
       "3          2020       32.22     3.880920  1.651883e+07         0.1   \n",
       "4          2017       27.51     4.181149  1.398317e+07         0.1   \n",
       "\n",
       "    speed_max  user_ride_quality_median  user_uniq  \n",
       "0  180.855726                  0.023174        170  \n",
       "1  187.862734                 12.306011        174  \n",
       "2  102.382857                  2.513319        173  \n",
       "3  172.793237                 -5.029476        170  \n",
       "4  203.462289                -14.260456        171  "
      ]
     },
     "execution_count": 189,
     "metadata": {},
     "output_type": "execute_result"
    }
   ],
   "source": [
    "df_train_coder = df_train_drop.copy()\n",
    "le = LabelEncoder()\n",
    "for col in cols_cats:\n",
    "    df_train_coder[col] = le.fit_transform(df_train_coder[col])\n",
    "\n",
    "df_train_coder.head()"
   ]
  },
  {
   "cell_type": "code",
   "execution_count": 9,
   "id": "af4d617b-3f47-429c-a574-e6f7c297f84d",
   "metadata": {},
   "outputs": [
    {
     "data": {
      "text/plain": [
       "255.73828125"
      ]
     },
     "execution_count": 9,
     "metadata": {},
     "output_type": "execute_result"
    }
   ],
   "source": [
    "df_train_coder.memory_usage().sum() / 1024"
   ]
  },
  {
   "cell_type": "code",
   "execution_count": 10,
   "id": "47c97c8a-bb53-4fb8-857b-984977ad2812",
   "metadata": {},
   "outputs": [],
   "source": [
    "df_train_coder[cols_cats] = df_train_coder[cols_cats].astype('category')"
   ]
  },
  {
   "cell_type": "code",
   "execution_count": 11,
   "id": "9153daab-bebd-4b05-b0d6-695a05ba0174",
   "metadata": {
    "tags": []
   },
   "outputs": [
    {
     "data": {
      "text/html": [
       "<div>\n",
       "<style scoped>\n",
       "    .dataframe tbody tr th:only-of-type {\n",
       "        vertical-align: middle;\n",
       "    }\n",
       "\n",
       "    .dataframe tbody tr th {\n",
       "        vertical-align: top;\n",
       "    }\n",
       "\n",
       "    .dataframe thead th {\n",
       "        text-align: right;\n",
       "    }\n",
       "</style>\n",
       "<table border=\"1\" class=\"dataframe\">\n",
       "  <thead>\n",
       "    <tr style=\"text-align: right;\">\n",
       "      <th></th>\n",
       "      <th>model</th>\n",
       "      <th>car_type</th>\n",
       "      <th>fuel_type</th>\n",
       "      <th>car_rating</th>\n",
       "      <th>year_to_start</th>\n",
       "      <th>riders</th>\n",
       "      <th>year_to_work</th>\n",
       "      <th>target_reg</th>\n",
       "      <th>mean_rating</th>\n",
       "      <th>distance_sum</th>\n",
       "      <th>rating_min</th>\n",
       "      <th>speed_max</th>\n",
       "      <th>user_ride_quality_median</th>\n",
       "      <th>user_uniq</th>\n",
       "    </tr>\n",
       "  </thead>\n",
       "  <tbody>\n",
       "    <tr>\n",
       "      <th>0</th>\n",
       "      <td>8</td>\n",
       "      <td>1</td>\n",
       "      <td>1</td>\n",
       "      <td>3.78</td>\n",
       "      <td>2015</td>\n",
       "      <td>76163</td>\n",
       "      <td>2021</td>\n",
       "      <td>109.99</td>\n",
       "      <td>4.737759</td>\n",
       "      <td>1.214131e+07</td>\n",
       "      <td>0.1</td>\n",
       "      <td>180.855726</td>\n",
       "      <td>0.023174</td>\n",
       "      <td>170</td>\n",
       "    </tr>\n",
       "    <tr>\n",
       "      <th>1</th>\n",
       "      <td>23</td>\n",
       "      <td>1</td>\n",
       "      <td>1</td>\n",
       "      <td>3.90</td>\n",
       "      <td>2015</td>\n",
       "      <td>78218</td>\n",
       "      <td>2021</td>\n",
       "      <td>34.48</td>\n",
       "      <td>4.480517</td>\n",
       "      <td>1.803909e+07</td>\n",
       "      <td>0.0</td>\n",
       "      <td>187.862734</td>\n",
       "      <td>12.306011</td>\n",
       "      <td>174</td>\n",
       "    </tr>\n",
       "    <tr>\n",
       "      <th>2</th>\n",
       "      <td>16</td>\n",
       "      <td>3</td>\n",
       "      <td>1</td>\n",
       "      <td>6.30</td>\n",
       "      <td>2012</td>\n",
       "      <td>23340</td>\n",
       "      <td>2017</td>\n",
       "      <td>34.93</td>\n",
       "      <td>4.768391</td>\n",
       "      <td>1.588366e+07</td>\n",
       "      <td>0.1</td>\n",
       "      <td>102.382857</td>\n",
       "      <td>2.513319</td>\n",
       "      <td>173</td>\n",
       "    </tr>\n",
       "    <tr>\n",
       "      <th>3</th>\n",
       "      <td>12</td>\n",
       "      <td>0</td>\n",
       "      <td>1</td>\n",
       "      <td>4.04</td>\n",
       "      <td>2011</td>\n",
       "      <td>1263</td>\n",
       "      <td>2020</td>\n",
       "      <td>32.22</td>\n",
       "      <td>3.880920</td>\n",
       "      <td>1.651883e+07</td>\n",
       "      <td>0.1</td>\n",
       "      <td>172.793237</td>\n",
       "      <td>-5.029476</td>\n",
       "      <td>170</td>\n",
       "    </tr>\n",
       "    <tr>\n",
       "      <th>4</th>\n",
       "      <td>16</td>\n",
       "      <td>3</td>\n",
       "      <td>1</td>\n",
       "      <td>4.70</td>\n",
       "      <td>2012</td>\n",
       "      <td>26428</td>\n",
       "      <td>2017</td>\n",
       "      <td>27.51</td>\n",
       "      <td>4.181149</td>\n",
       "      <td>1.398317e+07</td>\n",
       "      <td>0.1</td>\n",
       "      <td>203.462289</td>\n",
       "      <td>-14.260456</td>\n",
       "      <td>171</td>\n",
       "    </tr>\n",
       "  </tbody>\n",
       "</table>\n",
       "</div>"
      ],
      "text/plain": [
       "  model car_type fuel_type  car_rating  year_to_start  riders  year_to_work  \\\n",
       "0     8        1         1        3.78           2015   76163          2021   \n",
       "1    23        1         1        3.90           2015   78218          2021   \n",
       "2    16        3         1        6.30           2012   23340          2017   \n",
       "3    12        0         1        4.04           2011    1263          2020   \n",
       "4    16        3         1        4.70           2012   26428          2017   \n",
       "\n",
       "   target_reg  mean_rating  distance_sum  rating_min   speed_max  \\\n",
       "0      109.99     4.737759  1.214131e+07         0.1  180.855726   \n",
       "1       34.48     4.480517  1.803909e+07         0.0  187.862734   \n",
       "2       34.93     4.768391  1.588366e+07         0.1  102.382857   \n",
       "3       32.22     3.880920  1.651883e+07         0.1  172.793237   \n",
       "4       27.51     4.181149  1.398317e+07         0.1  203.462289   \n",
       "\n",
       "   user_ride_quality_median  user_uniq  \n",
       "0                  0.023174        170  \n",
       "1                 12.306011        174  \n",
       "2                  2.513319        173  \n",
       "3                 -5.029476        170  \n",
       "4                -14.260456        171  "
      ]
     },
     "execution_count": 11,
     "metadata": {},
     "output_type": "execute_result"
    }
   ],
   "source": [
    "df_train_coder.head()"
   ]
  },
  {
   "cell_type": "code",
   "execution_count": 190,
   "id": "ed5c2b95-06c9-4f52-9388-bfca33149f0d",
   "metadata": {
    "tags": []
   },
   "outputs": [],
   "source": [
    "X = df_train_coder.drop('target_reg', axis=1)\n",
    "y = df_train_coder.target_reg"
   ]
  },
  {
   "cell_type": "code",
   "execution_count": 13,
   "id": "e48817d7-a586-47f7-84ac-5113b3608d4e",
   "metadata": {
    "tags": []
   },
   "outputs": [
    {
     "data": {
      "image/png": "[encoded data removed]",
      "text/plain": [
       "<Figure size 1200x600 with 12 Axes>"
      ]
     },
     "metadata": {},
     "output_type": "display_data"
    }
   ],
   "source": [
    "X.hist(bins=30, layout=(-1, 4), figsize=(12, 6))\n",
    "plt.tight_layout()"
   ]
  },
  {
   "cell_type": "code",
   "execution_count": 14,
   "id": "79f4b813-4a06-433a-98af-94cfe599fc94",
   "metadata": {
    "tags": []
   },
   "outputs": [
    {
     "name": "stdout",
     "output_type": "stream",
     "text": [
      "interval columns not set, guessing: ['car_rating', 'year_to_start', 'riders', 'year_to_work', 'target_reg', 'mean_rating', 'distance_sum', 'rating_min', 'speed_max', 'user_ride_quality_median', 'user_uniq']\n"
     ]
    },
    {
     "data": {
      "text/plain": [
       "target_reg                  1.00\n",
       "speed_max                   0.49\n",
       "mean_rating                 0.47\n",
       "user_uniq                   0.42\n",
       "fuel_type                   0.36\n",
       "model                       0.29\n",
       "car_type                    0.18\n",
       "rating_min                  0.08\n",
       "car_rating                  0.00\n",
       "year_to_start               0.00\n",
       "riders                      0.00\n",
       "year_to_work                0.00\n",
       "distance_sum                0.00\n",
       "user_ride_quality_median    0.00\n",
       "Name: target_reg, dtype: float64"
      ]
     },
     "execution_count": 14,
     "metadata": {},
     "output_type": "execute_result"
    }
   ],
   "source": [
    "df_train_coder.phik_matrix().round(2)['target_reg'].sort_values(ascending=False)"
   ]
  },
  {
   "cell_type": "code",
   "execution_count": 15,
   "id": "bb72f7d1-04af-462d-a467-ec08c99fa73d",
   "metadata": {
    "tags": []
   },
   "outputs": [
    {
     "name": "stdout",
     "output_type": "stream",
     "text": [
      "interval columns not set, guessing: ['car_rating', 'year_to_start', 'riders', 'year_to_work', 'target_reg', 'mean_rating', 'distance_sum', 'rating_min', 'speed_max', 'user_ride_quality_median', 'user_uniq']\n"
     ]
    }
   ],
   "source": [
    "cols_with_corr = (df_train_coder.phik_matrix().round(2)['target_reg'] > 0).tolist()"
   ]
  },
  {
   "cell_type": "code",
   "execution_count": 16,
   "id": "7d4a147d-1c92-4fe0-a7e0-c2b433a766bd",
   "metadata": {
    "tags": []
   },
   "outputs": [],
   "source": [
    "cols_no_corr = [not x for x in cols_with_corr]"
   ]
  },
  {
   "cell_type": "code",
   "execution_count": 17,
   "id": "92bd852f-91e5-4a94-9558-e15e35714a63",
   "metadata": {
    "tags": []
   },
   "outputs": [
    {
     "data": {
      "image/png": "[encoded data removed]",
      "text/plain": [
       "<Figure size 640x480 with 6 Axes>"
      ]
     },
     "metadata": {},
     "output_type": "display_data"
    }
   ],
   "source": [
    "df_train_coder.iloc[:, cols_no_corr].hist(bins=30)\n",
    "plt.tight_layout();"
   ]
  },
  {
   "cell_type": "code",
   "execution_count": null,
   "id": "a9d08a3a-ef33-4d00-8a9f-481ac5ae363b",
   "metadata": {
    "tags": []
   },
   "outputs": [],
   "source": []
  },
  {
   "cell_type": "code",
   "execution_count": 18,
   "id": "3eda225b-7b40-4e3d-a617-e96a4cb103e2",
   "metadata": {
    "tags": []
   },
   "outputs": [
    {
     "name": "stdout",
     "output_type": "stream",
     "text": [
      "[0]\tvalidation_0-rmse:14.89675\n",
      "[5]\tvalidation_0-rmse:12.22680\n",
      "[10]\tvalidation_0-rmse:12.20942\n",
      "[15]\tvalidation_0-rmse:12.35557\n",
      "[16]\tvalidation_0-rmse:12.35372\n",
      "==========================\n",
      "[0]\tvalidation_0-rmse:15.90871\n",
      "[5]\tvalidation_0-rmse:12.56165\n",
      "[10]\tvalidation_0-rmse:12.47663\n",
      "[15]\tvalidation_0-rmse:12.51227\n",
      "[16]\tvalidation_0-rmse:12.55437\n",
      "==========================\n",
      "[0]\tvalidation_0-rmse:14.88523\n",
      "[5]\tvalidation_0-rmse:12.36360\n",
      "[10]\tvalidation_0-rmse:12.29614\n",
      "[15]\tvalidation_0-rmse:12.36574\n",
      "[16]\tvalidation_0-rmse:12.38949\n",
      "==========================\n"
     ]
    },
    {
     "data": {
      "text/plain": [
       "[12.146105757341576, 12.425323039609944, 12.269656128644009]"
      ]
     },
     "execution_count": 18,
     "metadata": {},
     "output_type": "execute_result"
    }
   ],
   "source": [
    "models = []\n",
    "scores = []\n",
    "kf = KFold(n_splits=3, random_state=42, shuffle=True)\n",
    "\n",
    "params ={'objective':'reg:squarederror', 'seed': 42}\n",
    "\n",
    "for train_idx, test_idx in kf.split(X, y):\n",
    "    X_train_sub = X.iloc[train_idx]\n",
    "    y_train_sub = y.iloc[train_idx]\n",
    "    X_test_sub = X.iloc[test_idx]\n",
    "    y_test_sub = y.iloc[test_idx]\n",
    "    # train_set = xgb.DMatrix(X_train_sub, label=y_train_sub, enable_categorical=True)\n",
    "    # test_set = xgb.DMatrix(X_test_sub, label=y_test_sub, enable_categorical=True)\n",
    "    \n",
    "    # model = xgb.train(params, \n",
    "    #                   dtrain=train_set, \n",
    "    #                   num_boost_round=50, \n",
    "    #                   evals=[(train_set, 'dtrain'), (test_set, 'dtest')],\n",
    "    #                   early_stopping_rounds=10,\n",
    "    #                   verbose_eval=5)\n",
    "    model = xgb.XGBRegressor(enable_categorical=True, random_state=42, n_estimators=50, early_stopping_rounds=10,)\n",
    "    model.fit(X_train_sub, y_train_sub, eval_set=[(X_test_sub, y_test_sub)], verbose=5)\n",
    "    y_pred = model.predict(X_test_sub)\n",
    "    models.append(model)\n",
    "    scores.append(mean_squared_error(y_test_sub, y_pred) ** .5)\n",
    "    print('==========================')\n",
    "\n",
    "scores"
   ]
  },
  {
   "cell_type": "code",
   "execution_count": 19,
   "id": "bf7859d3-8a46-4612-9b6a-607ca60d519f",
   "metadata": {
    "tags": []
   },
   "outputs": [],
   "source": [
    "best_estimator = models[np.argmin(scores)]"
   ]
  },
  {
   "cell_type": "code",
   "execution_count": 20,
   "id": "6469697e-d1dc-48ce-9b5b-44183e31efe8",
   "metadata": {
    "tags": []
   },
   "outputs": [
    {
     "data": {
      "text/plain": [
       "{'objective': 'reg:squarederror',\n",
       " 'base_score': None,\n",
       " 'booster': None,\n",
       " 'callbacks': None,\n",
       " 'colsample_bylevel': None,\n",
       " 'colsample_bynode': None,\n",
       " 'colsample_bytree': None,\n",
       " 'device': None,\n",
       " 'early_stopping_rounds': 10,\n",
       " 'enable_categorical': True,\n",
       " 'eval_metric': None,\n",
       " 'feature_types': None,\n",
       " 'gamma': None,\n",
       " 'grow_policy': None,\n",
       " 'importance_type': None,\n",
       " 'interaction_constraints': None,\n",
       " 'learning_rate': None,\n",
       " 'max_bin': None,\n",
       " 'max_cat_threshold': None,\n",
       " 'max_cat_to_onehot': None,\n",
       " 'max_delta_step': None,\n",
       " 'max_depth': None,\n",
       " 'max_leaves': None,\n",
       " 'min_child_weight': None,\n",
       " 'missing': nan,\n",
       " 'monotone_constraints': None,\n",
       " 'multi_strategy': None,\n",
       " 'n_estimators': 50,\n",
       " 'n_jobs': None,\n",
       " 'num_parallel_tree': None,\n",
       " 'random_state': 42,\n",
       " 'reg_alpha': None,\n",
       " 'reg_lambda': None,\n",
       " 'sampling_method': None,\n",
       " 'scale_pos_weight': None,\n",
       " 'subsample': None,\n",
       " 'tree_method': None,\n",
       " 'validate_parameters': None,\n",
       " 'verbosity': None}"
      ]
     },
     "execution_count": 20,
     "metadata": {},
     "output_type": "execute_result"
    }
   ],
   "source": [
    "best_estimator.get_params()"
   ]
  },
  {
   "cell_type": "code",
   "execution_count": 74,
   "id": "aff120b8-5ba6-47fe-a204-bbc911d63fce",
   "metadata": {
    "tags": []
   },
   "outputs": [
    {
     "name": "stdout",
     "output_type": "stream",
     "text": [
      "-11.834938593755334\n"
     ]
    },
    {
     "data": {
      "text/plain": [
       "{'eta': 0.06800000000000002}"
      ]
     },
     "execution_count": 74,
     "metadata": {},
     "output_type": "execute_result"
    }
   ],
   "source": [
    "dist_param ={'eta': np.arange(.05, .07, .001)}\n",
    "\n",
    "cv_kf = KFold(n_splits=5, random_state=42, shuffle=True)\n",
    "estimator = xgb.XGBRegressor(enable_categorical=True, random_state=42, n_estimators=50)\n",
    "\n",
    "model_rand = RandomizedSearchCV(estimator, dist_param, cv=cv_kf, random_state=123, scoring='neg_root_mean_squared_error', verbose=0)\n",
    "model_rand.fit(X, y)\n",
    "print(model_rand.best_score_)\n",
    "model_rand.best_params_"
   ]
  },
  {
   "cell_type": "code",
   "execution_count": 108,
   "id": "427a1c6f-a3b3-45ac-ade4-c68a856ddbd7",
   "metadata": {
    "tags": []
   },
   "outputs": [
    {
     "name": "stderr",
     "output_type": "stream",
     "text": [
      "/opt/anaconda/envs/notebook7/lib/python3.12/site-packages/sklearn/model_selection/_search.py:320: UserWarning: The total space of parameters 6 is smaller than n_iter=10. Running 6 iterations. For exhaustive searches, use GridSearchCV.\n",
      "  warnings.warn(\n"
     ]
    },
    {
     "name": "stdout",
     "output_type": "stream",
     "text": [
      "-11.707517866989118\n"
     ]
    },
    {
     "data": {
      "text/plain": [
       "{'max_bin': 50, 'learning_rate': 0.025, 'boosting_type': 'gbdt'}"
      ]
     },
     "execution_count": 108,
     "metadata": {},
     "output_type": "execute_result"
    }
   ],
   "source": [
    "param_lgb ={'learning_rate': [.01, .025, .05, .75, .1, .15], 'boosting_type': ['gbdt'], 'max_bin': [50]}\n",
    "\n",
    "cv_kf = KFold(n_splits=5, random_state=42, shuffle=True)\n",
    "\n",
    "estimator_lgb = lgb.LGBMRegressor(random_state=42, verbosity=0)\n",
    "\n",
    "model_rand_lgb = RandomizedSearchCV(estimator_lgb, param_lgb, cv = cv_kf, random_state=123, scoring='neg_root_mean_squared_error', verbose=0)\n",
    "model_rand_lgb.fit(X, y)\n",
    "print(model_rand_lgb.best_score_)\n",
    "model_rand_lgb.best_params_"
   ]
  },
  {
   "cell_type": "code",
   "execution_count": 70,
   "id": "fddc505e-c5b3-4253-a245-58e603eb6087",
   "metadata": {},
   "outputs": [
    {
     "data": {
      "text/plain": [
       "{'boosting_type': 'gbdt',\n",
       " 'class_weight': None,\n",
       " 'colsample_bytree': 1.0,\n",
       " 'importance_type': 'split',\n",
       " 'learning_rate': 0.025,\n",
       " 'max_depth': -1,\n",
       " 'min_child_samples': 20,\n",
       " 'min_child_weight': 0.001,\n",
       " 'min_split_gain': 0.0,\n",
       " 'n_estimators': 100,\n",
       " 'n_jobs': None,\n",
       " 'num_leaves': 31,\n",
       " 'objective': None,\n",
       " 'random_state': 42,\n",
       " 'reg_alpha': 0.0,\n",
       " 'reg_lambda': 0.0,\n",
       " 'subsample': 1.0,\n",
       " 'subsample_for_bin': 200000,\n",
       " 'subsample_freq': 0,\n",
       " 'verbosity': 0,\n",
       " 'max_bin': 50}"
      ]
     },
     "execution_count": 70,
     "metadata": {},
     "output_type": "execute_result"
    }
   ],
   "source": [
    "model_rand_lgb.best_estimator_.get_params()"
   ]
  },
  {
   "cell_type": "code",
   "execution_count": 112,
   "id": "edfabe0b-6117-4399-a031-6b955564b6bd",
   "metadata": {
    "tags": []
   },
   "outputs": [
    {
     "name": "stdout",
     "output_type": "stream",
     "text": [
      "Training until validation scores don't improve for 10 rounds\n",
      "Early stopping, best iteration is:\n",
      "[113]\tvalid_0's l2: 149.73\n",
      "Training until validation scores don't improve for 10 rounds\n",
      "Did not meet early stopping. Best iteration is:\n",
      "[143]\tvalid_0's l2: 146.761\n",
      "Training until validation scores don't improve for 10 rounds\n",
      "Early stopping, best iteration is:\n",
      "[120]\tvalid_0's l2: 129.19\n",
      "Train:  [8.712576657479842, 8.206390658291014, 8.790089102000724]\n",
      "Test:  [12.236436843928155, 12.114507794880259, 11.366161062929166]\n"
     ]
    }
   ],
   "source": [
    "models_lgb = []\n",
    "scores_lgb = []\n",
    "kf = KFold(n_splits=3, random_state=42, shuffle=True)\n",
    "scores_train = []\n",
    "\n",
    "params = {'max_bin': 50, 'learning_rate': 0.025, 'boosting_type': 'gbdt', 'random_state': 42, 'verbose': 0}\n",
    "\n",
    "for train_idx, test_idx in kf.split(X, y):\n",
    "    X_train = X.iloc[train_idx]\n",
    "    y_train = y.iloc[train_idx]\n",
    "    X_test = X.iloc[test_idx]\n",
    "    y_test = y.iloc[test_idx]\n",
    "    train_data = lgb.Dataset(data=X_train, label=y_train, categorical_feature=cols_cats, free_raw_data=False)\n",
    "    val_data = lgb.Dataset(data=X_test, label=y_test, categorical_feature=cols_cats, free_raw_data=False)\n",
    "\n",
    "    booster = lgb.train(params=params,\n",
    "                        train_set=train_data,\n",
    "                        valid_sets=val_data,\n",
    "                        num_boost_round=150,\n",
    "                        callbacks=[lgb.early_stopping(10)],\n",
    "                        )\n",
    "\n",
    "    scores_train.append(mean_squared_error(y_train, booster.predict(X_train)) ** .5)\n",
    "    models_lgb.append(booster)\n",
    "    y_pred = booster.predict(X_test)\n",
    "    scores_lgb.append(mean_squared_error(y_test, y_pred) ** .5)\n",
    "\n",
    "print('Train: ', scores_train)\n",
    "print('Test: ', scores_lgb)"
   ]
  },
  {
   "cell_type": "markdown",
   "id": "c841f763-2a62-44fb-bce5-b1b27aaf890e",
   "metadata": {},
   "source": [
    "### Catboost"
   ]
  },
  {
   "cell_type": "code",
   "execution_count": 213,
   "id": "0c50d879-65dc-4f96-a168-f28aecf551fb",
   "metadata": {
    "tags": []
   },
   "outputs": [
    {
     "name": "stdout",
     "output_type": "stream",
     "text": [
      "-11.735266320764731\n"
     ]
    },
    {
     "data": {
      "text/plain": [
       "{'max_bin': 60, 'learning_rate': 0.04, 'l2_leaf_reg': 2}"
      ]
     },
     "execution_count": 213,
     "metadata": {},
     "output_type": "execute_result"
    }
   ],
   "source": [
    "param_cat = {'learning_rate': [.01, .03, .04], 'max_bin': [40, 50, 60], }\n",
    "\n",
    "cv_kf = KFold(n_splits=5, random_state=42, shuffle=True)\n",
    "estimator_cat = CatBoostRegressor(random_state=42, verbose=0, iterations=100, early_stopping_rounds=10, cat_features=cols_cats)\n",
    "\n",
    "model_rand = RandomizedSearchCV(estimator_cat, param_cat, cv=cv_kf, random_state=123, scoring='neg_root_mean_squared_error', verbose=0)\n",
    "model_rand.fit(X, y)\n",
    "print(model_rand.best_score_)\n",
    "model_rand.best_params_"
   ]
  },
  {
   "cell_type": "code",
   "execution_count": 227,
   "id": "c529bc2e-e3d8-4f2c-8e30-575f452ca932",
   "metadata": {
    "tags": []
   },
   "outputs": [
    {
     "name": "stdout",
     "output_type": "stream",
     "text": [
      "\n",
      "bestTest = 10.73227337\n",
      "bestIteration = 999\n",
      "\n",
      "\n",
      "bestTest = 10.7365755\n",
      "bestIteration = 323\n",
      "\n",
      "\n",
      "bestTest = 10.71436759\n",
      "bestIteration = 239\n",
      "\n",
      "\n",
      "bestTest = 10.7808992\n",
      "bestIteration = 936\n",
      "\n",
      "\n",
      "bestTest = 10.80901949\n",
      "bestIteration = 337\n",
      "\n",
      "\n",
      "bestTest = 10.81892195\n",
      "bestIteration = 299\n",
      "\n",
      "\n",
      "bestTest = 10.72167277\n",
      "bestIteration = 970\n",
      "\n",
      "\n",
      "bestTest = 10.7488679\n",
      "bestIteration = 325\n",
      "\n",
      "\n",
      "bestTest = 10.76114647\n",
      "bestIteration = 242\n",
      "\n",
      "Training on fold [0/3]\n",
      "\n",
      "bestTest = 11.7431856\n",
      "bestIteration = 208\n",
      "\n",
      "Training on fold [1/3]\n",
      "\n",
      "bestTest = 11.7577536\n",
      "bestIteration = 238\n",
      "\n",
      "Training on fold [2/3]\n",
      "\n",
      "bestTest = 11.3622793\n",
      "bestIteration = 246\n",
      "\n"
     ]
    },
    {
     "data": {
      "text/plain": [
       "{'learn': {'RMSE': 7.230686518563849}}"
      ]
     },
     "execution_count": 227,
     "metadata": {},
     "output_type": "execute_result"
    }
   ],
   "source": [
    "param_cat = {'learning_rate': [.01, .03, .04], 'max_bin': [40, 50, 60], }\n",
    "model_cat = CatBoostRegressor(random_seed=42, cat_features=cols_cats, verbose=0)\n",
    "rand_search_res = model_cat.randomized_search(param_cat, X, y, verbose=False)\n",
    "model_cat.best_score_"
   ]
  },
  {
   "cell_type": "code",
   "execution_count": 223,
   "id": "62810f8f-717d-4c57-a4d3-1c46043a2e28",
   "metadata": {
    "tags": []
   },
   "outputs": [
    {
     "data": {
      "text/plain": [
       "{'border_count': 40, 'learning_rate': 0.04}"
      ]
     },
     "execution_count": 223,
     "metadata": {},
     "output_type": "execute_result"
    }
   ],
   "source": [
    "rand_search_res['params']"
   ]
  },
  {
   "cell_type": "code",
   "execution_count": 225,
   "id": "9b1d46de-324f-41bb-82b0-f51fdc6040bb",
   "metadata": {
    "tags": []
   },
   "outputs": [
    {
     "data": {
      "text/plain": [
       "{'nan_mode': 'Min',\n",
       " 'eval_metric': 'RMSE',\n",
       " 'combinations_ctr': ['Borders:CtrBorderCount=15:CtrBorderType=Uniform:TargetBorderCount=1:TargetBorderType=MinEntropy:Prior=0/1:Prior=0.5/1:Prior=1/1',\n",
       "  'Counter:CtrBorderCount=15:CtrBorderType=Uniform:Prior=0/1'],\n",
       " 'iterations': 1000,\n",
       " 'sampling_frequency': 'PerTree',\n",
       " 'fold_permutation_block': 0,\n",
       " 'leaf_estimation_method': 'Newton',\n",
       " 'random_score_type': 'NormalWithModelSizeDecrease',\n",
       " 'counter_calc_method': 'SkipTest',\n",
       " 'grow_policy': 'SymmetricTree',\n",
       " 'penalties_coefficient': 1,\n",
       " 'boosting_type': 'Plain',\n",
       " 'model_shrink_mode': 'Constant',\n",
       " 'feature_border_type': 'GreedyLogSum',\n",
       " 'ctr_leaf_count_limit': 18446744073709551615,\n",
       " 'bayesian_matrix_reg': 0.10000000149011612,\n",
       " 'one_hot_max_size': 2,\n",
       " 'eval_fraction': 0,\n",
       " 'force_unit_auto_pair_weights': False,\n",
       " 'l2_leaf_reg': 3,\n",
       " 'random_strength': 1,\n",
       " 'rsm': 1,\n",
       " 'boost_from_average': True,\n",
       " 'max_ctr_complexity': 4,\n",
       " 'model_size_reg': 0.5,\n",
       " 'simple_ctr': ['Borders:CtrBorderCount=15:CtrBorderType=Uniform:TargetBorderCount=1:TargetBorderType=MinEntropy:Prior=0/1:Prior=0.5/1:Prior=1/1',\n",
       "  'Counter:CtrBorderCount=15:CtrBorderType=Uniform:Prior=0/1'],\n",
       " 'pool_metainfo_options': {'tags': {}},\n",
       " 'subsample': 0.800000011920929,\n",
       " 'use_best_model': False,\n",
       " 'random_seed': 42,\n",
       " 'depth': 6,\n",
       " 'ctr_target_border_count': 1,\n",
       " 'posterior_sampling': False,\n",
       " 'has_time': False,\n",
       " 'store_all_simple_ctr': False,\n",
       " 'border_count': 40,\n",
       " 'classes_count': 0,\n",
       " 'auto_class_weights': 'None',\n",
       " 'sparse_features_conflict_fraction': 0,\n",
       " 'leaf_estimation_backtracking': 'AnyImprovement',\n",
       " 'best_model_min_trees': 1,\n",
       " 'model_shrink_rate': 0,\n",
       " 'min_data_in_leaf': 1,\n",
       " 'loss_function': 'RMSE',\n",
       " 'learning_rate': 0.03999999910593033,\n",
       " 'score_function': 'Cosine',\n",
       " 'task_type': 'CPU',\n",
       " 'leaf_estimation_iterations': 1,\n",
       " 'bootstrap_type': 'MVS',\n",
       " 'max_leaves': 64,\n",
       " 'permutation_count': 4}"
      ]
     },
     "execution_count": 225,
     "metadata": {},
     "output_type": "execute_result"
    }
   ],
   "source": [
    "model_cat.get_all_params()"
   ]
  }
 ],
 "metadata": {
  "kernelspec": {
   "display_name": "Python 3 (ipykernel)",
   "language": "python",
   "name": "python3"
  },
  "language_info": {
   "codemirror_mode": {
    "name": "ipython",
    "version": 3
   },
   "file_extension": ".py",
   "mimetype": "text/x-python",
   "name": "python",
   "nbconvert_exporter": "python",
   "pygments_lexer": "ipython3",
   "version": "3.10.14"
  }
 },
 "nbformat": 4,
 "nbformat_minor": 5
}
