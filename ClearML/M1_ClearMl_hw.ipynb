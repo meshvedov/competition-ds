{
 "cells": [
  {
   "cell_type": "code",
   "execution_count": 51,
   "id": "5eca4346",
   "metadata": {},
   "outputs": [],
   "source": [
    "from dataclasses import dataclass, asdict\n",
    "import pandas as pd\n",
    "import numpy as np\n",
    "import torch\n",
    "\n",
    "from sklearn.model_selection import train_test_split\n",
    "from sklearn.metrics import accuracy_score, classification_report\n",
    "\n",
    "from catboost import CatBoostClassifier\n",
    "\n",
    "from torch.utils.tensorboard import SummaryWriter\n",
    "from clearml import Task, Logger\n",
    "\n",
    "import matplotlib.pyplot as plt"
   ]
  },
  {
   "cell_type": "code",
   "execution_count": 2,
   "id": "e372259a",
   "metadata": {},
   "outputs": [],
   "source": [
    "def seed_everything(seed=2024):\n",
    "    np.random.seed(seed)\n",
    "    torch.manual_seed(seed)\n",
    "    torch.cuda.manual_seed(seed)\n",
    "    torch.backends.cudnn.deterministic = True\n",
    "    \n",
    "seed_everything()"
   ]
  },
  {
   "cell_type": "markdown",
   "id": "769cf9c2",
   "metadata": {},
   "source": [
    "### 3 Начинаем эксперимент"
   ]
  },
  {
   "cell_type": "code",
   "execution_count": 4,
   "id": "9c3d003d",
   "metadata": {},
   "outputs": [],
   "source": [
    "from getpass import getpass\n",
    "access_key = getpass(prompt=\"Введите API Access токен: \")\n",
    "secret_key = getpass(prompt=\"Введите API Secret токен: \")\n"
   ]
  },
  {
   "cell_type": "code",
   "execution_count": 6,
   "id": "a402183e",
   "metadata": {},
   "outputs": [],
   "source": [
    "%%capture\n",
    "%env CLEARML_WEB_HOST=https://app.clear.ml/\n",
    "%env CLEARML_API_HOST=https://api.clear.ml\n",
    "%env CLEARML_FILES_HOST=https://files.clear.ml\n",
    "%env CLEARML_API_ACCESS_KEY=$access_key\n",
    "%env CLEARML_API_SECRET_KEY=$secret_key"
   ]
  },
  {
   "cell_type": "markdown",
   "id": "46ca5cbd",
   "metadata": {},
   "source": [
    "### 4 Подгружаем данные"
   ]
  },
  {
   "cell_type": "code",
   "execution_count": 5,
   "id": "311a0d00",
   "metadata": {},
   "outputs": [],
   "source": [
    "url = \"https://github.com/a-milenkin/ml_instruments/raw/refs/heads/main/data/quickstart_train.csv\"\n",
    "rides_info = pd.read_csv(url)"
   ]
  },
  {
   "cell_type": "code",
   "execution_count": 6,
   "id": "438bfded",
   "metadata": {},
   "outputs": [
    {
     "name": "stdout",
     "output_type": "stream",
     "text": [
      "<class 'pandas.core.frame.DataFrame'>\n",
      "RangeIndex: 2337 entries, 0 to 2336\n",
      "Data columns (total 17 columns):\n",
      " #   Column                    Non-Null Count  Dtype  \n",
      "---  ------                    --------------  -----  \n",
      " 0   car_id                    2337 non-null   object \n",
      " 1   model                     2337 non-null   object \n",
      " 2   car_type                  2337 non-null   object \n",
      " 3   fuel_type                 2337 non-null   object \n",
      " 4   car_rating                2337 non-null   float64\n",
      " 5   year_to_start             2337 non-null   int64  \n",
      " 6   riders                    2337 non-null   int64  \n",
      " 7   year_to_work              2337 non-null   int64  \n",
      " 8   target_reg                2337 non-null   float64\n",
      " 9   target_class              2337 non-null   object \n",
      " 10  mean_rating               2337 non-null   float64\n",
      " 11  distance_sum              2337 non-null   float64\n",
      " 12  rating_min                2337 non-null   float64\n",
      " 13  speed_max                 2337 non-null   float64\n",
      " 14  user_ride_quality_median  2337 non-null   float64\n",
      " 15  deviation_normal_count    2337 non-null   int64  \n",
      " 16  user_uniq                 2337 non-null   int64  \n",
      "dtypes: float64(7), int64(5), object(5)\n",
      "memory usage: 310.5+ KB\n"
     ]
    }
   ],
   "source": [
    "rides_info.info()"
   ]
  },
  {
   "cell_type": "code",
   "execution_count": 7,
   "id": "b2ec8b09",
   "metadata": {},
   "outputs": [
    {
     "name": "stdout",
     "output_type": "stream",
     "text": [
      "categorical features: ['model', 'car_type', 'fuel_type']\n",
      "numerical features: ['car_rating', 'year_to_start', 'riders', 'year_to_work', 'mean_rating', 'distance_sum', 'rating_min', 'speed_max', 'user_ride_quality_median', 'deviation_normal_count', 'user_uniq']\n",
      "target features: ['target_class', 'target_reg']\n"
     ]
    }
   ],
   "source": [
    "cat_features = ['model', 'car_type', 'fuel_type']\n",
    "targets = ['target_class', 'target_reg']\n",
    "features2drop = ['car_id']\n",
    "filtered_features = [col for col in rides_info.columns if col not in features2drop + targets]\n",
    "num_features = [col for col in filtered_features if col not in cat_features]\n",
    "\n",
    "print('categorical features:', cat_features)\n",
    "print('numerical features:', num_features)\n",
    "print('target features:', targets)\n",
    "\n",
    "for col in cat_features:\n",
    "    rides_info[col] = rides_info[col].astype(str)"
   ]
  },
  {
   "cell_type": "code",
   "execution_count": 8,
   "id": "1d02c300",
   "metadata": {},
   "outputs": [],
   "source": [
    "train, test = train_test_split(rides_info, test_size=0.2, random_state=42)\n",
    "X_train = train[filtered_features]\n",
    "y_train = train['target_class']\n",
    "\n",
    "X_test = test[filtered_features]\n",
    "y_test = test['target_class']"
   ]
  },
  {
   "cell_type": "code",
   "execution_count": 10,
   "id": "7314651a",
   "metadata": {},
   "outputs": [],
   "source": [
    "cb_params = {\n",
    "    \"depth\": 4,\n",
    "    \"learning_rate\": 0.06,\n",
    "    \"loss_function\": \"MultiClass\",\n",
    "    \"custom_metric\": [\"Recall\"],\n",
    "    # Главная фишка катбуста - работа с категориальными признаками\n",
    "    \"cat_features\": cat_features,\n",
    "    # Регуляризация и ускорение\n",
    "    \"colsample_bylevel\": 0.098,\n",
    "    \"subsample\": 0.95,\n",
    "    \"l2_leaf_reg\": 9,\n",
    "    \"min_data_in_leaf\": 243,\n",
    "    \"max_bin\": 187,\n",
    "    \"random_strength\": 1,\n",
    "    # Параметры ускорения\n",
    "    \"task_type\": \"CPU\",\n",
    "    \"thread_count\": -1,\n",
    "    \"bootstrap_type\": \"Bernoulli\",\n",
    "    # Важное!\n",
    "    \"random_seed\": 2024,\n",
    "    \"early_stopping_rounds\": 50,\n",
    "}"
   ]
  },
  {
   "cell_type": "code",
   "execution_count": 12,
   "id": "44f7acb3",
   "metadata": {},
   "outputs": [
    {
     "name": "stdout",
     "output_type": "stream",
     "text": [
      "ClearML Task: created new task id=41269d01cdc34709b6d79fcdd374b67a\n",
      "2025-07-17 08:31:38,764 - clearml.Task - INFO - Storing jupyter notebook directly as code\n",
      "ClearML results page: https://app.clear.ml/projects/ad63d2f02fed4f299be26cdc07d5b751/experiments/41269d01cdc34709b6d79fcdd374b67a/output/log\n"
     ]
    },
    {
     "name": "stdout",
     "output_type": "stream",
     "text": [
      "ClearML Monitor: GPU monitoring failed getting GPU reading, switching off GPU monitoring\n",
      "ClearML Monitor: Could not detect iteration reporting, falling back to iterations as seconds-from-start\n"
     ]
    },
    {
     "name": "stderr",
     "output_type": "stream",
     "text": [
      "Retrying (Retry(total=237, connect=237, read=240, redirect=240, status=240)) after connection broken by 'NameResolutionError(\"<urllib3.connection.HTTPSConnection object at 0x7d80b7311550>: Failed to resolve 'api.clear.ml' ([Errno -3] Temporary failure in name resolution)\")': /v2.23/tasks.get_all\n",
      "Retrying (Retry(total=237, connect=237, read=240, redirect=240, status=240)) after connection broken by 'NameResolutionError(\"<urllib3.connection.HTTPSConnection object at 0x7d80b7fd60f0>: Failed to resolve 'api.clear.ml' ([Errno -3] Temporary failure in name resolution)\")': /v2.23/events.add_batch\n",
      "Retrying (Retry(total=237, connect=237, read=240, redirect=240, status=240)) after connection broken by 'NameResolutionError(\"<urllib3.connection.HTTPSConnection object at 0x7d80b7fd6720>: Failed to resolve 'api.clear.ml' ([Errno -3] Temporary failure in name resolution)\")': /v2.23/events.add_batch\n",
      "Retrying (Retry(total=236, connect=236, read=240, redirect=240, status=240)) after connection broken by 'NameResolutionError(\"<urllib3.connection.HTTPSConnection object at 0x7d80b74b2390>: Failed to resolve 'api.clear.ml' ([Errno -3] Temporary failure in name resolution)\")': /v2.23/tasks.get_all\n",
      "Retrying (Retry(total=236, connect=236, read=240, redirect=240, status=240)) after connection broken by 'NameResolutionError(\"<urllib3.connection.HTTPSConnection object at 0x7d80b7fd4410>: Failed to resolve 'api.clear.ml' ([Errno -3] Temporary failure in name resolution)\")': /v2.23/events.add_batch\n",
      "Retrying (Retry(total=236, connect=236, read=240, redirect=240, status=240)) after connection broken by 'NameResolutionError(\"<urllib3.connection.HTTPSConnection object at 0x7d80b7fd75c0>: Failed to resolve 'api.clear.ml' ([Errno -3] Temporary failure in name resolution)\")': /v2.23/events.add_batch\n",
      "Retrying (Retry(total=235, connect=235, read=240, redirect=240, status=240)) after connection broken by 'NameResolutionError(\"<urllib3.connection.HTTPSConnection object at 0x7d80b74b1be0>: Failed to resolve 'api.clear.ml' ([Errno -3] Temporary failure in name resolution)\")': /v2.23/tasks.get_all\n",
      "Retrying (Retry(total=235, connect=235, read=240, redirect=240, status=240)) after connection broken by 'NameResolutionError(\"<urllib3.connection.HTTPSConnection object at 0x7d80c4106540>: Failed to resolve 'api.clear.ml' ([Errno -3] Temporary failure in name resolution)\")': /v2.23/events.add_batch\n",
      "Retrying (Retry(total=235, connect=235, read=240, redirect=240, status=240)) after connection broken by 'NameResolutionError(\"<urllib3.connection.HTTPSConnection object at 0x7d80b7fcf4d0>: Failed to resolve 'api.clear.ml' ([Errno -3] Temporary failure in name resolution)\")': /v2.23/events.add_batch\n",
      "Retrying (Retry(total=234, connect=234, read=240, redirect=240, status=240)) after connection broken by 'NameResolutionError(\"<urllib3.connection.HTTPSConnection object at 0x7d80b72e6cc0>: Failed to resolve 'api.clear.ml' ([Errno -3] Temporary failure in name resolution)\")': /v2.23/tasks.get_all\n",
      "Retrying (Retry(total=234, connect=234, read=240, redirect=240, status=240)) after connection broken by 'NameResolutionError(\"<urllib3.connection.HTTPSConnection object at 0x7d80b7fccd10>: Failed to resolve 'api.clear.ml' ([Errno -3] Temporary failure in name resolution)\")': /v2.23/events.add_batch\n",
      "Retrying (Retry(total=234, connect=234, read=240, redirect=240, status=240)) after connection broken by 'NameResolutionError(\"<urllib3.connection.HTTPSConnection object at 0x7d80b7fd7ce0>: Failed to resolve 'api.clear.ml' ([Errno -3] Temporary failure in name resolution)\")': /v2.23/events.add_batch\n",
      "Retrying (Retry(total=233, connect=233, read=240, redirect=240, status=240)) after connection broken by 'NameResolutionError(\"<urllib3.connection.HTTPSConnection object at 0x7d80b72e71d0>: Failed to resolve 'api.clear.ml' ([Errno -3] Temporary failure in name resolution)\")': /v2.23/tasks.get_all\n",
      "Retrying (Retry(total=233, connect=233, read=240, redirect=240, status=240)) after connection broken by 'NameResolutionError(\"<urllib3.connection.HTTPSConnection object at 0x7d80b7fd76e0>: Failed to resolve 'api.clear.ml' ([Errno -3] Temporary failure in name resolution)\")': /v2.23/events.add_batch\n",
      "Retrying (Retry(total=233, connect=233, read=240, redirect=240, status=240)) after connection broken by 'NameResolutionError(\"<urllib3.connection.HTTPSConnection object at 0x7d80b7fd72c0>: Failed to resolve 'api.clear.ml' ([Errno -3] Temporary failure in name resolution)\")': /v2.23/events.add_batch\n",
      "Retrying (Retry(total=232, connect=232, read=240, redirect=240, status=240)) after connection broken by 'NameResolutionError(\"<urllib3.connection.HTTPSConnection object at 0x7d80b7562480>: Failed to resolve 'api.clear.ml' ([Errno -3] Temporary failure in name resolution)\")': /v2.23/tasks.get_all\n",
      "Retrying (Retry(total=232, connect=232, read=240, redirect=240, status=240)) after connection broken by 'NameResolutionError(\"<urllib3.connection.HTTPSConnection object at 0x7d80b7fd73e0>: Failed to resolve 'api.clear.ml' ([Errno -3] Temporary failure in name resolution)\")': /v2.23/events.add_batch\n",
      "Retrying (Retry(total=232, connect=232, read=240, redirect=240, status=240)) after connection broken by 'NameResolutionError(\"<urllib3.connection.HTTPSConnection object at 0x7d80b7fd59a0>: Failed to resolve 'api.clear.ml' ([Errno -3] Temporary failure in name resolution)\")': /v2.23/events.add_batch\n",
      "Retrying (Retry(total=231, connect=231, read=240, redirect=240, status=240)) after connection broken by 'NameResolutionError(\"<urllib3.connection.HTTPSConnection object at 0x7d80b7561be0>: Failed to resolve 'api.clear.ml' ([Errno -3] Temporary failure in name resolution)\")': /v2.23/tasks.get_all\n",
      "Retrying (Retry(total=231, connect=231, read=240, redirect=240, status=240)) after connection broken by 'NameResolutionError(\"<urllib3.connection.HTTPSConnection object at 0x7d80b7dc74d0>: Failed to resolve 'api.clear.ml' ([Errno -3] Temporary failure in name resolution)\")': /v2.23/events.add_batch\n",
      "Retrying (Retry(total=231, connect=231, read=240, redirect=240, status=240)) after connection broken by 'NameResolutionError(\"<urllib3.connection.HTTPSConnection object at 0x7d80b7dc45c0>: Failed to resolve 'api.clear.ml' ([Errno -3] Temporary failure in name resolution)\")': /v2.23/events.add_batch\n",
      "Retrying (Retry(total=230, connect=230, read=240, redirect=240, status=240)) after connection broken by 'NameResolutionError(\"<urllib3.connection.HTTPSConnection object at 0x7d80b747cd70>: Failed to resolve 'api.clear.ml' ([Errno -3] Temporary failure in name resolution)\")': /v2.23/tasks.get_all\n",
      "Retrying (Retry(total=230, connect=230, read=240, redirect=240, status=240)) after connection broken by 'NameResolutionError(\"<urllib3.connection.HTTPSConnection object at 0x7d80b7dc4200>: Failed to resolve 'api.clear.ml' ([Errno -3] Temporary failure in name resolution)\")': /v2.23/events.add_batch\n",
      "Retrying (Retry(total=230, connect=230, read=240, redirect=240, status=240)) after connection broken by 'NameResolutionError(\"<urllib3.connection.HTTPSConnection object at 0x7d80b7dc61e0>: Failed to resolve 'api.clear.ml' ([Errno -3] Temporary failure in name resolution)\")': /v2.23/events.add_batch\n",
      "Retrying (Retry(total=229, connect=229, read=240, redirect=240, status=240)) after connection broken by 'NameResolutionError(\"<urllib3.connection.HTTPSConnection object at 0x7d80b73f6780>: Failed to resolve 'api.clear.ml' ([Errno -3] Temporary failure in name resolution)\")': /v2.23/tasks.get_all\n",
      "Retrying (Retry(total=229, connect=229, read=240, redirect=240, status=240)) after connection broken by 'NameResolutionError(\"<urllib3.connection.HTTPSConnection object at 0x7d80b7fcf170>: Failed to resolve 'api.clear.ml' ([Errno -3] Temporary failure in name resolution)\")': /v2.23/events.add_batch\n",
      "Retrying (Retry(total=229, connect=229, read=240, redirect=240, status=240)) after connection broken by 'NameResolutionError(\"<urllib3.connection.HTTPSConnection object at 0x7d80b7fcf9b0>: Failed to resolve 'api.clear.ml' ([Errno -3] Temporary failure in name resolution)\")': /v2.23/events.add_batch\n",
      "Retrying (Retry(total=228, connect=228, read=240, redirect=240, status=240)) after connection broken by 'NameResolutionError(\"<urllib3.connection.HTTPSConnection object at 0x7d80b74b10d0>: Failed to resolve 'api.clear.ml' ([Errno -3] Temporary failure in name resolution)\")': /v2.23/tasks.get_all\n",
      "Retrying (Retry(total=228, connect=228, read=240, redirect=240, status=240)) after connection broken by 'NameResolutionError(\"<urllib3.connection.HTTPSConnection object at 0x7d80b7fd5b20>: Failed to resolve 'api.clear.ml' ([Errno -3] Temporary failure in name resolution)\")': /v2.23/events.add_batch\n",
      "Retrying (Retry(total=228, connect=228, read=240, redirect=240, status=240)) after connection broken by 'NameResolutionError(\"<urllib3.connection.HTTPSConnection object at 0x7d80b7fd7530>: Failed to resolve 'api.clear.ml' ([Errno -3] Temporary failure in name resolution)\")': /v2.23/events.add_batch\n"
     ]
    }
   ],
   "source": [
    "task = Task.init(\n",
    "    project_name=\"ClearMl_logging\",\n",
    "    task_name=\"CatBoost model baseline\"\n",
    ")"
   ]
  },
  {
   "cell_type": "code",
   "execution_count": 13,
   "id": "95965a3c",
   "metadata": {},
   "outputs": [],
   "source": [
    "task.add_tags([\"catboost\", \"classification\", \"baseline\"])\n",
    "logger = Logger.current_logger()"
   ]
  },
  {
   "cell_type": "code",
   "execution_count": 14,
   "id": "b2cf7cd2",
   "metadata": {},
   "outputs": [
    {
     "data": {
      "text/plain": [
       "{'depth': 4,\n",
       " 'learning_rate': 0.06,\n",
       " 'loss_function': 'MultiClass',\n",
       " 'custom_metric': ['Recall'],\n",
       " 'cat_features': ['model', 'car_type', 'fuel_type'],\n",
       " 'colsample_bylevel': 0.098,\n",
       " 'subsample': 0.95,\n",
       " 'l2_leaf_reg': 9,\n",
       " 'min_data_in_leaf': 243,\n",
       " 'max_bin': 187,\n",
       " 'random_strength': 1,\n",
       " 'task_type': 'CPU',\n",
       " 'thread_count': -1,\n",
       " 'bootstrap_type': 'Bernoulli',\n",
       " 'random_seed': 2024,\n",
       " 'early_stopping_rounds': 50}"
      ]
     },
     "execution_count": 14,
     "metadata": {},
     "output_type": "execute_result"
    }
   ],
   "source": [
    "task.connect(cb_params, name=\"CatBoost basic parameters\")"
   ]
  },
  {
   "cell_type": "code",
   "execution_count": 16,
   "id": "a248666c",
   "metadata": {},
   "outputs": [],
   "source": [
    "logger.report_table(title=\"Valid data\", series=\"datasets\", table_plot=test)"
   ]
  },
  {
   "cell_type": "code",
   "execution_count": 52,
   "id": "047bff8c",
   "metadata": {},
   "outputs": [
    {
     "data": {
      "image/png": "[encoded data removed]",
      "text/plain": [
       "<Figure size 640x480 with 1 Axes>"
      ]
     },
     "metadata": {},
     "output_type": "display_data"
    }
   ],
   "source": [
    "rides_info.target_class.value_counts().plot(kind='bar', title='Target class distribution')\n",
    "plt.show()"
   ]
  },
  {
   "cell_type": "code",
   "execution_count": null,
   "id": "a491699a",
   "metadata": {},
   "outputs": [],
   "source": [
    "logger.report_matplotlib_figure(\n",
    "    title=\"Target class distribution\",\n",
    "    series=\"target_class_distribution\",\n",
    "    figure=plt.gcf())"
   ]
  },
  {
   "cell_type": "code",
   "execution_count": 19,
   "id": "6c978361",
   "metadata": {},
   "outputs": [
    {
     "name": "stdout",
     "output_type": "stream",
     "text": [
      "0:\tlearn: 2.1707907\ttest: 2.1735537\tbest: 2.1735537 (0)\ttotal: 74.3ms\tremaining: 1m 14s\n",
      "100:\tlearn: 1.1240484\ttest: 1.1767780\tbest: 1.1765148 (99)\ttotal: 541ms\tremaining: 4.82s\n",
      "200:\tlearn: 0.7389912\ttest: 0.8119925\tbest: 0.8119925 (200)\ttotal: 1s\tremaining: 3.99s\n",
      "300:\tlearn: 0.5675196\ttest: 0.6576350\tbest: 0.6576350 (300)\ttotal: 1.46s\tremaining: 3.39s\n",
      "400:\tlearn: 0.4993136\ttest: 0.6007800\tbest: 0.6007800 (400)\ttotal: 1.89s\tremaining: 2.83s\n",
      "500:\tlearn: 0.4626907\ttest: 0.5792549\tbest: 0.5792460 (499)\ttotal: 2.29s\tremaining: 2.28s\n",
      "600:\tlearn: 0.4343711\ttest: 0.5630634\tbest: 0.5630634 (600)\ttotal: 2.74s\tremaining: 1.82s\n",
      "700:\tlearn: 0.4145438\ttest: 0.5539238\tbest: 0.5539238 (700)\ttotal: 3.17s\tremaining: 1.35s\n",
      "800:\tlearn: 0.4031501\ttest: 0.5495822\tbest: 0.5491086 (782)\ttotal: 3.62s\tremaining: 899ms\n",
      "900:\tlearn: 0.3900762\ttest: 0.5471122\tbest: 0.5469968 (899)\ttotal: 4.03s\tremaining: 442ms\n",
      "999:\tlearn: 0.3786618\ttest: 0.5460318\tbest: 0.5456753 (967)\ttotal: 4.39s\tremaining: 0us\n",
      "\n",
      "bestTest = 0.5456752956\n",
      "bestIteration = 967\n",
      "\n",
      "Shrink model to first 968 iterations.\n"
     ]
    },
    {
     "data": {
      "text/plain": [
       "<catboost.core.CatBoostClassifier at 0x7d80b70f4620>"
      ]
     },
     "execution_count": 19,
     "metadata": {},
     "output_type": "execute_result"
    }
   ],
   "source": [
    "model = CatBoostClassifier(**cb_params)\n",
    "model.fit(X_train, y_train, eval_set=(X_test, y_test), verbose=100)"
   ]
  },
  {
   "cell_type": "code",
   "execution_count": 30,
   "id": "9d721e27",
   "metadata": {},
   "outputs": [],
   "source": [
    "model.save_model(\"catboost_model.cbm\", format=\"cbm\")"
   ]
  },
  {
   "cell_type": "code",
   "execution_count": 42,
   "id": "5ef7feda",
   "metadata": {},
   "outputs": [],
   "source": [
    "y_pred = model.predict(X_test)\n",
    "accuracy = accuracy_score(y_test, y_pred)\n",
    "logger.report_single_value(name='Accuracy', value=accuracy)"
   ]
  },
  {
   "cell_type": "code",
   "execution_count": 45,
   "id": "04da32d9",
   "metadata": {},
   "outputs": [
    {
     "data": {
      "text/html": [
       "<div>\n",
       "<style scoped>\n",
       "    .dataframe tbody tr th:only-of-type {\n",
       "        vertical-align: middle;\n",
       "    }\n",
       "\n",
       "    .dataframe tbody tr th {\n",
       "        vertical-align: top;\n",
       "    }\n",
       "\n",
       "    .dataframe thead th {\n",
       "        text-align: right;\n",
       "    }\n",
       "</style>\n",
       "<table border=\"1\" class=\"dataframe\">\n",
       "  <thead>\n",
       "    <tr style=\"text-align: right;\">\n",
       "      <th></th>\n",
       "      <th>precision</th>\n",
       "      <th>recall</th>\n",
       "      <th>f1-score</th>\n",
       "      <th>support</th>\n",
       "    </tr>\n",
       "  </thead>\n",
       "  <tbody>\n",
       "    <tr>\n",
       "      <th>another_bug</th>\n",
       "      <td>0.888889</td>\n",
       "      <td>0.827586</td>\n",
       "      <td>0.857143</td>\n",
       "      <td>58.000000</td>\n",
       "    </tr>\n",
       "    <tr>\n",
       "      <th>break_bug</th>\n",
       "      <td>1.000000</td>\n",
       "      <td>1.000000</td>\n",
       "      <td>1.000000</td>\n",
       "      <td>56.000000</td>\n",
       "    </tr>\n",
       "    <tr>\n",
       "      <th>electro_bug</th>\n",
       "      <td>1.000000</td>\n",
       "      <td>1.000000</td>\n",
       "      <td>1.000000</td>\n",
       "      <td>51.000000</td>\n",
       "    </tr>\n",
       "    <tr>\n",
       "      <th>engine_check</th>\n",
       "      <td>0.727273</td>\n",
       "      <td>0.816327</td>\n",
       "      <td>0.769231</td>\n",
       "      <td>49.000000</td>\n",
       "    </tr>\n",
       "    <tr>\n",
       "      <th>engine_fuel</th>\n",
       "      <td>0.720000</td>\n",
       "      <td>0.620690</td>\n",
       "      <td>0.666667</td>\n",
       "      <td>58.000000</td>\n",
       "    </tr>\n",
       "    <tr>\n",
       "      <th>engine_ignition</th>\n",
       "      <td>0.700000</td>\n",
       "      <td>0.482759</td>\n",
       "      <td>0.571429</td>\n",
       "      <td>58.000000</td>\n",
       "    </tr>\n",
       "    <tr>\n",
       "      <th>engine_overheat</th>\n",
       "      <td>0.443038</td>\n",
       "      <td>0.729167</td>\n",
       "      <td>0.551181</td>\n",
       "      <td>48.000000</td>\n",
       "    </tr>\n",
       "    <tr>\n",
       "      <th>gear_stick</th>\n",
       "      <td>0.959184</td>\n",
       "      <td>0.921569</td>\n",
       "      <td>0.940000</td>\n",
       "      <td>51.000000</td>\n",
       "    </tr>\n",
       "    <tr>\n",
       "      <th>wheel_shake</th>\n",
       "      <td>0.823529</td>\n",
       "      <td>0.717949</td>\n",
       "      <td>0.767123</td>\n",
       "      <td>39.000000</td>\n",
       "    </tr>\n",
       "    <tr>\n",
       "      <th>accuracy</th>\n",
       "      <td>0.788462</td>\n",
       "      <td>0.788462</td>\n",
       "      <td>0.788462</td>\n",
       "      <td>0.788462</td>\n",
       "    </tr>\n",
       "    <tr>\n",
       "      <th>macro avg</th>\n",
       "      <td>0.806879</td>\n",
       "      <td>0.790672</td>\n",
       "      <td>0.791419</td>\n",
       "      <td>468.000000</td>\n",
       "    </tr>\n",
       "    <tr>\n",
       "      <th>weighted avg</th>\n",
       "      <td>0.809517</td>\n",
       "      <td>0.788462</td>\n",
       "      <td>0.791732</td>\n",
       "      <td>468.000000</td>\n",
       "    </tr>\n",
       "  </tbody>\n",
       "</table>\n",
       "</div>"
      ],
      "text/plain": [
       "                 precision    recall  f1-score     support\n",
       "another_bug       0.888889  0.827586  0.857143   58.000000\n",
       "break_bug         1.000000  1.000000  1.000000   56.000000\n",
       "electro_bug       1.000000  1.000000  1.000000   51.000000\n",
       "engine_check      0.727273  0.816327  0.769231   49.000000\n",
       "engine_fuel       0.720000  0.620690  0.666667   58.000000\n",
       "engine_ignition   0.700000  0.482759  0.571429   58.000000\n",
       "engine_overheat   0.443038  0.729167  0.551181   48.000000\n",
       "gear_stick        0.959184  0.921569  0.940000   51.000000\n",
       "wheel_shake       0.823529  0.717949  0.767123   39.000000\n",
       "accuracy          0.788462  0.788462  0.788462    0.788462\n",
       "macro avg         0.806879  0.790672  0.791419  468.000000\n",
       "weighted avg      0.809517  0.788462  0.791732  468.000000"
      ]
     },
     "execution_count": 45,
     "metadata": {},
     "output_type": "execute_result"
    }
   ],
   "source": [
    "cls_report = classification_report(y_test, y_pred, output_dict=True)\n",
    "cls_report = pd.DataFrame(cls_report).transpose()\n",
    "cls_report"
   ]
  },
  {
   "cell_type": "code",
   "execution_count": 46,
   "id": "aaa0c3a6",
   "metadata": {},
   "outputs": [],
   "source": [
    "logger.report_table(title=\"Classification Report\", series=\"metrics\", table_plot=cls_report)"
   ]
  },
  {
   "cell_type": "code",
   "execution_count": 47,
   "id": "5b38a2fd",
   "metadata": {},
   "outputs": [],
   "source": [
    "task.close()"
   ]
  },
  {
   "cell_type": "code",
   "execution_count": null,
   "id": "ee31cb6c",
   "metadata": {},
   "outputs": [],
   "source": [
    "%%writefile\n",
    "#!"
   ]
  }
 ],
 "metadata": {
  "kernelspec": {
   "display_name": "fastai",
   "language": "python",
   "name": "python3"
  },
  "language_info": {
   "codemirror_mode": {
    "name": "ipython",
    "version": 3
   },
   "file_extension": ".py",
   "mimetype": "text/x-python",
   "name": "python",
   "nbconvert_exporter": "python",
   "pygments_lexer": "ipython3",
   "version": "3.12.8"
  }
 },
 "nbformat": 4,
 "nbformat_minor": 5
}
