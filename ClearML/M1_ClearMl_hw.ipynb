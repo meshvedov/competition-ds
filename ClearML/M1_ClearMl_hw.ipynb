{
 "cells": [
  {
   "cell_type": "code",
   "execution_count": 1,
   "id": "5eca4346",
   "metadata": {},
   "outputs": [
    {
     "name": "stderr",
     "output_type": "stream",
     "text": [
      "<frozen importlib._bootstrap>:488: RuntimeWarning: numpy.ufunc size changed, may indicate binary incompatibility. Expected 216 from C header, got 232 from PyObject\n"
     ]
    }
   ],
   "source": [
    "from dataclasses import dataclass, asdict\n",
    "import pandas as pd\n",
    "import numpy as np\n",
    "import torch\n",
    "\n",
    "from sklearn.model_selection import train_test_split\n",
    "from sklearn.metrics import accuracy_score, classification_report\n",
    "\n",
    "from catboost import CatBoostClassifier"
   ]
  },
  {
   "cell_type": "code",
   "execution_count": 3,
   "id": "e372259a",
   "metadata": {},
   "outputs": [],
   "source": [
    "def seed_everything(seed=2024):\n",
    "    np.random.seed(seed)\n",
    "    torch.manual_seed(seed)\n",
    "    torch.cuda.manual_seed(seed)\n",
    "    torch.backends.cudnn.deterministic = True\n",
    "    \n",
    "seed_everything()"
   ]
  },
  {
   "cell_type": "markdown",
   "id": "769cf9c2",
   "metadata": {},
   "source": [
    "### 3 Начинаем эксперимент"
   ]
  },
  {
   "cell_type": "code",
   "execution_count": 4,
   "id": "9c3d003d",
   "metadata": {},
   "outputs": [],
   "source": [
    "from getpass import getpass\n",
    "access_key = getpass(prompt=\"Введите API Access токен: \")\n",
    "secret_key = getpass(prompt=\"Введите API Secret токен: \")\n"
   ]
  },
  {
   "cell_type": "code",
   "execution_count": 6,
   "id": "a402183e",
   "metadata": {},
   "outputs": [],
   "source": [
    "%%capture\n",
    "%env CLEARML_WEB_HOST=https://app.clear.ml/\n",
    "%env CLEARML_API_HOST=https://api.clear.ml\n",
    "%env CLEARML_FILES_HOST=https://files.clear.ml\n",
    "%env CLEARML_API_ACCESS_KEY=$access_key\n",
    "%env CLEARML_API_SECRET_KEY=$secret_key"
   ]
  },
  {
   "cell_type": "markdown",
   "id": "46ca5cbd",
   "metadata": {},
   "source": [
    "### 4 Подгружаем данные"
   ]
  },
  {
   "cell_type": "code",
   "execution_count": 7,
   "id": "311a0d00",
   "metadata": {},
   "outputs": [],
   "source": [
    "url = \"https://github.com/a-milenkin/ml_instruments/raw/refs/heads/main/data/quickstart_train.csv\"\n",
    "rides_info = pd.read_csv(url)"
   ]
  },
  {
   "cell_type": "code",
   "execution_count": 10,
   "id": "438bfded",
   "metadata": {},
   "outputs": [
    {
     "name": "stdout",
     "output_type": "stream",
     "text": [
      "<class 'pandas.core.frame.DataFrame'>\n",
      "RangeIndex: 2337 entries, 0 to 2336\n",
      "Data columns (total 17 columns):\n",
      " #   Column                    Non-Null Count  Dtype  \n",
      "---  ------                    --------------  -----  \n",
      " 0   car_id                    2337 non-null   object \n",
      " 1   model                     2337 non-null   object \n",
      " 2   car_type                  2337 non-null   object \n",
      " 3   fuel_type                 2337 non-null   object \n",
      " 4   car_rating                2337 non-null   float64\n",
      " 5   year_to_start             2337 non-null   int64  \n",
      " 6   riders                    2337 non-null   int64  \n",
      " 7   year_to_work              2337 non-null   int64  \n",
      " 8   target_reg                2337 non-null   float64\n",
      " 9   target_class              2337 non-null   object \n",
      " 10  mean_rating               2337 non-null   float64\n",
      " 11  distance_sum              2337 non-null   float64\n",
      " 12  rating_min                2337 non-null   float64\n",
      " 13  speed_max                 2337 non-null   float64\n",
      " 14  user_ride_quality_median  2337 non-null   float64\n",
      " 15  deviation_normal_count    2337 non-null   int64  \n",
      " 16  user_uniq                 2337 non-null   int64  \n",
      "dtypes: float64(7), int64(5), object(5)\n",
      "memory usage: 310.5+ KB\n"
     ]
    }
   ],
   "source": [
    "rides_info.info()"
   ]
  },
  {
   "cell_type": "code",
   "execution_count": 17,
   "id": "b2ec8b09",
   "metadata": {},
   "outputs": [
    {
     "name": "stdout",
     "output_type": "stream",
     "text": [
      "categorical features: ['model', 'car_type', 'fuel_type']\n",
      "numerical features: ['car_rating', 'year_to_start', 'riders', 'year_to_work', 'mean_rating', 'distance_sum', 'rating_min', 'speed_max', 'user_ride_quality_median', 'deviation_normal_count', 'user_uniq']\n",
      "target features: ['target_class', 'target_reg']\n"
     ]
    }
   ],
   "source": [
    "cat_features = ['model', 'car_type', 'fuel_type']\n",
    "targets = ['target_class', 'target_reg']\n",
    "features2drop = ['car_id']\n",
    "filtered_features = [col for col in rides_info.columns if col not in features2drop + targets]\n",
    "num_features = [col for col in filtered_features if col not in cat_features]\n",
    "\n",
    "print('categorical features:', cat_features)\n",
    "print('numerical features:', num_features)\n",
    "print('target features:', targets)\n",
    "\n",
    "for col in cat_features:\n",
    "    rides_info[col] = rides_info[col].astype(str)"
   ]
  },
  {
   "cell_type": "code",
   "execution_count": 18,
   "id": "1d02c300",
   "metadata": {},
   "outputs": [],
   "source": [
    "train, test = train_test_split(rides_info, test_size=0.2, random_state=42)\n",
    "X_train = train[filtered_features]\n",
    "y_train = train['target_class']\n",
    "\n",
    "X_test = test[filtered_features]\n",
    "y_test = test['target_class']"
   ]
  },
  {
   "cell_type": "code",
   "execution_count": null,
   "id": "7314651a",
   "metadata": {},
   "outputs": [],
   "source": [
    "cb_params = {\n",
    "    \"depth\": 4,\n",
    "    \"learning_rate\": 0.06,\n",
    "    \"loss_function\": \"MultiClass\",\n",
    "    \"custom_metric\": [\"Recall\"],\n",
    "    # Главная фишка катбуста - работа с категориальными признаками\n",
    "    \"cat_features\": cat_features,\n",
    "    # Регуляризация и ускорение\n",
    "    \"colsample_bylevel\": 0.098,\n",
    "    \"subsample\": 0.95,\n",
    "    \"l2_leaf_reg\": 9,\n",
    "    \"min_data_in_leaf\": 243,\n",
    "    \"max_bin\": 187,\n",
    "    \"random_strength\": 1,\n",
    "    # Параметры ускорения\n",
    "    \"task_type\": \"CPU\",\n",
    "    \"thread_count\": -1,\n",
    "    \"bootstrap_type\": \"Bernoulli\",\n",
    "    # Важное!\n",
    "    \"random_seed\": cfg.seed,\n",
    "    \"early_stopping_rounds\": 50,\n",
    "}"
   ]
  },
  {
   "cell_type": "code",
   "execution_count": 19,
   "id": "11126bc2",
   "metadata": {},
   "outputs": [],
   "source": [
    "from clearml import Task, Logger"
   ]
  },
  {
   "cell_type": "code",
   "execution_count": null,
   "id": "44f7acb3",
   "metadata": {},
   "outputs": [],
   "source": [
    "task = Task.init(\n",
    "    project_name=\"ClearMl_logging\",\n",
    "    task_name=\"CatBoost model baseline\"\n",
    ")"
   ]
  }
 ],
 "metadata": {
  "kernelspec": {
   "display_name": "fastai",
   "language": "python",
   "name": "python3"
  },
  "language_info": {
   "codemirror_mode": {
    "name": "ipython",
    "version": 3
   },
   "file_extension": ".py",
   "mimetype": "text/x-python",
   "name": "python",
   "nbconvert_exporter": "python",
   "pygments_lexer": "ipython3",
   "version": "3.12.8"
  }
 },
 "nbformat": 4,
 "nbformat_minor": 5
}
