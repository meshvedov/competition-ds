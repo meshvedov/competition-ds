{
 "cells": [
  {
   "cell_type": "code",
   "execution_count": 26,
   "id": "055f034a-b552-4e3d-82e3-f7a36a375bb0",
   "metadata": {
    "tags": []
   },
   "outputs": [],
   "source": [
    "from bs4 import BeautifulSoup\n",
    "import pandas as pd\n",
    "from tqdm import tqdm\n",
    "from lxml import etree, html as lhtml\n",
    "from operator import attrgetter, itemgetter"
   ]
  },
  {
   "cell_type": "code",
   "execution_count": 25,
   "id": "d89fa0f3-a767-4fa3-8067-3a6335c5e140",
   "metadata": {
    "tags": []
   },
   "outputs": [],
   "source": [
    "soup = BeautifulSoup(open('data/mean_salary_by_city.html', 'rb').read(),)"
   ]
  },
  {
   "cell_type": "code",
   "execution_count": 50,
   "id": "53813406-eab2-4dcf-ae42-24239777a695",
   "metadata": {
    "tags": []
   },
   "outputs": [
    {
     "data": {
      "text/plain": [
       "100"
      ]
     },
     "execution_count": 50,
     "metadata": {},
     "output_type": "execute_result"
    }
   ],
   "source": [
    "rows = soup.find_all('div', class_='row block_rating')\n",
    "len(rows)"
   ]
  },
  {
   "cell_type": "code",
   "execution_count": 34,
   "id": "0da42892-c90e-4817-8d3f-b47f07f4079d",
   "metadata": {
    "tags": []
   },
   "outputs": [
    {
     "data": {
      "text/plain": [
       "'Анадырь'"
      ]
     },
     "execution_count": 34,
     "metadata": {},
     "output_type": "execute_result"
    }
   ],
   "source": [
    "row.find('div', class_='reg_name').find('a').text"
   ]
  },
  {
   "cell_type": "code",
   "execution_count": 58,
   "id": "22860ee7-0c00-4c5a-b59f-98933417f768",
   "metadata": {
    "tags": []
   },
   "outputs": [
    {
     "data": {
      "text/plain": [
       "'129200'"
      ]
     },
     "execution_count": 58,
     "metadata": {},
     "output_type": "execute_result"
    }
   ],
   "source": [
    "row.find('span', class_='reg_salary').text.replace('\\xa0', '')[:-1]"
   ]
  },
  {
   "cell_type": "code",
   "execution_count": 59,
   "id": "85d69dbf-a4c1-4557-ab53-57ede5068964",
   "metadata": {
    "tags": []
   },
   "outputs": [],
   "source": [
    "city_sal = [(row.find('div', class_='reg_name').find('a').text, row.find('span', class_='reg_salary').text.replace('\\xa0', '')[:-1]) for row in rows]"
   ]
  },
  {
   "cell_type": "code",
   "execution_count": 62,
   "id": "d78280ab-35ed-44b3-8af0-54e2c39fab66",
   "metadata": {
    "tags": []
   },
   "outputs": [
    {
     "data": {
      "text/plain": [
       "[('Абакан', '45300'),\n",
       " ('Анадырь', '129200'),\n",
       " ('Ангарск', '45600'),\n",
       " ('Архангельск', '53100'),\n",
       " ('Астрахань', '38000'),\n",
       " ('Барнаул', '37400'),\n",
       " ('Белгород', '39300'),\n",
       " ('Биробиджан', '43200'),\n",
       " ('Благовещенск', '50200'),\n",
       " ('Братск', '52900'),\n",
       " ('Брянск', '35500'),\n",
       " ('Великий Новгород', '40000'),\n",
       " ('Владивосток', '62000'),\n",
       " ('Владикавказ', '31200'),\n",
       " ('Владимир', '38300'),\n",
       " ('Волгоград', '37400'),\n",
       " ('Вологда', '42000'),\n",
       " ('Воронеж', '41400'),\n",
       " ('Горно-Алтайск', '40300'),\n",
       " ('Грозный', '33000'),\n",
       " ('Дзержинск', '36900'),\n",
       " ('Екатеринбург', '53400'),\n",
       " ('Иваново', '33700'),\n",
       " ('Ижевск', '40800'),\n",
       " ('Иркутск', '53800'),\n",
       " ('Йошкар-Ола', '33500'),\n",
       " ('Казань', '47500'),\n",
       " ('Калининград', '43700'),\n",
       " ('Калуга', '45400'),\n",
       " ('Кемерово', '47200'),\n",
       " ('Киров', '36900'),\n",
       " ('Комсомольск-на-Амуре', '51300'),\n",
       " ('Кострома', '36800'),\n",
       " ('Краснодар', '48000'),\n",
       " ('Красноярск', '54600'),\n",
       " ('Курган', '35800'),\n",
       " ('Курск', '34600'),\n",
       " ('Кызыл', '46600'),\n",
       " ('Липецк', '42000'),\n",
       " ('Магадан', '95200'),\n",
       " ('Магас', '40300'),\n",
       " ('Магнитогорск', '44900'),\n",
       " ('Майкоп', '32300'),\n",
       " ('Махачкала', '34400'),\n",
       " ('Москва', '113600'),\n",
       " ('Мурманск', '73100'),\n",
       " ('Набережные Челны', '39300'),\n",
       " ('Нальчик', '31600'),\n",
       " ('Нарьян-Мар', '77900'),\n",
       " ('Нижневартовск', '68400'),\n",
       " ('Нижний Новгород', '48000'),\n",
       " ('Нижний Тагил', '39200'),\n",
       " ('Новокузнецк', '46600'),\n",
       " ('Новороссийск', '47900'),\n",
       " ('Новосибирск', '48200'),\n",
       " ('Омск', '41500'),\n",
       " ('Оренбург', '41500'),\n",
       " ('Орёл', '34100'),\n",
       " ('Пенза', '35800'),\n",
       " ('Пермь', '46300'),\n",
       " ('Петрозаводск', '48800'),\n",
       " ('Петропавловск-Камчатский', '93600'),\n",
       " ('Подольск', '60300'),\n",
       " ('Псков', '35600'),\n",
       " ('Ростов-на-Дону', '45200'),\n",
       " ('Рязань', '40700'),\n",
       " ('Салехард', '106400'),\n",
       " ('Самара', '44500'),\n",
       " ('Санкт-Петербург', '74400'),\n",
       " ('Саранск', '32500'),\n",
       " ('Саратов', '39100'),\n",
       " ('Севастополь', '38500'),\n",
       " ('Симферополь', '38400'),\n",
       " ('Смоленск', '35600'),\n",
       " ('Сочи', '43700'),\n",
       " ('Ставрополь', '38100'),\n",
       " ('Стерлитамак', '35300'),\n",
       " ('Сургут', '83400'),\n",
       " ('Сыктывкар', '49500'),\n",
       " ('Таганрог', '34700'),\n",
       " ('Тамбов', '33100'),\n",
       " ('Тверь', '42300'),\n",
       " ('Тольятти', '38600'),\n",
       " ('Томск', '50300'),\n",
       " ('Тула', '44100'),\n",
       " ('Тюмень', '60100'),\n",
       " ('Улан-Удэ', '42600'),\n",
       " ('Ульяновск', '35800'),\n",
       " ('Уфа', '48300'),\n",
       " ('Хабаровск', '59600'),\n",
       " ('Ханты-Мансийск', '88300'),\n",
       " ('Чебоксары', '36000'),\n",
       " ('Челябинск', '42000'),\n",
       " ('Череповец', '50500'),\n",
       " ('Черкесск', '33100'),\n",
       " ('Чита', '47500'),\n",
       " ('Элиста', '31700'),\n",
       " ('Южно-Сахалинск', '99000'),\n",
       " ('Якутск', '74400'),\n",
       " ('Ярославль', '42000')]"
      ]
     },
     "execution_count": 62,
     "metadata": {},
     "output_type": "execute_result"
    }
   ],
   "source": [
    "city_sal.sort(key=lambda x: x[0])\n",
    "city_sal"
   ]
  },
  {
   "cell_type": "code",
   "execution_count": 57,
   "id": "6bd47540-d4f3-49b0-9bb5-1b1feeaf0c6b",
   "metadata": {
    "tags": []
   },
   "outputs": [],
   "source": [
    "pd.DataFrame(city_sal, columns=['city', 'mean_salary']).sort_values('city').to_csv('city_salary.csv', index=False)"
   ]
  },
  {
   "cell_type": "code",
   "execution_count": 67,
   "id": "8176cea2-9ea4-4a42-addc-5bf8edc55b45",
   "metadata": {
    "tags": []
   },
   "outputs": [],
   "source": [
    "from selenium import webdriver\n",
    "from selenium.webdriver.chrome.options import Options as ChromeOptions\n",
    "from selenium.webdriver.common.by import By\n",
    "import pandas as pd\n",
    "from tqdm import tqdm"
   ]
  },
  {
   "cell_type": "code",
   "execution_count": 84,
   "id": "c58ca3a5-4355-40fa-8f4f-2da2ecafd676",
   "metadata": {
    "tags": []
   },
   "outputs": [
    {
     "name": "stderr",
     "output_type": "stream",
     "text": [
      "Exception managing chrome: error sending request for url (https://googlechromelabs.github.io/chrome-for-testing/last-known-good-versions-with-downloads.json)\n",
      "The chromedriver version (130.0.6723.116) detected in PATH at ./chromedriver might not be compatible with the detected chrome version (); currently, chromedriver 130.0.6723.116 is recommended for chrome .*, so it is advised to delete the driver in PATH and retry\n",
      "There was an error managing chrome; using browser found in the cache\n"
     ]
    }
   ],
   "source": [
    "chrome_options = ChromeOptions()\n",
    "driver = webdriver.Chrome(options=chrome_options)"
   ]
  },
  {
   "cell_type": "code",
   "execution_count": 79,
   "id": "9329e6a7-617b-4632-b5c6-1d3709b94b6c",
   "metadata": {
    "tags": []
   },
   "outputs": [
    {
     "data": {
      "text/plain": [
       "'Hello'"
      ]
     },
     "execution_count": 79,
     "metadata": {},
     "output_type": "execute_result"
    }
   ],
   "source": [
    "import time\n",
    "driver.get(f\"https://www.m-translate.org/translator/text#text=test&direction=ru-en\")\n",
    "driver.find_element(By.ID, \"text\").clear()\n",
    "driver.find_element(By.ID, \"text\").send_keys(\"привет\")\n",
    "driver.find_element(By.ID, \"go_btn\").click()\n",
    "while driver.find_element(By.ID, \"text_out\").get_attribute(\"value\") == \"\":\n",
    "    time.sleep(0.2)\n",
    "driver.find_element(By.ID, \"text_out\").get_attribute(\"value\")"
   ]
  },
  {
   "cell_type": "code",
   "execution_count": 85,
   "id": "312ac975-53d1-4add-81c4-cc9e143b2e94",
   "metadata": {
    "tags": []
   },
   "outputs": [],
   "source": [
    "driver.get(f\"https://automobili.ru/cars/catalog/\")"
   ]
  },
  {
   "cell_type": "code",
   "execution_count": 91,
   "id": "08720cc9-3439-435e-8169-7e386afb52d4",
   "metadata": {
    "tags": []
   },
   "outputs": [],
   "source": [
    "for link in driver.find_elements(By.CLASS_NAME, 'car-brand-link'):\n",
    "    link.click()\n",
    "    break"
   ]
  }
 ],
 "metadata": {
  "kernelspec": {
   "display_name": "Python 3 (ipykernel)",
   "language": "python",
   "name": "python3"
  },
  "language_info": {
   "codemirror_mode": {
    "name": "ipython",
    "version": 3
   },
   "file_extension": ".py",
   "mimetype": "text/x-python",
   "name": "python",
   "nbconvert_exporter": "python",
   "pygments_lexer": "ipython3",
   "version": "3.10.14"
  }
 },
 "nbformat": 4,
 "nbformat_minor": 5
}
