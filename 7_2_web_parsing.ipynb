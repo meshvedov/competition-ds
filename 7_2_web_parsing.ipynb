{
 "cells": [
  {
   "cell_type": "code",
   "execution_count": 93,
   "id": "055f034a-b552-4e3d-82e3-f7a36a375bb0",
   "metadata": {
    "tags": []
   },
   "outputs": [],
   "source": [
    "from bs4 import BeautifulSoup\n",
    "import pandas as pd\n",
    "from tqdm import tqdm\n",
    "from lxml import etree, html as lhtml\n",
    "from operator import attrgetter, itemgetter"
   ]
  },
  {
   "cell_type": "code",
   "execution_count": 95,
   "id": "0ac943f0-033b-4093-90ed-75b97559888d",
   "metadata": {
    "tags": []
   },
   "outputs": [
    {
     "data": {
      "text/plain": [
       "'2.2.2'"
      ]
     },
     "execution_count": 95,
     "metadata": {},
     "output_type": "execute_result"
    }
   ],
   "source": [
    "pd.__version__"
   ]
  },
  {
   "cell_type": "code",
   "execution_count": 25,
   "id": "d89fa0f3-a767-4fa3-8067-3a6335c5e140",
   "metadata": {
    "tags": []
   },
   "outputs": [],
   "source": [
    "soup = BeautifulSoup(open('data/mean_salary_by_city.html', 'rb').read(),)"
   ]
  },
  {
   "cell_type": "code",
   "execution_count": 50,
   "id": "53813406-eab2-4dcf-ae42-24239777a695",
   "metadata": {
    "tags": []
   },
   "outputs": [
    {
     "data": {
      "text/plain": [
       "100"
      ]
     },
     "execution_count": 50,
     "metadata": {},
     "output_type": "execute_result"
    }
   ],
   "source": [
    "rows = soup.find_all('div', class_='row block_rating')\n",
    "len(rows)"
   ]
  },
  {
   "cell_type": "code",
   "execution_count": 34,
   "id": "0da42892-c90e-4817-8d3f-b47f07f4079d",
   "metadata": {
    "tags": []
   },
   "outputs": [
    {
     "data": {
      "text/plain": [
       "'Анадырь'"
      ]
     },
     "execution_count": 34,
     "metadata": {},
     "output_type": "execute_result"
    }
   ],
   "source": [
    "row.find('div', class_='reg_name').find('a').text"
   ]
  },
  {
   "cell_type": "code",
   "execution_count": 58,
   "id": "22860ee7-0c00-4c5a-b59f-98933417f768",
   "metadata": {
    "tags": []
   },
   "outputs": [
    {
     "data": {
      "text/plain": [
       "'129200'"
      ]
     },
     "execution_count": 58,
     "metadata": {},
     "output_type": "execute_result"
    }
   ],
   "source": [
    "row.find('span', class_='reg_salary').text.replace('\\xa0', '')[:-1]"
   ]
  },
  {
   "cell_type": "code",
   "execution_count": 59,
   "id": "85d69dbf-a4c1-4557-ab53-57ede5068964",
   "metadata": {
    "tags": []
   },
   "outputs": [],
   "source": [
    "city_sal = [(row.find('div', class_='reg_name').find('a').text, row.find('span', class_='reg_salary').text.replace('\\xa0', '')[:-1]) for row in rows]"
   ]
  },
  {
   "cell_type": "code",
   "execution_count": 62,
   "id": "d78280ab-35ed-44b3-8af0-54e2c39fab66",
   "metadata": {
    "tags": []
   },
   "outputs": [
    {
     "data": {
      "text/plain": [
       "[('Абакан', '45300'),\n",
       " ('Анадырь', '129200'),\n",
       " ('Ангарск', '45600'),\n",
       " ('Архангельск', '53100'),\n",
       " ('Астрахань', '38000'),\n",
       " ('Барнаул', '37400'),\n",
       " ('Белгород', '39300'),\n",
       " ('Биробиджан', '43200'),\n",
       " ('Благовещенск', '50200'),\n",
       " ('Братск', '52900'),\n",
       " ('Брянск', '35500'),\n",
       " ('Великий Новгород', '40000'),\n",
       " ('Владивосток', '62000'),\n",
       " ('Владикавказ', '31200'),\n",
       " ('Владимир', '38300'),\n",
       " ('Волгоград', '37400'),\n",
       " ('Вологда', '42000'),\n",
       " ('Воронеж', '41400'),\n",
       " ('Горно-Алтайск', '40300'),\n",
       " ('Грозный', '33000'),\n",
       " ('Дзержинск', '36900'),\n",
       " ('Екатеринбург', '53400'),\n",
       " ('Иваново', '33700'),\n",
       " ('Ижевск', '40800'),\n",
       " ('Иркутск', '53800'),\n",
       " ('Йошкар-Ола', '33500'),\n",
       " ('Казань', '47500'),\n",
       " ('Калининград', '43700'),\n",
       " ('Калуга', '45400'),\n",
       " ('Кемерово', '47200'),\n",
       " ('Киров', '36900'),\n",
       " ('Комсомольск-на-Амуре', '51300'),\n",
       " ('Кострома', '36800'),\n",
       " ('Краснодар', '48000'),\n",
       " ('Красноярск', '54600'),\n",
       " ('Курган', '35800'),\n",
       " ('Курск', '34600'),\n",
       " ('Кызыл', '46600'),\n",
       " ('Липецк', '42000'),\n",
       " ('Магадан', '95200'),\n",
       " ('Магас', '40300'),\n",
       " ('Магнитогорск', '44900'),\n",
       " ('Майкоп', '32300'),\n",
       " ('Махачкала', '34400'),\n",
       " ('Москва', '113600'),\n",
       " ('Мурманск', '73100'),\n",
       " ('Набережные Челны', '39300'),\n",
       " ('Нальчик', '31600'),\n",
       " ('Нарьян-Мар', '77900'),\n",
       " ('Нижневартовск', '68400'),\n",
       " ('Нижний Новгород', '48000'),\n",
       " ('Нижний Тагил', '39200'),\n",
       " ('Новокузнецк', '46600'),\n",
       " ('Новороссийск', '47900'),\n",
       " ('Новосибирск', '48200'),\n",
       " ('Омск', '41500'),\n",
       " ('Оренбург', '41500'),\n",
       " ('Орёл', '34100'),\n",
       " ('Пенза', '35800'),\n",
       " ('Пермь', '46300'),\n",
       " ('Петрозаводск', '48800'),\n",
       " ('Петропавловск-Камчатский', '93600'),\n",
       " ('Подольск', '60300'),\n",
       " ('Псков', '35600'),\n",
       " ('Ростов-на-Дону', '45200'),\n",
       " ('Рязань', '40700'),\n",
       " ('Салехард', '106400'),\n",
       " ('Самара', '44500'),\n",
       " ('Санкт-Петербург', '74400'),\n",
       " ('Саранск', '32500'),\n",
       " ('Саратов', '39100'),\n",
       " ('Севастополь', '38500'),\n",
       " ('Симферополь', '38400'),\n",
       " ('Смоленск', '35600'),\n",
       " ('Сочи', '43700'),\n",
       " ('Ставрополь', '38100'),\n",
       " ('Стерлитамак', '35300'),\n",
       " ('Сургут', '83400'),\n",
       " ('Сыктывкар', '49500'),\n",
       " ('Таганрог', '34700'),\n",
       " ('Тамбов', '33100'),\n",
       " ('Тверь', '42300'),\n",
       " ('Тольятти', '38600'),\n",
       " ('Томск', '50300'),\n",
       " ('Тула', '44100'),\n",
       " ('Тюмень', '60100'),\n",
       " ('Улан-Удэ', '42600'),\n",
       " ('Ульяновск', '35800'),\n",
       " ('Уфа', '48300'),\n",
       " ('Хабаровск', '59600'),\n",
       " ('Ханты-Мансийск', '88300'),\n",
       " ('Чебоксары', '36000'),\n",
       " ('Челябинск', '42000'),\n",
       " ('Череповец', '50500'),\n",
       " ('Черкесск', '33100'),\n",
       " ('Чита', '47500'),\n",
       " ('Элиста', '31700'),\n",
       " ('Южно-Сахалинск', '99000'),\n",
       " ('Якутск', '74400'),\n",
       " ('Ярославль', '42000')]"
      ]
     },
     "execution_count": 62,
     "metadata": {},
     "output_type": "execute_result"
    }
   ],
   "source": [
    "city_sal.sort(key=lambda x: x[0])\n",
    "city_sal"
   ]
  },
  {
   "cell_type": "code",
   "execution_count": 57,
   "id": "6bd47540-d4f3-49b0-9bb5-1b1feeaf0c6b",
   "metadata": {
    "tags": []
   },
   "outputs": [],
   "source": [
    "pd.DataFrame(city_sal, columns=['city', 'mean_salary']).sort_values('city').to_csv('city_salary.csv', index=False)"
   ]
  },
  {
   "cell_type": "code",
   "execution_count": 8,
   "id": "8176cea2-9ea4-4a42-addc-5bf8edc55b45",
   "metadata": {
    "tags": []
   },
   "outputs": [],
   "source": [
    "from selenium import webdriver\n",
    "from selenium.webdriver.chrome.options import Options as ChromeOptions\n",
    "from selenium.webdriver.common.by import By\n",
    "from selenium.common.exceptions import StaleElementReferenceException\n",
    "import pandas as pd\n",
    "from tqdm import tqdm\n",
    "import time\n",
    "from collections import defaultdict"
   ]
  },
  {
   "cell_type": "code",
   "execution_count": 5,
   "id": "c58ca3a5-4355-40fa-8f4f-2da2ecafd676",
   "metadata": {
    "tags": []
   },
   "outputs": [
    {
     "name": "stderr",
     "output_type": "stream",
     "text": [
      "Exception managing chrome: error sending request for url (https://googlechromelabs.github.io/chrome-for-testing/last-known-good-versions-with-downloads.json)\n",
      "Exception managing chrome: error sending request for url (https://googlechromelabs.github.io/chrome-for-testing/last-known-good-versions-with-downloads.json)\n",
      "The chromedriver version (130.0.6723.116) detected in PATH at ./chromedriver might not be compatible with the detected chrome version (); currently, chromedriver  is recommended for chrome .*, so it is advised to delete the driver in PATH and retry\n",
      "There was an error managing chrome; using browser found in the cache\n"
     ]
    }
   ],
   "source": [
    "chrome_options = ChromeOptions()\n",
    "driver = webdriver.Chrome(options=chrome_options)"
   ]
  },
  {
   "cell_type": "code",
   "execution_count": 21,
   "id": "9329e6a7-617b-4632-b5c6-1d3709b94b6c",
   "metadata": {
    "tags": []
   },
   "outputs": [
    {
     "data": {
      "text/plain": [
       "'what time is it now'"
      ]
     },
     "execution_count": 21,
     "metadata": {},
     "output_type": "execute_result"
    }
   ],
   "source": [
    "driver.get(f\"https://www.m-translate.org/translator/text#text=test&direction=ru-en\")\n",
    "driver.find_element(By.ID, \"text\").clear()\n",
    "driver.find_element(By.ID, \"text\").send_keys(\"сколько сейчас времени\")\n",
    "driver.find_element(By.ID, \"go_btn\").click()\n",
    "while driver.find_element(By.ID, \"text_out\").get_attribute(\"value\") == \"\":\n",
    "    time.sleep(0.2)\n",
    "driver.find_element(By.ID, \"text_out\").get_attribute(\"value\")"
   ]
  },
  {
   "cell_type": "code",
   "execution_count": 32,
   "id": "c0df0df9-0073-4dbd-87a7-6626e93fbaa0",
   "metadata": {
    "tags": []
   },
   "outputs": [
    {
     "name": "stdout",
     "output_type": "stream",
     "text": [
      "-----------\n",
      "-----------\n",
      "-----------\n",
      "-----------\n",
      "-----------\n",
      "-----------\n",
      "-----------\n",
      "-----------\n",
      "-----------\n",
      "-----------\n",
      "-----------\n",
      "-----------\n",
      "-----------\n",
      "-----------\n",
      "-----------\n",
      "-----------\n",
      "-----------\n",
      "-----------\n",
      "-----------\n",
      "-----------\n",
      "-----------\n",
      "-----------\n",
      "-----------\n",
      "-----------\n",
      "-----------\n",
      "-----------\n",
      "-----------\n",
      "-----------\n",
      "-----------\n",
      "-----------\n",
      "-----------\n",
      "-----------\n",
      "-----------\n",
      "-----------\n",
      "-----------\n",
      "-----------\n",
      "-----------\n",
      "-----------\n",
      "-----------\n",
      "-----------\n",
      "-----------\n",
      "-----------\n",
      "-----------\n",
      "-----------\n",
      "-----------\n",
      "-----------\n",
      "-----------\n",
      "-----------\n",
      "-----------\n",
      "-----------\n",
      "-----------\n",
      "-----------\n"
     ]
    }
   ],
   "source": [
    "model_link = defaultdict(list)\n",
    "driver.get(f\"https://automobili.ru/cars/catalog/\")\n",
    "\n",
    "brand_links = driver.find_elements(By.CLASS_NAME, 'car-brand-link')\n",
    "links_count = len(brand_links)\n",
    "c = 2\n",
    "for i in range(links_count):\n",
    "    try:\n",
    "        c -= 1\n",
    "        # if c < 0:\n",
    "        #     break\n",
    "        link = brand_links[i]\n",
    "        link.click()\n",
    "        time.sleep(.5)\n",
    "        model_titles = driver.find_elements(By.CLASS_NAME, 'model-item__title')\n",
    "        model = driver.find_element(By.CLASS_NAME, 'h1').text\n",
    "        # Обрабатываем найденные элементы\n",
    "        for title in model_titles:\n",
    "            # model_link.append((title.text, title.get_attribute('href')))\n",
    "            model_link['link'].append(title.get_attribute('href'))\n",
    "            model_link['model'].append(f\"{model.lower().replace(' ', '_')} {title.text.lower().replace(' ', '-')}\")\n",
    "        driver.back()\n",
    "        time.sleep(.5)\n",
    "        brand_links = driver.find_elements(By.CLASS_NAME, 'car-brand-link')\n",
    "    except StaleElementReferenceException:\n",
    "        print(\"Элемент стал недействительным. Пропускаем.\")"
   ]
  },
  {
   "cell_type": "code",
   "execution_count": 30,
   "id": "56564f14-80fe-4601-93c6-f5234d64a7c7",
   "metadata": {
    "tags": []
   },
   "outputs": [
    {
     "data": {
      "text/plain": [
       "defaultdict(list,\n",
       "            {'link': ['https://automobili.ru/cars/catalog/aston_martin/vantage/',\n",
       "              'https://automobili.ru/cars/catalog/aston_martin/db11/',\n",
       "              'https://automobili.ru/cars/catalog/aston_martin/dbs-superleggera/',\n",
       "              'https://automobili.ru/cars/catalog/audi/a3/',\n",
       "              'https://automobili.ru/cars/catalog/audi/a4/',\n",
       "              'https://automobili.ru/cars/catalog/audi/a4_allroad/',\n",
       "              'https://automobili.ru/cars/catalog/audi/rs4-avant/',\n",
       "              'https://automobili.ru/cars/catalog/audi/a5/',\n",
       "              'https://automobili.ru/cars/catalog/audi/s5/',\n",
       "              'https://automobili.ru/cars/catalog/audi/rs-5/',\n",
       "              'https://automobili.ru/cars/catalog/audi/a6/',\n",
       "              'https://automobili.ru/cars/catalog/audi/a7/',\n",
       "              'https://automobili.ru/cars/catalog/audi/a8/',\n",
       "              'https://automobili.ru/cars/catalog/audi/q3/',\n",
       "              'https://automobili.ru/cars/catalog/audi/Q5/',\n",
       "              'https://automobili.ru/cars/catalog/audi/sq5/',\n",
       "              'https://automobili.ru/cars/catalog/audi/q7/',\n",
       "              'https://automobili.ru/cars/catalog/audi/q8/'],\n",
       "             'model': ['aston_martin vantage',\n",
       "              'aston_martin db11',\n",
       "              'aston_martin dbs-superleggera',\n",
       "              'audi a3',\n",
       "              'audi a4',\n",
       "              'audi a4-allroad',\n",
       "              'audi rs4-avant',\n",
       "              'audi a5',\n",
       "              'audi s5',\n",
       "              'audi rs-5',\n",
       "              'audi a6',\n",
       "              'audi a7',\n",
       "              'audi a8',\n",
       "              'audi q3',\n",
       "              'audi q5',\n",
       "              'audi sq5',\n",
       "              'audi q7',\n",
       "              'audi q8']})"
      ]
     },
     "execution_count": 30,
     "metadata": {},
     "output_type": "execute_result"
    }
   ],
   "source": [
    "model_link"
   ]
  },
  {
   "cell_type": "code",
   "execution_count": 34,
   "id": "595c2343-8147-4cc2-908f-f09806441939",
   "metadata": {
    "tags": []
   },
   "outputs": [],
   "source": [
    "pd.DataFrame(model_link).sort_values(by=['model', 'link']).reset_index(drop=1).to_csv('avto_parsing_1.csv', index=False)"
   ]
  },
  {
   "cell_type": "code",
   "execution_count": 36,
   "id": "083dc290-6119-44fd-8390-8ffb8cd2e1d3",
   "metadata": {
    "tags": []
   },
   "outputs": [],
   "source": [
    "df_parsing = pd.DataFrame(model_link).sort_values(by=['model', 'link']).reset_index(drop=1)"
   ]
  },
  {
   "cell_type": "code",
   "execution_count": 46,
   "id": "3320f61a-bbd4-45bb-8545-9b9bc4d60d8e",
   "metadata": {
    "tags": []
   },
   "outputs": [],
   "source": [
    "def lcs(str1: str, str2:str) -> int:\n",
    "    dp = [[0 for c in range(len(str2)+1)] for r in range(len(str1) + 1)]\n",
    "    \n",
    "    for i in range(len(str1) - 1, -1, -1):\n",
    "        for j in range(len(str2) - 1, -1, -1):\n",
    "            if str1[i] == str2[j]:\n",
    "                dp[i][j] = 1 + dp[i+1][j+1]\n",
    "            else:\n",
    "                dp[i][j] = max(dp[i][j+1], dp[i+1][j])\n",
    "                \n",
    "    return dp[0][0]"
   ]
  },
  {
   "cell_type": "code",
   "execution_count": 128,
   "id": "76833cb6-7243-4416-b173-27834657c85c",
   "metadata": {
    "tags": []
   },
   "outputs": [
    {
     "data": {
      "text/plain": [
       "array(['Kia Rio X-line', 'VW Polo VI', 'Renault Sandero',\n",
       "       'Mercedes-Benz GLC', 'Skoda Rapid', 'Nissan Qashqai',\n",
       "       'Tesla Model 3', 'Kia Sportage', 'Smart ForFour', 'VW Polo',\n",
       "       'Kia Rio', 'Smart Coupe', 'VW Tiguan', 'Smart ForTwo', 'Kia Rio X',\n",
       "       'Mercedes-Benz E200', 'Renault Kaptur', 'Mini Cooper',\n",
       "       'Hyundai Solaris', 'Volkswagen ID.4 ', 'Fiat 500', 'BMW 320i',\n",
       "       'Audi A4', 'Audi Q3', 'Audi A3', 'MINI CooperSE'], dtype=object)"
      ]
     },
     "execution_count": 128,
     "metadata": {},
     "output_type": "execute_result"
    }
   ],
   "source": [
    "cars = pd.read_csv('data/quickstart_train.csv')\n",
    "cars.model.unique()"
   ]
  },
  {
   "cell_type": "code",
   "execution_count": 129,
   "id": "bb23462a-83fa-45c2-9c8a-880fe9547970",
   "metadata": {
    "tags": []
   },
   "outputs": [],
   "source": [
    "cars['model'] = cars.model.replace(r'VW ', 'Volkswagen', regex=True)"
   ]
  },
  {
   "cell_type": "code",
   "execution_count": 130,
   "id": "22fac358-0ab3-4e93-9d0f-ba834fe9dd3e",
   "metadata": {
    "tags": []
   },
   "outputs": [
    {
     "data": {
      "text/plain": [
       "array(['Kia Rio X-line', 'VolkswagenPolo VI', 'Renault Sandero',\n",
       "       'Mercedes-Benz GLC', 'Skoda Rapid', 'Nissan Qashqai',\n",
       "       'Tesla Model 3', 'Kia Sportage', 'Smart ForFour', 'VolkswagenPolo',\n",
       "       'Kia Rio', 'Smart Coupe', 'VolkswagenTiguan', 'Smart ForTwo',\n",
       "       'Kia Rio X', 'Mercedes-Benz E200', 'Renault Kaptur', 'Mini Cooper',\n",
       "       'Hyundai Solaris', 'Volkswagen ID.4 ', 'Fiat 500', 'BMW 320i',\n",
       "       'Audi A4', 'Audi Q3', 'Audi A3', 'MINI CooperSE'], dtype=object)"
      ]
     },
     "execution_count": 130,
     "metadata": {},
     "output_type": "execute_result"
    }
   ],
   "source": [
    "cars.model.unique()"
   ]
  },
  {
   "cell_type": "code",
   "execution_count": 116,
   "id": "3889ca3a-bcbb-4ae3-8ede-7b5c9b555b36",
   "metadata": {
    "tags": []
   },
   "outputs": [],
   "source": [
    "data = []\n",
    "uniq = cars.model.unique()\n",
    "uniq.sort()\n",
    "for car in uniq:\n",
    "    str1 = car.lower().replace(' ', '').replace('-', '')\n",
    "    for _, link, name in df_parsing.itertuples():\n",
    "        str2 = name.replace(' ', '').replace('_', '').replace('-', '')\n",
    "        if lcs(str1, str2)/len(str1) == 1:\n",
    "            data.append((str1, str2, link))\n",
    "            break\n",
    "        "
   ]
  },
  {
   "cell_type": "code",
   "execution_count": 117,
   "id": "3d61332a-a3d5-4e7f-8bfc-5c0d29a19ad1",
   "metadata": {
    "tags": []
   },
   "outputs": [
    {
     "data": {
      "text/html": [
       "<div>\n",
       "<style scoped>\n",
       "    .dataframe tbody tr th:only-of-type {\n",
       "        vertical-align: middle;\n",
       "    }\n",
       "\n",
       "    .dataframe tbody tr th {\n",
       "        vertical-align: top;\n",
       "    }\n",
       "\n",
       "    .dataframe thead th {\n",
       "        text-align: right;\n",
       "    }\n",
       "</style>\n",
       "<table border=\"1\" class=\"dataframe\">\n",
       "  <thead>\n",
       "    <tr style=\"text-align: right;\">\n",
       "      <th></th>\n",
       "      <th>0</th>\n",
       "      <th>1</th>\n",
       "      <th>2</th>\n",
       "    </tr>\n",
       "  </thead>\n",
       "  <tbody>\n",
       "    <tr>\n",
       "      <th>0</th>\n",
       "      <td>audia3</td>\n",
       "      <td>audia3</td>\n",
       "      <td>https://automobili.ru/cars/catalog/audi/a3/</td>\n",
       "    </tr>\n",
       "    <tr>\n",
       "      <th>1</th>\n",
       "      <td>audia4</td>\n",
       "      <td>audia4</td>\n",
       "      <td>https://automobili.ru/cars/catalog/audi/a4/</td>\n",
       "    </tr>\n",
       "    <tr>\n",
       "      <th>2</th>\n",
       "      <td>audiq3</td>\n",
       "      <td>audiq3</td>\n",
       "      <td>https://automobili.ru/cars/catalog/audi/q3/</td>\n",
       "    </tr>\n",
       "    <tr>\n",
       "      <th>3</th>\n",
       "      <td>fiat500</td>\n",
       "      <td>fiat500</td>\n",
       "      <td>https://automobili.ru/cars/catalog/fiat/50049d...</td>\n",
       "    </tr>\n",
       "    <tr>\n",
       "      <th>4</th>\n",
       "      <td>hyundaisolaris</td>\n",
       "      <td>hyundaisolaris</td>\n",
       "      <td>https://automobili.ru/cars/catalog/hyundai/sol...</td>\n",
       "    </tr>\n",
       "    <tr>\n",
       "      <th>5</th>\n",
       "      <td>kiario</td>\n",
       "      <td>kiario</td>\n",
       "      <td>https://automobili.ru/cars/catalog/kia/rio_new/</td>\n",
       "    </tr>\n",
       "    <tr>\n",
       "      <th>6</th>\n",
       "      <td>kiariox</td>\n",
       "      <td>kiariox</td>\n",
       "      <td>https://automobili.ru/cars/catalog/kia/rio-x-l...</td>\n",
       "    </tr>\n",
       "    <tr>\n",
       "      <th>7</th>\n",
       "      <td>kiasportage</td>\n",
       "      <td>kiasportage</td>\n",
       "      <td>https://automobili.ru/cars/catalog/kia/sportage/</td>\n",
       "    </tr>\n",
       "    <tr>\n",
       "      <th>8</th>\n",
       "      <td>mercedesbenzglc</td>\n",
       "      <td>mercedesbenzglc</td>\n",
       "      <td>https://automobili.ru/cars/catalog/mercedes-be...</td>\n",
       "    </tr>\n",
       "    <tr>\n",
       "      <th>9</th>\n",
       "      <td>minicooper</td>\n",
       "      <td>minijohncooperworksclubman</td>\n",
       "      <td>https://automobili.ru/cars/catalog/mini/JCW-Cl...</td>\n",
       "    </tr>\n",
       "    <tr>\n",
       "      <th>10</th>\n",
       "      <td>nissanqashqai</td>\n",
       "      <td>nissanqashqai</td>\n",
       "      <td>https://automobili.ru/cars/catalog/nissan/qash...</td>\n",
       "    </tr>\n",
       "    <tr>\n",
       "      <th>11</th>\n",
       "      <td>renaultkaptur</td>\n",
       "      <td>renaultkaptur</td>\n",
       "      <td>https://automobili.ru/cars/catalog/renault/kap...</td>\n",
       "    </tr>\n",
       "    <tr>\n",
       "      <th>12</th>\n",
       "      <td>renaultsandero</td>\n",
       "      <td>renaultsandero</td>\n",
       "      <td>https://automobili.ru/cars/catalog/renault/san...</td>\n",
       "    </tr>\n",
       "    <tr>\n",
       "      <th>13</th>\n",
       "      <td>skodarapid</td>\n",
       "      <td>skodarapid</td>\n",
       "      <td>https://automobili.ru/cars/catalog/skoda/rapid/</td>\n",
       "    </tr>\n",
       "    <tr>\n",
       "      <th>14</th>\n",
       "      <td>smartforfour</td>\n",
       "      <td>smartforfour</td>\n",
       "      <td>https://automobili.ru/cars/catalog/smart/forfour/</td>\n",
       "    </tr>\n",
       "    <tr>\n",
       "      <th>15</th>\n",
       "      <td>smartfortwo</td>\n",
       "      <td>smartfortwo</td>\n",
       "      <td>https://automobili.ru/cars/catalog/smart/Fortwo/</td>\n",
       "    </tr>\n",
       "    <tr>\n",
       "      <th>16</th>\n",
       "      <td>vwpolo</td>\n",
       "      <td>volkswagenpolo</td>\n",
       "      <td>https://automobili.ru/cars/catalog/volkswagen/...</td>\n",
       "    </tr>\n",
       "    <tr>\n",
       "      <th>17</th>\n",
       "      <td>vwtiguan</td>\n",
       "      <td>volkswagentiguan</td>\n",
       "      <td>https://automobili.ru/cars/catalog/volkswagen/...</td>\n",
       "    </tr>\n",
       "  </tbody>\n",
       "</table>\n",
       "</div>"
      ],
      "text/plain": [
       "                  0                           1  \\\n",
       "0            audia3                      audia3   \n",
       "1            audia4                      audia4   \n",
       "2            audiq3                      audiq3   \n",
       "3           fiat500                     fiat500   \n",
       "4    hyundaisolaris              hyundaisolaris   \n",
       "5            kiario                      kiario   \n",
       "6           kiariox                     kiariox   \n",
       "7       kiasportage                 kiasportage   \n",
       "8   mercedesbenzglc             mercedesbenzglc   \n",
       "9        minicooper  minijohncooperworksclubman   \n",
       "10    nissanqashqai               nissanqashqai   \n",
       "11    renaultkaptur               renaultkaptur   \n",
       "12   renaultsandero              renaultsandero   \n",
       "13       skodarapid                  skodarapid   \n",
       "14     smartforfour                smartforfour   \n",
       "15      smartfortwo                 smartfortwo   \n",
       "16           vwpolo              volkswagenpolo   \n",
       "17         vwtiguan            volkswagentiguan   \n",
       "\n",
       "                                                    2  \n",
       "0         https://automobili.ru/cars/catalog/audi/a3/  \n",
       "1         https://automobili.ru/cars/catalog/audi/a4/  \n",
       "2         https://automobili.ru/cars/catalog/audi/q3/  \n",
       "3   https://automobili.ru/cars/catalog/fiat/50049d...  \n",
       "4   https://automobili.ru/cars/catalog/hyundai/sol...  \n",
       "5     https://automobili.ru/cars/catalog/kia/rio_new/  \n",
       "6   https://automobili.ru/cars/catalog/kia/rio-x-l...  \n",
       "7    https://automobili.ru/cars/catalog/kia/sportage/  \n",
       "8   https://automobili.ru/cars/catalog/mercedes-be...  \n",
       "9   https://automobili.ru/cars/catalog/mini/JCW-Cl...  \n",
       "10  https://automobili.ru/cars/catalog/nissan/qash...  \n",
       "11  https://automobili.ru/cars/catalog/renault/kap...  \n",
       "12  https://automobili.ru/cars/catalog/renault/san...  \n",
       "13    https://automobili.ru/cars/catalog/skoda/rapid/  \n",
       "14  https://automobili.ru/cars/catalog/smart/forfour/  \n",
       "15   https://automobili.ru/cars/catalog/smart/Fortwo/  \n",
       "16  https://automobili.ru/cars/catalog/volkswagen/...  \n",
       "17  https://automobili.ru/cars/catalog/volkswagen/...  "
      ]
     },
     "execution_count": 117,
     "metadata": {},
     "output_type": "execute_result"
    }
   ],
   "source": [
    "pd.DataFrame(data)"
   ]
  },
  {
   "cell_type": "code",
   "execution_count": null,
   "id": "0ec935a9-c5d0-4b4e-941e-1b62e9814e05",
   "metadata": {},
   "outputs": [],
   "source": []
  }
 ],
 "metadata": {
  "kernelspec": {
   "display_name": "Python 3 (ipykernel)",
   "language": "python",
   "name": "python3"
  },
  "language_info": {
   "codemirror_mode": {
    "name": "ipython",
    "version": 3
   },
   "file_extension": ".py",
   "mimetype": "text/x-python",
   "name": "python",
   "nbconvert_exporter": "python",
   "pygments_lexer": "ipython3",
   "version": "3.10.14"
  }
 },
 "nbformat": 4,
 "nbformat_minor": 5
}
